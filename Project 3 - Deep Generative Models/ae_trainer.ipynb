{
 "cells": [
  {
   "cell_type": "code",
   "execution_count": 1,
   "metadata": {},
   "outputs": [
    {
     "name": "stderr",
     "output_type": "stream",
     "text": [
      "/usr/lib/python3/dist-packages/requests/__init__.py:89: RequestsDependencyWarning: urllib3 (1.26.15) or chardet (3.0.4) doesn't match a supported version!\n",
      "  warnings.warn(\"urllib3 ({}) or chardet ({}) doesn't match a supported \"\n"
     ]
    }
   ],
   "source": [
    "import numpy as np\n",
    "import matplotlib.pyplot as plt\n",
    "\n",
    "from stacked_mnist import StackedMNISTData, DataMode\n",
    "from models.auto_encoder import AutoEncoder\n",
    "from models.mnist_classifier import MNISTClassifier\n",
    "\n",
    "import torch\n",
    "import torch.nn as nn\n",
    "from torch.utils.data import TensorDataset, DataLoader\n",
    "\n",
    "from utils import *"
   ]
  },
  {
   "cell_type": "code",
   "execution_count": 2,
   "metadata": {},
   "outputs": [],
   "source": [
    "# Using the provided mnist dataset class\n",
    "gen = StackedMNISTData(mode=DataMode.MONO_BINARY_COMPLETE, default_batch_size=9)\n",
    "\n",
    "train_data = gen.get_full_data_set(training=True)\n",
    "test_data = gen.get_full_data_set(training=False)"
   ]
  },
  {
   "cell_type": "code",
   "execution_count": 3,
   "metadata": {},
   "outputs": [
    {
     "data": {
      "text/plain": [
       "((60000, 28, 28, 1), (10000, 28, 28, 1))"
      ]
     },
     "execution_count": 3,
     "metadata": {},
     "output_type": "execute_result"
    }
   ],
   "source": [
    "train_data[0].shape, test_data[0].shape"
   ]
  },
  {
   "cell_type": "code",
   "execution_count": 4,
   "metadata": {},
   "outputs": [
    {
     "name": "stdout",
     "output_type": "stream",
     "text": [
      "(60000, 28, 28, 1) (60000,)\n",
      "(10000, 28, 28, 1) (10000,)\n",
      "(28, 28, 1)\n",
      "[0. 0. 0. 0. 0. 0. 0. 0. 0. 1.]\n",
      "9\n"
     ]
    },
    {
     "data": {
      "text/plain": [
       "<matplotlib.image.AxesImage at 0x7f15027e64f0>"
      ]
     },
     "execution_count": 4,
     "metadata": {},
     "output_type": "execute_result"
    },
    {
     "data": {
      "image/png": "[encoded data removed]",
      "text/plain": [
       "<Figure size 900x600 with 1 Axes>"
      ]
     },
     "metadata": {
      "needs_background": "light"
     },
     "output_type": "display_data"
    }
   ],
   "source": [
    "x_train, y_train = train_data\n",
    "x_test, y_test = test_data\n",
    "print(x_train.shape, y_train.shape)\n",
    "print(x_test.shape, y_test.shape)\n",
    "\n",
    "# Convert y_train and y_test into one-hot vectors\n",
    "y_train = to_one_hot(y_train)\n",
    "y_test = to_one_hot(y_test)\n",
    "\n",
    "rand = np.random.randint(0, x_train.shape[0])\n",
    "img = x_train[rand]\n",
    "label = y_train[rand]\n",
    "print(img.shape)\n",
    "\n",
    "print(label)\n",
    "print(label.argmax())\n",
    "plt.figure(figsize=(6, 4), dpi=150)\n",
    "plt.imshow(img.squeeze(), cmap=\"gray\")"
   ]
  },
  {
   "cell_type": "code",
   "execution_count": 5,
   "metadata": {},
   "outputs": [],
   "source": [
    "# Create pytorch dataloaders from x_train and y_train\n",
    "x_train = torch.from_numpy(x_train.astype(np.float32)).permute(0, 3, 1, 2)\n",
    "y_train = torch.from_numpy(y_train.astype(np.float32))\n",
    "\n",
    "train_dataset = TensorDataset(x_train, y_train)\n",
    "train_loader = DataLoader(dataset=train_dataset, batch_size=32, shuffle=True)\n",
    "\n",
    "# Create pytorch dataloaders from x_test and y_test\n",
    "x_test = torch.from_numpy(x_test.astype(np.float32)).permute(0, 3, 1, 2)\n",
    "y_test = torch.from_numpy(y_test.astype(np.float32))\n",
    "\n",
    "test_dataset = TensorDataset(x_test, y_test)\n",
    "test_loader = DataLoader(dataset=test_dataset, batch_size=32)"
   ]
  },
  {
   "cell_type": "code",
   "execution_count": 6,
   "metadata": {},
   "outputs": [
    {
     "data": {
      "text/plain": [
       "device(type='cuda')"
      ]
     },
     "execution_count": 6,
     "metadata": {},
     "output_type": "execute_result"
    }
   ],
   "source": [
    "device = torch.device(\"cuda\" if torch.cuda.is_available() else \"cpu\")\n",
    "device"
   ]
  },
  {
   "cell_type": "code",
   "execution_count": 7,
   "metadata": {},
   "outputs": [
    {
     "name": "stdout",
     "output_type": "stream",
     "text": [
      "Epoch: 0, Loss: 0.1587194870789846\n",
      "Test Loss: 0.08708423909287864\n",
      "Epoch: 1, Loss: 0.07355333350896835\n",
      "Test Loss: 0.06394589925631167\n",
      "Epoch: 2, Loss: 0.05849806056022644\n",
      "Test Loss: 0.0522962500350163\n",
      "Epoch: 3, Loss: 0.05108928081790606\n",
      "Test Loss: 0.04749229580116348\n",
      "Epoch: 4, Loss: 0.04596046566168467\n",
      "Test Loss: 0.04363117177789204\n",
      "Epoch: 5, Loss: 0.04182139764030775\n",
      "Test Loss: 0.039710302816364715\n",
      "Epoch: 6, Loss: 0.0388586125522852\n",
      "Test Loss: 0.036736163950432985\n",
      "Epoch: 7, Loss: 0.036551261965433755\n",
      "Test Loss: 0.03582839280985796\n",
      "Epoch: 8, Loss: 0.034745329269766805\n",
      "Test Loss: 0.033947356051197065\n",
      "Epoch: 9, Loss: 0.03320345976849397\n",
      "Test Loss: 0.03297120835572576\n",
      "Epoch: 10, Loss: 0.03182298343678316\n",
      "Test Loss: 0.03141007503976647\n",
      "Epoch: 11, Loss: 0.030512909763058028\n",
      "Test Loss: 0.030092144878908468\n",
      "Epoch: 12, Loss: 0.0294494388371706\n",
      "Test Loss: 0.030552652923348612\n",
      "Epoch: 13, Loss: 0.028455919909477233\n",
      "Test Loss: 0.028342139315062437\n",
      "Epoch: 14, Loss: 0.027533743370572725\n",
      "Test Loss: 0.026985272580680376\n",
      "Epoch: 15, Loss: 0.026771787103017173\n",
      "Test Loss: 0.026795439862500364\n",
      "Epoch: 16, Loss: 0.02601513894200325\n",
      "Test Loss: 0.02596994905699842\n",
      "Epoch: 17, Loss: 0.025321135303378105\n",
      "Test Loss: 0.025346596618168078\n",
      "Epoch: 18, Loss: 0.02472456279893716\n",
      "Test Loss: 0.025333057946195236\n",
      "Epoch: 19, Loss: 0.024129041838645934\n",
      "Test Loss: 0.024748804238133918\n",
      "Epoch: 20, Loss: 0.023555926247437794\n",
      "Test Loss: 0.023810215672245994\n",
      "Epoch: 21, Loss: 0.02305445212225119\n",
      "Test Loss: 0.022939217023956127\n",
      "Epoch: 22, Loss: 0.022430227352678776\n",
      "Test Loss: 0.023523148803855663\n",
      "Epoch: 23, Loss: 0.022020582690835\n",
      "Test Loss: 0.02265554499892762\n",
      "Epoch: 24, Loss: 0.021502019038299718\n",
      "Test Loss: 0.022024197373003623\n",
      "Epoch: 25, Loss: 0.02114163560618957\n",
      "Test Loss: 0.021062251534491493\n",
      "Epoch: 26, Loss: 0.020686147410670916\n",
      "Test Loss: 0.021716365947748145\n",
      "Epoch: 27, Loss: 0.020306799849867822\n",
      "Test Loss: 0.020796520689044137\n",
      "Epoch: 28, Loss: 0.019953838042914868\n",
      "Test Loss: 0.02116303902250319\n",
      "Epoch: 29, Loss: 0.01955379291921854\n",
      "Test Loss: 0.020416748992646463\n",
      "Epoch: 30, Loss: 0.019239101781944434\n",
      "Test Loss: 0.019881671770645405\n",
      "Epoch: 31, Loss: 0.018899745107690494\n",
      "Test Loss: 0.019715525046252784\n",
      "Epoch: 32, Loss: 0.018579107521971068\n",
      "Test Loss: 0.019673377489700866\n",
      "Epoch: 33, Loss: 0.018283865664402644\n",
      "Test Loss: 0.01947630580348043\n",
      "Epoch: 34, Loss: 0.017991812840104104\n",
      "Test Loss: 0.019113841032186826\n",
      "Epoch: 35, Loss: 0.01769099439928929\n",
      "Test Loss: 0.01802563519267657\n",
      "Epoch: 36, Loss: 0.017431445372104646\n",
      "Test Loss: 0.018376915712659352\n",
      "Epoch: 37, Loss: 0.017176314913233123\n",
      "Test Loss: 0.018100962596246228\n",
      "Epoch: 38, Loss: 0.016950726055602234\n",
      "Test Loss: 0.017549878309150568\n",
      "Epoch: 39, Loss: 0.016690529497961203\n",
      "Test Loss: 0.017696366289826914\n",
      "Epoch: 40, Loss: 0.016518854852517445\n",
      "Test Loss: 0.017459234901177234\n",
      "Epoch: 41, Loss: 0.0162724094842871\n",
      "Test Loss: 0.0173299525010462\n",
      "Epoch: 42, Loss: 0.016124494912723702\n",
      "Test Loss: 0.016919512664690946\n",
      "Epoch: 43, Loss: 0.015885137796401976\n",
      "Test Loss: 0.016561489199666074\n",
      "Epoch: 44, Loss: 0.015686756274600824\n",
      "Test Loss: 0.01647560160976058\n",
      "Epoch: 45, Loss: 0.015517851456006367\n",
      "Test Loss: 0.01626731382427029\n",
      "Epoch: 46, Loss: 0.015320749748249849\n",
      "Test Loss: 0.01640067701064312\n",
      "Epoch: 47, Loss: 0.015177955994009971\n",
      "Test Loss: 0.01600912774648196\n",
      "Epoch: 48, Loss: 0.014966427837808927\n",
      "Test Loss: 0.01580525864623844\n",
      "Epoch: 49, Loss: 0.014856755903363227\n",
      "Test Loss: 0.01659201816343271\n",
      "Early Stopping...\n"
     ]
    }
   ],
   "source": [
    "# Training setup\n",
    "model = AutoEncoder(in_channels=1)\n",
    "model.to(device)\n",
    "optimizer = torch.optim.Adam(model.parameters(), lr=0.0005)\n",
    "criterion = nn.BCELoss()\n",
    "\n",
    "# Training the autoencoder\n",
    "val_losses = []\n",
    "\n",
    "for epoch in range(100):\n",
    "    model.train()\n",
    "    total_loss = 0\n",
    "    for images, _ in train_loader:\n",
    "        images = images.to(device)\n",
    "        optimizer.zero_grad()\n",
    "        output = model(images)\n",
    "        loss = criterion(output, images)\n",
    "        loss.backward()\n",
    "        optimizer.step()\n",
    "        total_loss += loss.item()\n",
    "    print(f\"Epoch: {epoch}, Loss: {total_loss / len(train_loader)}\")\n",
    "\n",
    "    # Test on test data\n",
    "    model.eval()\n",
    "    test_loss_sum = 0\n",
    "    with torch.no_grad():\n",
    "        for images, _ in test_loader:\n",
    "            images = images.to(device)\n",
    "            output = model(images)\n",
    "            loss = criterion(output, images)\n",
    "            test_loss_sum += loss.item()\n",
    "        \n",
    "        test_loss = test_loss_sum / len(test_loader)\n",
    "        print(f\"Test Loss: {test_loss}\")\n",
    "        if (len(val_losses) > 5) and all(test_loss >= x for x in val_losses[-3:]):\n",
    "            print(\"Early Stopping...\")\n",
    "            break\n",
    "        val_losses.append(test_loss)\n"
   ]
  },
  {
   "cell_type": "code",
   "execution_count": 8,
   "metadata": {},
   "outputs": [],
   "source": [
    "# Save the AutoEncoder model\n",
    "torch.save(model.state_dict(), \"trained_models/auto_encoder.pt\")"
   ]
  },
  {
   "cell_type": "code",
   "execution_count": 9,
   "metadata": {},
   "outputs": [
    {
     "name": "stdout",
     "output_type": "stream",
     "text": [
      "Test Loss: 0.016592018199138366\n"
     ]
    }
   ],
   "source": [
    "# Test the auto encoder\n",
    "model.eval()\n",
    "\n",
    "test_loss = 0\n",
    "\n",
    "with torch.no_grad():\n",
    "    for x, _ in test_loader:\n",
    "        x = x.to(device)\n",
    "        pred = model(x)\n",
    "        loss = criterion(pred, x)\n",
    "        test_loss += loss.item()\n",
    "\n",
    "print(f\"Test Loss: {test_loss / len(test_loader)}\")"
   ]
  },
  {
   "cell_type": "code",
   "execution_count": 10,
   "metadata": {},
   "outputs": [
    {
     "data": {
      "text/plain": [
       "<All keys matched successfully>"
      ]
     },
     "execution_count": 10,
     "metadata": {},
     "output_type": "execute_result"
    }
   ],
   "source": [
    "mnist_classifier = MNISTClassifier(1)\n",
    "mnist_classifier.load_state_dict(torch.load('trained_models/mnist_model.pt'))"
   ]
  },
  {
   "cell_type": "code",
   "execution_count": 11,
   "metadata": {},
   "outputs": [
    {
     "data": {
      "text/plain": [
       "MNISTClassifier(\n",
       "  (feature_extractor): Sequential(\n",
       "    (0): Conv2d(1, 16, kernel_size=(3, 3), stride=(1, 1), padding=(1, 1))\n",
       "    (1): ReLU()\n",
       "    (2): MaxPool2d(kernel_size=2, stride=2, padding=0, dilation=1, ceil_mode=False)\n",
       "    (3): Conv2d(16, 32, kernel_size=(3, 3), stride=(1, 1), padding=(1, 1))\n",
       "    (4): ReLU()\n",
       "    (5): Conv2d(32, 64, kernel_size=(3, 3), stride=(1, 1), padding=(1, 1))\n",
       "    (6): ReLU()\n",
       "    (7): MaxPool2d(kernel_size=2, stride=2, padding=0, dilation=1, ceil_mode=False)\n",
       "  )\n",
       "  (classifier): Sequential(\n",
       "    (0): Flatten(start_dim=1, end_dim=-1)\n",
       "    (1): Linear(in_features=3136, out_features=128, bias=True)\n",
       "    (2): ReLU()\n",
       "    (3): Linear(in_features=128, out_features=10, bias=True)\n",
       "  )\n",
       ")"
      ]
     },
     "execution_count": 11,
     "metadata": {},
     "output_type": "execute_result"
    }
   ],
   "source": [
    "mnist_classifier.to(device)"
   ]
  },
  {
   "cell_type": "code",
   "execution_count": 12,
   "metadata": {},
   "outputs": [
    {
     "name": "stdout",
     "output_type": "stream",
     "text": [
      "Accuracy: 98.66%\n"
     ]
    }
   ],
   "source": [
    "correct_preds = 0\n",
    "\n",
    "with torch.no_grad():\n",
    "    for x, y in test_loader:\n",
    "        x = x.to(device)\n",
    "        y = y.to(device)\n",
    "        ae_output = model(x)\n",
    "\n",
    "        ae_output_class = mnist_classifier(ae_output)\n",
    "        ae_output_class = ae_output_class.argmax(dim=1, keepdim=True)\n",
    "        truth = y.argmax(dim=1, keepdim=True)\n",
    "\n",
    "        correct_preds += ae_output_class.eq(truth.view_as(ae_output_class)).sum().item()\n",
    "\n",
    "    accuracy = correct_preds / len(test_loader.dataset)\n",
    "\n",
    "print(f\"Accuracy: {100*accuracy}%\")"
   ]
  },
  {
   "cell_type": "code",
   "execution_count": 13,
   "metadata": {},
   "outputs": [
    {
     "data": {
      "text/plain": [
       "(28, 28, 1)"
      ]
     },
     "execution_count": 13,
     "metadata": {},
     "output_type": "execute_result"
    }
   ],
   "source": [
    "img.shape"
   ]
  },
  {
   "attachments": {},
   "cell_type": "markdown",
   "metadata": {},
   "source": [
    "Some analysis of latent states from encoded images"
   ]
  },
  {
   "cell_type": "code",
   "execution_count": 14,
   "metadata": {},
   "outputs": [
    {
     "data": {
      "text/plain": [
       "19"
      ]
     },
     "execution_count": 14,
     "metadata": {},
     "output_type": "execute_result"
    }
   ],
   "source": [
    "rand = np.random.randint(0, 31)\n",
    "rand"
   ]
  },
  {
   "cell_type": "code",
   "execution_count": 15,
   "metadata": {},
   "outputs": [
    {
     "data": {
      "text/plain": [
       "torch.Size([32, 64])"
      ]
     },
     "execution_count": 15,
     "metadata": {},
     "output_type": "execute_result"
    }
   ],
   "source": [
    "with torch.no_grad():\n",
    "    i, (x, y) = next(enumerate(test_loader))\n",
    "    x = x.to(device)\n",
    "    y = y.to(device)\n",
    "    latent_state = model.encoder(x)\n",
    "\n",
    "latent_state.shape"
   ]
  },
  {
   "cell_type": "code",
   "execution_count": 16,
   "metadata": {},
   "outputs": [
    {
     "data": {
      "text/plain": [
       "(64,)"
      ]
     },
     "execution_count": 16,
     "metadata": {},
     "output_type": "execute_result"
    }
   ],
   "source": [
    "latent_state = latent_state[rand].squeeze().cpu().numpy()\n",
    "latent_state.shape"
   ]
  },
  {
   "cell_type": "code",
   "execution_count": 17,
   "metadata": {},
   "outputs": [
    {
     "data": {
      "image/png": "[encoded data removed]",
      "text/plain": [
       "<Figure size 900x600 with 1 Axes>"
      ]
     },
     "metadata": {
      "needs_background": "light"
     },
     "output_type": "display_data"
    }
   ],
   "source": [
    "plt.figure(figsize=(6, 4), dpi=150)\n",
    "plt.hist(latent_state, bins=50)\n",
    "plt.show()"
   ]
  }
 ],
 "metadata": {
  "kernelspec": {
   "display_name": "Python 3",
   "language": "python",
   "name": "python3"
  },
  "language_info": {
   "codemirror_mode": {
    "name": "ipython",
    "version": 3
   },
   "file_extension": ".py",
   "mimetype": "text/x-python",
   "name": "python",
   "nbconvert_exporter": "python",
   "pygments_lexer": "ipython3",
   "version": "3.8.10"
  },
  "orig_nbformat": 4,
  "vscode": {
   "interpreter": {
    "hash": "767d51c1340bd893661ea55ea3124f6de3c7a262a8b4abca0554b478b1e2ff90"
   }
  }
 },
 "nbformat": 4,
 "nbformat_minor": 2
}
