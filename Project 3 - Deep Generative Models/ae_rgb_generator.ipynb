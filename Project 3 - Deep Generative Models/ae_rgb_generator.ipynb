{
 "cells": [
  {
   "cell_type": "code",
   "execution_count": 1,
   "metadata": {},
   "outputs": [],
   "source": [
    "import numpy as np\n",
    "import matplotlib.pyplot as plt\n",
    "\n",
    "from stacked_mnist import StackedMNISTData, DataMode\n",
    "from models.auto_encoder import AutoEncoder\n",
    "from models.mnist_classifier import MNISTClassifier\n",
    "\n",
    "import torch\n",
    "import torch.nn as nn\n",
    "from torch.utils.data import TensorDataset, DataLoader\n",
    "import torch.nn.functional as F\n",
    "\n",
    "from utils import *"
   ]
  },
  {
   "cell_type": "code",
   "execution_count": 2,
   "metadata": {},
   "outputs": [
    {
     "data": {
      "text/plain": [
       "<All keys matched successfully>"
      ]
     },
     "execution_count": 2,
     "metadata": {},
     "output_type": "execute_result"
    }
   ],
   "source": [
    "model = AutoEncoder(in_channels=3)\n",
    "model.load_state_dict(torch.load('trained_models/auto_encoder_rgb.pt', map_location=torch.device('cpu')))"
   ]
  },
  {
   "cell_type": "code",
   "execution_count": 3,
   "metadata": {},
   "outputs": [
    {
     "data": {
      "text/plain": [
       "tensor([[-2.1873e+00,  1.9784e+00,  8.4675e-02,  3.2412e+00, -3.4256e-02,\n",
       "          1.1010e+00, -3.1095e+00, -1.6832e+00,  1.0813e+00, -3.0606e+00,\n",
       "          2.0791e+00, -4.2051e-01, -5.6889e-01, -1.3044e+00,  4.6590e+00,\n",
       "         -3.0838e+00],\n",
       "        [-1.9293e+00,  5.9016e-01,  1.4379e+00,  1.0710e+00,  1.8132e+00,\n",
       "          6.0668e-01, -3.0291e+00,  2.2384e-01,  1.4894e-02, -4.7057e+00,\n",
       "         -3.6190e+00, -5.4825e-01, -5.1255e-02, -5.6640e-01, -9.4537e-01,\n",
       "         -5.4754e-01],\n",
       "        [-4.0346e+00,  3.4902e+00,  2.8711e+00,  1.6029e+00, -1.9069e+00,\n",
       "         -1.0828e+00, -2.5993e+00,  1.2140e+00, -4.9311e-02, -2.4358e+00,\n",
       "         -3.3228e-01,  1.1169e+00, -1.1633e+00,  9.5444e-01,  2.1507e+00,\n",
       "         -1.1127e+00],\n",
       "        [-3.9143e+00,  1.2031e-01, -1.3705e+00,  3.7194e+00, -6.4611e-01,\n",
       "         -1.1344e+00, -2.6907e-01, -2.2743e+00,  6.6596e-01, -1.6856e+00,\n",
       "         -4.6292e+00,  1.9752e+00,  1.0046e-02, -8.7058e-01, -3.0361e-02,\n",
       "          5.7145e-01],\n",
       "        [-4.6914e+00,  9.6375e-01,  3.4583e+00,  3.0620e+00, -1.4272e+00,\n",
       "          1.2825e+00, -2.5460e+00, -2.7123e-01, -1.9813e-01, -1.0100e+00,\n",
       "         -4.5383e+00,  7.5372e-02,  1.7630e+00,  1.1552e+00,  2.3056e+00,\n",
       "         -1.3338e+00],\n",
       "        [-1.3350e+00,  4.5757e-01,  1.4800e+00,  1.4522e+00, -3.4880e+00,\n",
       "         -8.3656e-01, -5.6543e+00,  1.6188e+00,  6.1322e-01, -2.4725e+00,\n",
       "          4.3252e-01, -2.1765e+00,  1.8118e+00, -1.0945e+00,  4.2674e-02,\n",
       "          1.6167e-01],\n",
       "        [ 1.0247e+00, -6.9250e-01,  2.2121e+00,  3.2279e+00, -1.4215e+00,\n",
       "          1.0631e+00, -4.8808e+00, -8.1210e-01,  1.3065e+00,  2.1784e+00,\n",
       "         -3.2761e-01,  1.2244e+00, -1.7719e+00, -1.5079e+00, -2.1741e-01,\n",
       "          1.8342e+00],\n",
       "        [-3.7507e+00, -9.9462e-01,  1.9891e+00,  3.6734e+00,  1.7040e+00,\n",
       "         -7.1112e-01, -1.3549e+00,  7.8782e-01,  1.6621e+00, -3.1916e-01,\n",
       "         -6.2636e-01,  8.2946e-01, -8.7332e-01, -6.5779e-01,  1.6860e+00,\n",
       "         -1.1659e+00],\n",
       "        [-3.2482e+00, -2.2052e+00,  2.5019e+00, -1.5144e+00, -2.4309e+00,\n",
       "          1.1808e+00, -1.0748e+00, -1.2669e+00,  2.4269e+00, -2.8712e+00,\n",
       "         -1.4464e+00,  1.7686e+00, -4.7133e-01,  1.6660e+00,  2.5423e-01,\n",
       "         -2.7770e-01],\n",
       "        [-5.0529e+00, -1.6707e+00, -2.9698e+00, -1.0298e+00, -1.5666e+00,\n",
       "          5.5724e-01, -3.2616e+00, -5.2959e-01, -5.6528e-01, -1.3767e+00,\n",
       "         -5.6944e-01, -4.8383e-01, -1.3598e+00,  9.8260e-01, -5.0431e-02,\n",
       "         -2.3218e+00],\n",
       "        [-4.1717e+00, -7.3987e-01, -1.7310e+00,  3.5883e-03,  1.5678e+00,\n",
       "          1.1362e+00, -1.4216e+00,  1.6395e+00,  2.3217e+00, -2.4441e+00,\n",
       "         -1.4605e+00, -1.0124e+00, -5.5277e-01,  8.6210e-01,  2.2779e+00,\n",
       "          1.1922e+00],\n",
       "        [-3.4503e+00, -2.8558e+00,  2.1708e+00,  2.4183e-01,  6.4373e-01,\n",
       "          2.8380e-01,  1.1299e+00, -8.6305e-01,  1.1895e-01, -4.7000e+00,\n",
       "         -5.1377e-01,  1.7062e+00, -4.7193e+00, -7.1002e-01,  1.5580e+00,\n",
       "          6.8510e-01],\n",
       "        [-4.0655e+00,  1.8707e-01, -1.8592e+00,  8.5192e-01, -9.8456e-01,\n",
       "         -4.3967e+00, -3.2402e+00, -8.5047e-01,  1.8286e-01, -2.7691e+00,\n",
       "         -4.0558e+00, -8.5804e-01, -1.6999e+00, -3.0798e+00,  1.4440e-01,\n",
       "         -6.3331e-01],\n",
       "        [-5.1301e+00,  4.7926e+00,  2.2270e+00,  3.6067e+00,  1.8215e-01,\n",
       "         -8.2751e-01, -1.4295e+00, -9.3457e-01,  5.1447e-01, -2.6452e+00,\n",
       "          1.1895e+00,  1.8921e+00, -2.0425e-01, -5.8437e-01,  1.9936e+00,\n",
       "         -1.7463e+00],\n",
       "        [-2.1293e-01,  1.8750e+00, -2.2342e+00, -1.9498e+00, -1.8982e-01,\n",
       "          5.5747e+00, -9.0556e-01, -1.1769e+00,  9.1778e-01, -8.7878e-01,\n",
       "          8.4789e-01,  1.3471e+00,  1.9239e+00,  7.7574e-01,  1.0299e+00,\n",
       "         -1.3597e+00],\n",
       "        [-2.9598e+00,  1.9285e+00, -4.0310e-01, -1.1469e+00, -2.6297e-03,\n",
       "         -1.2138e+00, -2.1082e+00,  9.7544e-01, -4.0457e-01, -3.4934e+00,\n",
       "          4.2433e+00, -1.3031e+00, -1.1154e+00, -1.2804e+00,  2.5462e+00,\n",
       "         -1.5593e+00],\n",
       "        [-2.3266e+00,  1.0585e+00,  2.5090e+00, -4.2424e+00, -6.1856e-02,\n",
       "         -1.4917e+00, -2.5679e+00, -1.5364e+00, -5.9505e-01,  3.9117e-01,\n",
       "          2.1005e+00, -1.9998e-01, -1.1079e+00, -3.1392e-01,  2.4050e+00,\n",
       "          2.3537e-02],\n",
       "        [ 6.9521e-02,  1.4403e+00, -5.1174e-01,  1.2682e-02,  2.4522e+00,\n",
       "         -4.6096e-01, -3.4166e+00, -2.3668e+00,  1.3936e-01, -3.3996e+00,\n",
       "          1.4632e+00,  8.4711e-01, -2.2031e+00, -2.7121e+00,  5.3814e+00,\n",
       "         -2.6587e-01],\n",
       "        [-1.9241e+00, -2.4781e+00, -1.1806e+00,  4.6563e-01, -2.0424e+00,\n",
       "         -4.6678e+00, -1.9858e+00, -7.6533e-01, -8.8122e-01, -9.2001e-01,\n",
       "          6.8832e-03,  9.0517e-01,  3.5969e+00, -2.1108e+00,  2.8885e+00,\n",
       "          6.1438e-01],\n",
       "        [-3.5844e+00, -4.1745e+00, -2.3716e+00, -8.6616e-01, -1.3727e+00,\n",
       "         -6.2436e-01, -5.8876e-01,  6.0528e-01,  2.2023e+00,  1.0235e+00,\n",
       "         -5.1381e-01, -1.2029e+00, -9.5952e-01, -5.9127e-01, -3.3351e-01,\n",
       "         -1.1367e+00],\n",
       "        [-4.6055e+00,  1.0533e+00, -4.0069e+00,  3.5475e+00, -2.2231e+00,\n",
       "          3.0293e+00, -3.3533e+00,  1.0500e+00,  3.1271e-01, -9.8273e-01,\n",
       "          1.4020e+00,  7.1463e-01, -5.3245e+00,  4.2374e-01,  7.2546e-02,\n",
       "         -5.1042e-01],\n",
       "        [-3.8005e+00, -7.4819e-01,  5.2862e-01,  1.1563e+00,  1.7150e+00,\n",
       "          2.7818e+00, -3.4320e+00, -2.5857e+00, -2.2033e-02, -1.0765e+00,\n",
       "          6.7275e-01,  1.1584e+00, -3.3791e+00, -3.9586e+00,  2.6951e+00,\n",
       "          6.6216e-01],\n",
       "        [-2.0797e+00, -3.8283e+00,  1.0197e+00,  1.4530e+00, -2.5874e+00,\n",
       "         -2.3067e+00, -4.4897e+00, -2.1050e+00, -1.0632e-01, -1.9768e+00,\n",
       "          3.0433e-01,  7.0024e-02, -1.8035e-01,  4.8112e-01,  2.2828e+00,\n",
       "          1.0001e+00],\n",
       "        [-3.4980e+00, -3.2591e-01,  2.6137e+00,  1.6926e+00, -5.0547e-01,\n",
       "          1.5536e-01, -2.6852e+00, -4.3908e-01,  9.4811e-01, -2.0121e+00,\n",
       "         -6.8680e-01, -1.4337e+00, -3.0795e+00,  8.0703e-01,  1.4834e+00,\n",
       "         -1.9524e+00],\n",
       "        [-6.7578e+00, -1.8567e+00,  2.2259e+00, -1.0215e+00, -1.3950e+00,\n",
       "          4.0693e-02, -3.2988e+00, -9.8768e-01,  3.1485e-01, -4.2061e+00,\n",
       "         -2.7709e+00,  1.2467e+00, -2.4011e+00,  2.6663e-01, -6.1513e-02,\n",
       "          1.2040e+00],\n",
       "        [-2.1536e+00,  6.2483e-01,  3.3073e-01,  2.1388e+00,  5.6336e-01,\n",
       "         -1.3780e+00, -1.7692e+00,  4.4302e-01, -2.1735e+00, -6.7559e-01,\n",
       "         -1.1971e-01,  6.5803e-01, -1.1029e+00,  7.8597e-01,  3.0351e+00,\n",
       "         -2.8648e-01],\n",
       "        [-2.4111e+00,  2.3331e+00,  1.1453e+00, -1.6291e+00, -2.7573e+00,\n",
       "         -1.3724e+00, -3.3387e+00, -1.8508e+00, -7.6061e-02, -2.0967e+00,\n",
       "         -2.2173e+00, -6.3355e-01, -1.9009e+00,  1.2458e+00,  3.1150e+00,\n",
       "         -5.6815e-01],\n",
       "        [-3.7199e+00, -1.7823e+00, -1.2001e+00,  2.1691e+00, -1.8370e-01,\n",
       "         -1.0065e+00, -3.0650e-01, -1.6140e+00, -5.1651e-01,  6.6520e-01,\n",
       "         -1.7014e+00,  7.2951e-01,  1.1616e+00, -2.8655e-02,  1.8841e+00,\n",
       "         -9.0979e-01],\n",
       "        [-6.2371e-01,  1.2351e+00, -1.9766e+00, -1.4746e+00,  1.7459e+00,\n",
       "         -3.5947e+00,  1.6518e-01, -1.9800e+00,  4.5965e-01, -2.3691e+00,\n",
       "         -2.8027e+00, -5.9649e-01, -8.5618e-01,  1.0719e+00,  2.4689e+00,\n",
       "         -1.5310e+00],\n",
       "        [-6.3707e+00,  2.7574e+00,  2.6662e+00,  4.2106e-01, -1.8219e+00,\n",
       "          6.0697e-01, -2.9821e+00, -4.4115e-01,  4.3655e-01, -6.0229e+00,\n",
       "         -1.4368e+00,  1.4875e+00, -3.5159e-01,  1.7657e-01,  8.5980e-01,\n",
       "         -1.6159e+00],\n",
       "        [-3.3093e+00, -1.8125e+00, -1.4272e+00, -7.5675e-01,  7.9083e-01,\n",
       "          1.5793e+00, -3.1445e+00,  2.2169e+00, -1.7650e+00, -1.4554e+00,\n",
       "          7.8999e-01,  2.0344e+00, -2.5691e+00, -3.4519e-01,  1.4892e-01,\n",
       "          6.2169e-01],\n",
       "        [-4.3114e+00,  7.2800e-01,  6.6911e-01,  2.2062e+00,  2.6319e-01,\n",
       "          4.6752e-01, -3.9712e+00,  4.5830e-01, -1.4043e-01, -7.0704e+00,\n",
       "          1.4060e+00,  2.7438e+00,  3.0095e-01, -6.5800e-01, -8.6174e-01,\n",
       "         -9.0033e-01]], grad_fn=<AddBackward0>)"
      ]
     },
     "execution_count": 3,
     "metadata": {},
     "output_type": "execute_result"
    }
   ],
   "source": [
    "# Get latent variable\n",
    "# Using the provided mnist dataset class\n",
    "gen = StackedMNISTData(mode=DataMode.COLOR_BINARY_COMPLETE, default_batch_size=9)\n",
    "test_data = gen.get_full_data_set(training=False)\n",
    "\n",
    "x_test, y_test = test_data\n",
    "\n",
    "# Convert y_train and y_test into one-hot vectors\n",
    "y_test = to_one_hot_rgb(y_test)\n",
    "\n",
    "# Create pytorch dataloaders from x_test and y_test\n",
    "x_test = torch.from_numpy(x_test.astype(np.float32)).permute(0, 3, 1, 2)\n",
    "y_test = torch.from_numpy(y_test.astype(np.float32))\n",
    "\n",
    "test_dataset = TensorDataset(x_test, y_test)\n",
    "test_loader = DataLoader(dataset=test_dataset, batch_size=32)\n",
    "\n",
    "images, _ = next(iter(test_loader))\n",
    "latent = model.encoder(images)\n",
    "\n",
    "mean = latent.mean(dim=0)\n",
    "std = (latent-mean).pow(2).mean(dim=0).sqrt()\n",
    "\n",
    "z = torch.randn(32, 16) * std + mean\n",
    "\n",
    "z"
   ]
  },
  {
   "cell_type": "code",
   "execution_count": 4,
   "metadata": {},
   "outputs": [],
   "source": [
    "model.eval()\n",
    "with torch.no_grad():\n",
    "    generated_images = model.decoder(z)"
   ]
  },
  {
   "cell_type": "code",
   "execution_count": 5,
   "metadata": {},
   "outputs": [
    {
     "data": {
      "text/plain": [
       "torch.Size([32, 3, 28, 28])"
      ]
     },
     "execution_count": 5,
     "metadata": {},
     "output_type": "execute_result"
    }
   ],
   "source": [
    "generated_images.shape"
   ]
  },
  {
   "cell_type": "code",
   "execution_count": 6,
   "metadata": {},
   "outputs": [
    {
     "data": {
      "text/plain": [
       "<matplotlib.image.AxesImage at 0x206daf986d0>"
      ]
     },
     "execution_count": 6,
     "metadata": {},
     "output_type": "execute_result"
    },
    {
     "data": {
      "image/png": "[encoded data removed]",
      "text/plain": [
       "<Figure size 432x288 with 1 Axes>"
      ]
     },
     "metadata": {
      "needs_background": "light"
     },
     "output_type": "display_data"
    }
   ],
   "source": [
    "plt.imshow(generated_images[0].permute(1, 2, 0))"
   ]
  },
  {
   "cell_type": "code",
   "execution_count": 7,
   "metadata": {},
   "outputs": [
    {
     "data": {
      "text/plain": [
       "AutoEncoder(\n",
       "  (encoder): Sequential(\n",
       "    (0): Conv2d(3, 16, kernel_size=(3, 3), stride=(2, 2), padding=(1, 1))\n",
       "    (1): ReLU()\n",
       "    (2): Conv2d(16, 32, kernel_size=(3, 3), stride=(2, 2), padding=(1, 1))\n",
       "    (3): ReLU()\n",
       "    (4): Conv2d(32, 64, kernel_size=(3, 3), stride=(2, 2), padding=(1, 1))\n",
       "    (5): ReLU()\n",
       "    (6): Conv2d(64, 128, kernel_size=(3, 3), stride=(2, 2), padding=(1, 1))\n",
       "    (7): ReLU()\n",
       "    (8): Flatten(start_dim=1, end_dim=-1)\n",
       "    (9): Linear(in_features=512, out_features=128, bias=True)\n",
       "    (10): ReLU()\n",
       "    (11): Linear(in_features=128, out_features=16, bias=True)\n",
       "  )\n",
       "  (decoder): Sequential(\n",
       "    (0): Linear(in_features=16, out_features=128, bias=True)\n",
       "    (1): ReLU()\n",
       "    (2): Linear(in_features=128, out_features=512, bias=True)\n",
       "    (3): ReLU()\n",
       "    (4): Unflatten(dim=1, unflattened_size=(128, 2, 2))\n",
       "    (5): ConvTranspose2d(128, 64, kernel_size=(3, 3), stride=(2, 2), padding=(1, 1), output_padding=(1, 1))\n",
       "    (6): ReLU()\n",
       "    (7): ConvTranspose2d(64, 32, kernel_size=(3, 3), stride=(2, 2), padding=(1, 1))\n",
       "    (8): ReLU()\n",
       "    (9): ConvTranspose2d(32, 16, kernel_size=(3, 3), stride=(2, 2), padding=(1, 1), output_padding=(1, 1))\n",
       "    (10): ReLU()\n",
       "    (11): ConvTranspose2d(16, 3, kernel_size=(3, 3), stride=(2, 2), padding=(1, 1), output_padding=(1, 1))\n",
       "    (12): Sigmoid()\n",
       "  )\n",
       ")"
      ]
     },
     "execution_count": 7,
     "metadata": {},
     "output_type": "execute_result"
    }
   ],
   "source": [
    "model"
   ]
  },
  {
   "cell_type": "code",
   "execution_count": 8,
   "metadata": {},
   "outputs": [
    {
     "data": {
      "text/plain": [
       "(torch.Size([32, 64, 4, 4]),\n",
       " torch.Size([32, 32, 7, 7]),\n",
       " torch.Size([32, 16, 14, 14]),\n",
       " torch.Size([32, 3, 28, 28]))"
      ]
     },
     "execution_count": 8,
     "metadata": {},
     "output_type": "execute_result"
    }
   ],
   "source": [
    "z = model.decoder[0:5](z)\n",
    "\n",
    "c1 = model.decoder[5](z)\n",
    "c1 = F.relu(c1)\n",
    "\n",
    "c2 = model.decoder[7](c1)\n",
    "c2 = F.relu(c2)\n",
    "\n",
    "c3 = model.decoder[9](c2)\n",
    "c3 = F.relu(c3)\n",
    "\n",
    "\n",
    "c4 = model.decoder[11](c3)\n",
    "\n",
    "\n",
    "c1.shape, c2.shape, c3.shape, c4.shape\n"
   ]
  },
  {
   "cell_type": "code",
   "execution_count": 9,
   "metadata": {},
   "outputs": [
    {
     "data": {
      "image/png": "[encoded data removed]",
      "text/plain": [
       "<Figure size 1500x900 with 5 Axes>"
      ]
     },
     "metadata": {
      "needs_background": "light"
     },
     "output_type": "display_data"
    }
   ],
   "source": [
    "# Visualize som feature maps from c1\n",
    "with torch.no_grad():\n",
    "    # Create a figure with 5 horizontally arranged subplots\n",
    "    fig, axs = plt.subplots(1, 5, figsize=(10, 6), dpi=150)\n",
    "\n",
    "    # Plot each image in a separate subplot\n",
    "    for i in range(5):\n",
    "        axs[i].imshow(c1[0][i])\n",
    "        \n",
    "    plt.show()"
   ]
  },
  {
   "cell_type": "code",
   "execution_count": 10,
   "metadata": {},
   "outputs": [
    {
     "data": {
      "image/png": "[encoded data removed]",
      "text/plain": [
       "<Figure size 1500x900 with 5 Axes>"
      ]
     },
     "metadata": {
      "needs_background": "light"
     },
     "output_type": "display_data"
    }
   ],
   "source": [
    "with torch.no_grad():\n",
    "    # Create a figure with 5 horizontally arranged subplots\n",
    "    fig, axs = plt.subplots(1, 5, figsize=(10, 6), dpi=150)\n",
    "\n",
    "    # Plot each image in a separate subplot\n",
    "    for i in range(5):\n",
    "        axs[i].imshow(c2[0][i])\n",
    "        \n",
    "    plt.show()"
   ]
  },
  {
   "cell_type": "code",
   "execution_count": 11,
   "metadata": {},
   "outputs": [
    {
     "data": {
      "image/png": "[encoded data removed]",
      "text/plain": [
       "<Figure size 1500x900 with 5 Axes>"
      ]
     },
     "metadata": {
      "needs_background": "light"
     },
     "output_type": "display_data"
    }
   ],
   "source": [
    "with torch.no_grad():\n",
    "    # Create a figure with 5 horizontally arranged subplots\n",
    "    fig, axs = plt.subplots(1, 5, figsize=(10, 6), dpi=150)\n",
    "\n",
    "    # Plot each image in a separate subplot\n",
    "    for i in range(5):\n",
    "        axs[i].imshow(c3[0][i])\n",
    "        \n",
    "    plt.show()"
   ]
  },
  {
   "cell_type": "code",
   "execution_count": 12,
   "metadata": {},
   "outputs": [
    {
     "name": "stderr",
     "output_type": "stream",
     "text": [
      "Clipping input data to the valid range for imshow with RGB data ([0..1] for floats or [0..255] for integers).\n",
      "C:\\Users\\mikke\\AppData\\Roaming\\Python\\Python39\\site-packages\\torch\\nn\\functional.py:1967: UserWarning: nn.functional.sigmoid is deprecated. Use torch.sigmoid instead.\n",
      "  warnings.warn(\"nn.functional.sigmoid is deprecated. Use torch.sigmoid instead.\")\n"
     ]
    },
    {
     "data": {
      "image/png": "[encoded data removed]",
      "text/plain": [
       "<Figure size 900x600 with 2 Axes>"
      ]
     },
     "metadata": {
      "needs_background": "light"
     },
     "output_type": "display_data"
    }
   ],
   "source": [
    "with torch.no_grad():    \n",
    "    # Create a figure with 5 horizontally arranged subplots\n",
    "    fig, axs = plt.subplots(1, 2, figsize=(6, 4), dpi=150)\n",
    "\n",
    "    # Plot each image in a separate subplot\n",
    "    axs[0].imshow(c4[0].squeeze(0).permute(1, 2, 0))\n",
    "    axs[0].set_title('Final - No Sigmoid')\n",
    "    axs[1].imshow(F.sigmoid(c4[0].permute(1, 2, 0)))\n",
    "    axs[1].set_title('Final - Sigmoid')\n",
    "\n",
    "        \n",
    "    plt.show()\n",
    "    "
   ]
  },
  {
   "attachments": {},
   "cell_type": "markdown",
   "metadata": {},
   "source": [
    "Some more generated images"
   ]
  },
  {
   "cell_type": "code",
   "execution_count": 13,
   "metadata": {},
   "outputs": [
    {
     "data": {
      "image/png": "[encoded data removed]",
      "text/plain": [
       "<Figure size 1500x600 with 10 Axes>"
      ]
     },
     "metadata": {
      "needs_background": "light"
     },
     "output_type": "display_data"
    }
   ],
   "source": [
    "with torch.no_grad():    \n",
    "    # Create a figure with 5 horizontally arranged subplots\n",
    "    fig, axs = plt.subplots(2, 5, figsize=(10, 4), dpi=150)\n",
    "\n",
    "    n = 0\n",
    "    for i in range(2):\n",
    "        for j in range(5):\n",
    "            axs[i, j].imshow(generated_images[n].permute(1, 2, 0))\n",
    "            axs[i, j].axis(\"off\")\n",
    "            n += 1\n",
    "\n",
    "        \n",
    "    plt.show()"
   ]
  }
 ],
 "metadata": {
  "kernelspec": {
   "display_name": "Python 3",
   "language": "python",
   "name": "python3"
  },
  "language_info": {
   "codemirror_mode": {
    "name": "ipython",
    "version": 3
   },
   "file_extension": ".py",
   "mimetype": "text/x-python",
   "name": "python",
   "nbconvert_exporter": "python",
   "pygments_lexer": "ipython3",
   "version": "3.9.6"
  },
  "orig_nbformat": 4,
  "vscode": {
   "interpreter": {
    "hash": "767d51c1340bd893661ea55ea3124f6de3c7a262a8b4abca0554b478b1e2ff90"
   }
  }
 },
 "nbformat": 4,
 "nbformat_minor": 2
}
