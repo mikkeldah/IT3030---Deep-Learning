{
 "cells": [
  {
   "cell_type": "code",
   "execution_count": 29,
   "metadata": {},
   "outputs": [],
   "source": [
    "import numpy as np\n",
    "import matplotlib.pyplot as plt\n",
    "\n",
    "from stacked_mnist import StackedMNISTData, DataMode\n",
    "from models.auto_encoder import AutoEncoder\n",
    "from models.mnist_classifier import MNISTClassifier\n",
    "\n",
    "import torch\n",
    "import torch.nn as nn\n",
    "from torch.utils.data import TensorDataset, DataLoader\n",
    "import torch.nn.functional as F\n",
    "\n",
    "from utils import *"
   ]
  },
  {
   "cell_type": "code",
   "execution_count": 30,
   "metadata": {},
   "outputs": [
    {
     "data": {
      "text/plain": [
       "<All keys matched successfully>"
      ]
     },
     "execution_count": 30,
     "metadata": {},
     "output_type": "execute_result"
    }
   ],
   "source": [
    "model = AutoEncoder(in_channels=3)\n",
    "model.load_state_dict(torch.load('trained_models/auto_encoder_rgb.pt'))"
   ]
  },
  {
   "cell_type": "code",
   "execution_count": 31,
   "metadata": {},
   "outputs": [
    {
     "data": {
      "text/plain": [
       "tensor([[-3.4113,  1.0344,  0.2677, -2.2813, -0.9336,  0.9508, -2.7084,  0.3336,\n",
       "          0.8131,  0.6859, -0.3532,  0.6466, -3.2352,  0.5626,  2.2556,  2.0837],\n",
       "        [-4.1943, -0.3311, -2.2900,  3.9148, -4.0928, -2.2132, -3.0473, -0.9331,\n",
       "         -1.7678, -2.2762, -0.3130,  1.2464, -1.0134,  0.0408,  1.1971,  3.5651],\n",
       "        [-2.0172, -0.1361,  1.5994,  1.6553, -0.1174, -2.0650, -0.6082, -3.1524,\n",
       "          0.8008,  0.7230, -0.1633, -1.2714,  0.8616, -0.3794,  2.5424, -0.6881],\n",
       "        [ 0.1088,  4.3004, -2.0422,  0.8285, -0.2724,  0.9098, -2.4508, -1.9337,\n",
       "          1.0287, -0.6740,  0.6892,  2.0785, -1.6027, -1.8967, -0.5954,  0.1758],\n",
       "        [-4.2717,  1.6263,  1.2040, -0.9411,  0.9820,  1.2187, -2.3464, -0.2907,\n",
       "         -0.2569,  0.5563,  0.0189,  0.0620,  1.1722, -0.7637,  1.9137,  1.9333],\n",
       "        [-1.5251,  0.8530,  0.3183, -1.4621,  0.5116, -3.0546, -1.9192, -1.4108,\n",
       "         -1.1340, -1.0149,  2.0222, -1.0928, -0.4325,  2.9495,  0.9441,  2.5835],\n",
       "        [-4.2041,  0.5932, -1.0873,  1.1754, -3.0266,  1.6434, -1.1934, -0.7223,\n",
       "          1.1157, -1.2718,  1.4229,  2.6538, -0.2404,  1.9136,  3.6867,  2.1578],\n",
       "        [-4.2585, -0.6971,  1.5633,  1.1809, -1.7985, -1.0595, -3.3314, -0.4923,\n",
       "          0.1784, -2.7680, -2.4637,  1.9164, -0.2357, -2.4774,  0.3235,  1.3053],\n",
       "        [-2.0763,  0.6004, -1.6977, -2.8911,  1.1199, -2.7311,  0.0985, -1.8528,\n",
       "         -0.6639, -1.7086,  0.4459,  1.8460, -3.7920,  0.5653,  3.0873,  3.7080],\n",
       "        [-4.1683,  0.9023,  0.1288,  1.5738,  0.6536, -0.4299, -4.7717,  0.9912,\n",
       "         -0.8011, -0.7341, -2.4620, -2.0565, -2.7138, -1.7500,  1.2089, -1.3489],\n",
       "        [-2.6562, -0.0071, -1.5588, -2.0457,  1.1844,  1.1605, -1.7544,  1.5333,\n",
       "         -2.2159,  0.1632, -1.8879,  0.9115, -1.8852,  2.6503,  3.1244,  1.0345],\n",
       "        [-1.9027,  1.1597, -2.1113,  3.8438, -0.1018,  1.0195, -1.6270, -0.8108,\n",
       "         -0.1606, -1.1312,  0.3556, -2.4607, -1.0387,  3.2067,  3.3131,  1.4285],\n",
       "        [-3.0866, -2.0632, -3.3669,  1.7560, -2.1198, -0.3433, -3.9019, -0.2116,\n",
       "         -0.0091, -1.1336, -0.3343,  0.9428, -2.3734, -1.6111,  0.6681,  0.2143],\n",
       "        [-3.6329, -0.5254,  0.7350,  0.2650,  1.7825, -0.8752, -0.1218,  1.0291,\n",
       "         -1.8639, -0.4689, -3.0317,  0.3661,  0.2046,  1.4161,  1.1650,  2.8893],\n",
       "        [-4.4782,  4.2290, -0.1767,  0.4043, -0.9662,  2.8732, -1.4808,  0.7740,\n",
       "         -0.9176, -1.0591, -2.4802,  0.8853, -2.4009,  1.7179,  1.9697, -1.9458],\n",
       "        [-4.8265,  2.9823,  1.0634,  1.7024, -1.3088,  3.4880, -1.2616, -1.3106,\n",
       "          0.1012,  0.1521,  0.8475, -0.7967, -2.0270,  0.9214,  3.8420,  0.8488],\n",
       "        [-2.4653,  1.2482, -1.2309, -1.4603, -3.0238,  0.4850, -5.1325,  1.5092,\n",
       "         -0.7250, -0.4131,  1.4602,  1.5556, -3.3258, -2.9558,  1.2780, -1.5665],\n",
       "        [-2.4136,  1.7020, -4.5088,  0.4058, -2.1083,  2.9231, -2.0561, -0.6279,\n",
       "          2.0387,  1.5359, -3.3659,  1.2940,  0.5574, -3.1543,  1.0467,  0.2857],\n",
       "        [-1.1606,  0.3455, -1.0482, -3.1002, -0.1533, -1.2080, -5.6178, -0.6938,\n",
       "         -0.9292, -1.9968,  0.0228, -1.6072, -1.7691,  1.6224,  0.8806, -1.7723],\n",
       "        [-1.9485, -0.4428, -0.2989,  0.6881,  0.4455,  0.3893, -4.7805,  2.6795,\n",
       "         -1.4275, -0.4914,  0.9072, -0.4030, -1.8986, -2.4774,  0.5384, -1.6689],\n",
       "        [-1.0074, -1.2903,  1.7555, -0.9116,  1.3670,  2.2545, -4.4355,  0.7611,\n",
       "         -1.2631, -1.8008, -2.0505, -1.6769,  0.1414,  0.3771,  0.1754, -2.7808],\n",
       "        [-1.6331, -0.0438,  1.9512, -1.0161, -3.1816,  1.5327, -3.0220,  2.3947,\n",
       "         -2.7528, -1.3487, -1.2295,  1.0973, -1.0424,  0.4494,  1.3172, -2.3830],\n",
       "        [-3.3429, -0.1140, -0.3389, -3.5066, -1.4204, -2.5243, -2.9856, -0.3904,\n",
       "         -0.6813, -1.1890,  4.1245, -2.2483, -0.6352, -3.1930, -1.2791,  0.8766],\n",
       "        [-2.4221,  0.4167,  3.0745,  1.3700, -0.4249,  1.8564, -1.8245,  0.6618,\n",
       "         -0.2632,  0.6599,  1.5161, -2.1851, -0.4463, -0.5795, -0.6834, -0.2048],\n",
       "        [-3.1310,  1.4645, -0.1087, -2.0270, -3.0103,  1.9121, -5.2246,  1.6174,\n",
       "          0.7248, -0.3219, -1.6877, -0.6924, -1.8290, -0.8163,  4.6619, -4.5079],\n",
       "        [ 0.3976, -0.8587, -1.2748, -2.4169, -1.0712, -1.4938, -2.7103,  1.6135,\n",
       "         -2.6647, -1.5573, -0.9067,  2.9153, -3.0109, -0.2954, -0.0538, -1.9644],\n",
       "        [-4.6658,  2.4211,  1.9040,  2.4751, -1.9993,  2.6628, -3.2037, -0.3416,\n",
       "         -0.7613, -0.7496,  0.7835, -1.0456,  0.2940, -1.2340,  4.5701,  1.8814],\n",
       "        [-1.6361,  2.0556, -1.3941,  0.6968, -1.8340, -1.0758, -2.1626,  1.1061,\n",
       "          0.5156, -0.9384, -0.6680,  2.1497, -1.8766,  1.1229,  0.4207, -2.9150],\n",
       "        [-2.7975, -1.4291,  0.6573,  0.9952,  0.7106, -2.8119, -4.7477,  1.4027,\n",
       "         -1.0486, -0.7166, -3.4716,  0.2581, -1.1721, -0.8208,  4.4264,  1.4366],\n",
       "        [-4.6100,  2.2826,  1.5584, -1.9210, -0.0791,  1.6089, -3.7129, -0.2247,\n",
       "         -2.9849, -3.1127,  4.1592, -4.0574, -2.0573, -0.2635,  0.4656,  0.5936],\n",
       "        [-6.8285,  2.0274, -2.0550, -1.0202, -2.3026, -0.5834, -0.0735, -1.5320,\n",
       "          0.4081, -1.4478, -0.7755, -0.1530, -0.3985, -0.1867,  4.1915,  2.6468],\n",
       "        [-0.2999,  1.5562, -1.7802, -0.9465, -2.7424, -1.4775, -4.2441,  1.1195,\n",
       "         -0.4943, -2.0824, -0.8985,  1.1972, -1.0175, -0.8738,  1.5298, -2.5663]],\n",
       "       grad_fn=<AddBackward0>)"
      ]
     },
     "execution_count": 31,
     "metadata": {},
     "output_type": "execute_result"
    }
   ],
   "source": [
    "# Get latent variable\n",
    "# Using the provided mnist dataset class\n",
    "gen = StackedMNISTData(mode=DataMode.COLOR_BINARY_COMPLETE, default_batch_size=9)\n",
    "test_data = gen.get_full_data_set(training=False)\n",
    "\n",
    "x_test, y_test = test_data\n",
    "\n",
    "# Convert y_train and y_test into one-hot vectors\n",
    "y_test = to_one_hot_rgb(y_test)\n",
    "\n",
    "# Create pytorch dataloaders from x_test and y_test\n",
    "x_test = torch.from_numpy(x_test.astype(np.float32)).permute(0, 3, 1, 2)\n",
    "y_test = torch.from_numpy(y_test.astype(np.float32))\n",
    "\n",
    "test_dataset = TensorDataset(x_test, y_test)\n",
    "test_loader = DataLoader(dataset=test_dataset, batch_size=32)\n",
    "\n",
    "images, _ = iter(test_loader).next()\n",
    "latent = model.encoder(images)\n",
    "\n",
    "mean = latent.mean(dim=0)\n",
    "std = (latent-mean).pow(2).mean(dim=0).sqrt()\n",
    "\n",
    "z = torch.randn(32, 16) * std + mean\n",
    "\n",
    "z"
   ]
  },
  {
   "cell_type": "code",
   "execution_count": 32,
   "metadata": {},
   "outputs": [],
   "source": [
    "model.eval()\n",
    "with torch.no_grad():\n",
    "    generated_image = model.decoder(z)[0]"
   ]
  },
  {
   "cell_type": "code",
   "execution_count": 33,
   "metadata": {},
   "outputs": [
    {
     "data": {
      "text/plain": [
       "torch.Size([3, 28, 28])"
      ]
     },
     "execution_count": 33,
     "metadata": {},
     "output_type": "execute_result"
    }
   ],
   "source": [
    "generated_image.shape"
   ]
  },
  {
   "cell_type": "code",
   "execution_count": 34,
   "metadata": {},
   "outputs": [
    {
     "data": {
      "text/plain": [
       "<matplotlib.image.AxesImage at 0x7f70f00e9340>"
      ]
     },
     "execution_count": 34,
     "metadata": {},
     "output_type": "execute_result"
    },
    {
     "data": {
      "image/png": "[encoded data removed]",
      "text/plain": [
       "<Figure size 432x288 with 1 Axes>"
      ]
     },
     "metadata": {
      "needs_background": "light"
     },
     "output_type": "display_data"
    }
   ],
   "source": [
    "plt.imshow(generated_image.permute(1, 2, 0))"
   ]
  },
  {
   "cell_type": "code",
   "execution_count": 35,
   "metadata": {},
   "outputs": [
    {
     "data": {
      "text/plain": [
       "AutoEncoder(\n",
       "  (encoder): Sequential(\n",
       "    (0): Conv2d(3, 16, kernel_size=(3, 3), stride=(2, 2), padding=(1, 1))\n",
       "    (1): ReLU()\n",
       "    (2): Conv2d(16, 32, kernel_size=(3, 3), stride=(2, 2), padding=(1, 1))\n",
       "    (3): ReLU()\n",
       "    (4): Conv2d(32, 64, kernel_size=(3, 3), stride=(2, 2), padding=(1, 1))\n",
       "    (5): ReLU()\n",
       "    (6): Conv2d(64, 128, kernel_size=(3, 3), stride=(2, 2), padding=(1, 1))\n",
       "    (7): ReLU()\n",
       "    (8): Flatten(start_dim=1, end_dim=-1)\n",
       "    (9): Linear(in_features=512, out_features=128, bias=True)\n",
       "    (10): ReLU()\n",
       "    (11): Linear(in_features=128, out_features=16, bias=True)\n",
       "  )\n",
       "  (decoder): Sequential(\n",
       "    (0): Linear(in_features=16, out_features=128, bias=True)\n",
       "    (1): ReLU()\n",
       "    (2): Linear(in_features=128, out_features=512, bias=True)\n",
       "    (3): ReLU()\n",
       "    (4): Unflatten(dim=1, unflattened_size=(128, 2, 2))\n",
       "    (5): ConvTranspose2d(128, 64, kernel_size=(3, 3), stride=(2, 2), padding=(1, 1), output_padding=(1, 1))\n",
       "    (6): ReLU()\n",
       "    (7): ConvTranspose2d(64, 32, kernel_size=(3, 3), stride=(2, 2), padding=(1, 1))\n",
       "    (8): ReLU()\n",
       "    (9): ConvTranspose2d(32, 16, kernel_size=(3, 3), stride=(2, 2), padding=(1, 1), output_padding=(1, 1))\n",
       "    (10): ReLU()\n",
       "    (11): ConvTranspose2d(16, 3, kernel_size=(3, 3), stride=(2, 2), padding=(1, 1), output_padding=(1, 1))\n",
       "    (12): Sigmoid()\n",
       "  )\n",
       ")"
      ]
     },
     "execution_count": 35,
     "metadata": {},
     "output_type": "execute_result"
    }
   ],
   "source": [
    "model"
   ]
  },
  {
   "cell_type": "code",
   "execution_count": 36,
   "metadata": {},
   "outputs": [
    {
     "data": {
      "text/plain": [
       "(torch.Size([32, 64, 4, 4]),\n",
       " torch.Size([32, 32, 7, 7]),\n",
       " torch.Size([32, 16, 14, 14]),\n",
       " torch.Size([32, 3, 28, 28]))"
      ]
     },
     "execution_count": 36,
     "metadata": {},
     "output_type": "execute_result"
    }
   ],
   "source": [
    "z = model.decoder[0:5](z)\n",
    "\n",
    "c1 = model.decoder[5](z)\n",
    "c1 = F.relu(c1)\n",
    "\n",
    "c2 = model.decoder[7](c1)\n",
    "c2 = F.relu(c2)\n",
    "\n",
    "c3 = model.decoder[9](c2)\n",
    "c3 = F.relu(c3)\n",
    "\n",
    "\n",
    "c4 = model.decoder[11](c3)\n",
    "\n",
    "\n",
    "c1.shape, c2.shape, c3.shape, c4.shape\n"
   ]
  },
  {
   "cell_type": "code",
   "execution_count": 37,
   "metadata": {},
   "outputs": [
    {
     "data": {
      "image/png": "[encoded data removed]",
      "text/plain": [
       "<Figure size 1500x900 with 5 Axes>"
      ]
     },
     "metadata": {
      "needs_background": "light"
     },
     "output_type": "display_data"
    }
   ],
   "source": [
    "# Visualize som feature maps from c1\n",
    "with torch.no_grad():\n",
    "    # Create a figure with 5 horizontally arranged subplots\n",
    "    fig, axs = plt.subplots(1, 5, figsize=(10, 6), dpi=150)\n",
    "\n",
    "    # Plot each image in a separate subplot\n",
    "    for i in range(5):\n",
    "        axs[i].imshow(c1[0][i])\n",
    "        \n",
    "    plt.show()"
   ]
  },
  {
   "cell_type": "code",
   "execution_count": 38,
   "metadata": {},
   "outputs": [
    {
     "data": {
      "image/png": "[encoded data removed]",
      "text/plain": [
       "<Figure size 1500x900 with 5 Axes>"
      ]
     },
     "metadata": {
      "needs_background": "light"
     },
     "output_type": "display_data"
    }
   ],
   "source": [
    "with torch.no_grad():\n",
    "    # Create a figure with 5 horizontally arranged subplots\n",
    "    fig, axs = plt.subplots(1, 5, figsize=(10, 6), dpi=150)\n",
    "\n",
    "    # Plot each image in a separate subplot\n",
    "    for i in range(5):\n",
    "        axs[i].imshow(c2[0][i])\n",
    "        \n",
    "    plt.show()"
   ]
  },
  {
   "cell_type": "code",
   "execution_count": 39,
   "metadata": {},
   "outputs": [
    {
     "data": {
      "image/png": "[encoded data removed]",
      "text/plain": [
       "<Figure size 1500x900 with 5 Axes>"
      ]
     },
     "metadata": {
      "needs_background": "light"
     },
     "output_type": "display_data"
    }
   ],
   "source": [
    "with torch.no_grad():\n",
    "    # Create a figure with 5 horizontally arranged subplots\n",
    "    fig, axs = plt.subplots(1, 5, figsize=(10, 6), dpi=150)\n",
    "\n",
    "    # Plot each image in a separate subplot\n",
    "    for i in range(5):\n",
    "        axs[i].imshow(c3[0][i])\n",
    "        \n",
    "    plt.show()"
   ]
  },
  {
   "cell_type": "code",
   "execution_count": 40,
   "metadata": {},
   "outputs": [
    {
     "name": "stderr",
     "output_type": "stream",
     "text": [
      "Clipping input data to the valid range for imshow with RGB data ([0..1] for floats or [0..255] for integers).\n"
     ]
    },
    {
     "data": {
      "image/png": "[encoded data removed]",
      "text/plain": [
       "<Figure size 900x600 with 2 Axes>"
      ]
     },
     "metadata": {
      "needs_background": "light"
     },
     "output_type": "display_data"
    }
   ],
   "source": [
    "with torch.no_grad():    \n",
    "    # Create a figure with 5 horizontally arranged subplots\n",
    "    fig, axs = plt.subplots(1, 2, figsize=(6, 4), dpi=150)\n",
    "\n",
    "    # Plot each image in a separate subplot\n",
    "    axs[0].imshow(c4[0].squeeze(0).permute(1, 2, 0))\n",
    "    axs[0].set_title('Final - No Sigmoid')\n",
    "    axs[1].imshow(F.sigmoid(c4[0].permute(1, 2, 0)))\n",
    "    axs[1].set_title('Final - Sigmoid')\n",
    "\n",
    "        \n",
    "    plt.show()\n",
    "    "
   ]
  }
 ],
 "metadata": {
  "kernelspec": {
   "display_name": "Python 3",
   "language": "python",
   "name": "python3"
  },
  "language_info": {
   "codemirror_mode": {
    "name": "ipython",
    "version": 3
   },
   "file_extension": ".py",
   "mimetype": "text/x-python",
   "name": "python",
   "nbconvert_exporter": "python",
   "pygments_lexer": "ipython3",
   "version": "3.8.10 (default, Mar 13 2023, 10:26:41) \n[GCC 9.4.0]"
  },
  "orig_nbformat": 4,
  "vscode": {
   "interpreter": {
    "hash": "767d51c1340bd893661ea55ea3124f6de3c7a262a8b4abca0554b478b1e2ff90"
   }
  }
 },
 "nbformat": 4,
 "nbformat_minor": 2
}
