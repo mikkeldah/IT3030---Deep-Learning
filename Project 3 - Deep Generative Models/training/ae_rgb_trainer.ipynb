{
 "cells": [
  {
   "cell_type": "code",
   "execution_count": 8,
   "metadata": {},
   "outputs": [],
   "source": [
    "import numpy as np\n",
    "import matplotlib.pyplot as plt\n",
    "\n",
    "from stacked_mnist import StackedMNISTData, DataMode\n",
    "from models.auto_encoder import AutoEncoder\n",
    "from models.mnist_classifier import MNISTClassifier\n",
    "\n",
    "import torch\n",
    "import torch.nn as nn\n",
    "from torch.utils.data import TensorDataset, DataLoader\n",
    "\n",
    "from utils import *"
   ]
  },
  {
   "cell_type": "code",
   "execution_count": 9,
   "metadata": {},
   "outputs": [],
   "source": [
    "# Using the provided mnist dataset class\n",
    "gen = StackedMNISTData(mode=DataMode.COLOR_BINARY_COMPLETE, default_batch_size=9)\n",
    "\n",
    "train_data = gen.get_full_data_set(training=True)\n",
    "test_data = gen.get_full_data_set(training=False)"
   ]
  },
  {
   "cell_type": "code",
   "execution_count": 10,
   "metadata": {},
   "outputs": [
    {
     "data": {
      "text/plain": [
       "((60000, 28, 28, 3), (10000, 28, 28, 3))"
      ]
     },
     "execution_count": 10,
     "metadata": {},
     "output_type": "execute_result"
    }
   ],
   "source": [
    "train_data[0].shape, test_data[0].shape"
   ]
  },
  {
   "cell_type": "code",
   "execution_count": 51,
   "metadata": {},
   "outputs": [
    {
     "ename": "AttributeError",
     "evalue": "'numpy.ndarray' object has no attribute 'where'",
     "output_type": "error",
     "traceback": [
      "\u001b[0;31m---------------------------------------------------------------------------\u001b[0m",
      "\u001b[0;31mAttributeError\u001b[0m                            Traceback (most recent call last)",
      "\u001b[0;32m<ipython-input-51-ba8b7efcae75>\u001b[0m in \u001b[0;36m<module>\u001b[0;34m\u001b[0m\n\u001b[1;32m      1\u001b[0m \u001b[0my_train_x\u001b[0m \u001b[0;34m=\u001b[0m \u001b[0mtrain_data\u001b[0m\u001b[0;34m\u001b[0m\u001b[0;34m\u001b[0m\u001b[0m\n\u001b[1;32m      2\u001b[0m \u001b[0m_\u001b[0m\u001b[0;34m,\u001b[0m \u001b[0mls\u001b[0m \u001b[0;34m=\u001b[0m \u001b[0my_train_x\u001b[0m\u001b[0;34m\u001b[0m\u001b[0;34m\u001b[0m\u001b[0m\n\u001b[0;32m----> 3\u001b[0;31m \u001b[0mmin_l\u001b[0m \u001b[0;34m=\u001b[0m \u001b[0mls\u001b[0m\u001b[0;34m.\u001b[0m\u001b[0mwhere\u001b[0m\u001b[0;34m(\u001b[0m\u001b[0mls\u001b[0m\u001b[0;34m.\u001b[0m\u001b[0mmin\u001b[0m\u001b[0;34m(\u001b[0m\u001b[0;34m)\u001b[0m\u001b[0;34m)\u001b[0m\u001b[0;34m\u001b[0m\u001b[0;34m\u001b[0m\u001b[0m\n\u001b[0m",
      "\u001b[0;31mAttributeError\u001b[0m: 'numpy.ndarray' object has no attribute 'where'"
     ]
    }
   ],
   "source": [
    "y_train_x = train_data\n",
    "_, ls = y_train_x\n",
    "min_l = ls.where(ls.min())"
   ]
  },
  {
   "cell_type": "code",
   "execution_count": 23,
   "metadata": {},
   "outputs": [
    {
     "name": "stdout",
     "output_type": "stream",
     "text": [
      "(60000, 28, 28, 3) (60000,)\n",
      "(10000, 28, 28, 3) (10000,)\n",
      "(28, 28, 3)\n",
      "561\n"
     ]
    },
    {
     "data": {
      "image/png": "[encoded data removed]",
      "text/plain": [
       "<Figure size 900x600 with 1 Axes>"
      ]
     },
     "metadata": {
      "needs_background": "light"
     },
     "output_type": "display_data"
    }
   ],
   "source": [
    "x_train, y_train = train_data\n",
    "x_test, y_test = test_data\n",
    "print(x_train.shape, y_train.shape)\n",
    "print(x_test.shape, y_test.shape)\n",
    "\n",
    "# Convert y_train and y_test into one-hot vectors\n",
    "y_train = to_one_hot_rgb(y_train)\n",
    "y_test = to_one_hot_rgb(y_test)\n",
    "\n",
    "rand = np.random.randint(0, x_train.shape[0])\n",
    "img = x_train[rand]\n",
    "label = y_train[rand]\n",
    "print(img.shape)\n",
    "\n",
    "print(label.argmax())\n",
    "plt.figure(figsize=(6, 4), dpi=150)\n",
    "plt.imshow(255 * img)\n",
    "plt.show()"
   ]
  },
  {
   "cell_type": "code",
   "execution_count": 24,
   "metadata": {},
   "outputs": [],
   "source": [
    "# Create pytorch dataloaders from x_train and y_train\n",
    "x_train = torch.from_numpy(x_train.astype(np.float32)).permute(0, 3, 1, 2)\n",
    "y_train = torch.from_numpy(y_train.astype(np.float32))\n",
    "\n",
    "train_dataset = TensorDataset(x_train, y_train)\n",
    "train_loader = DataLoader(dataset=train_dataset, batch_size=32, shuffle=True)\n",
    "\n",
    "# Create pytorch dataloaders from x_test and y_test\n",
    "x_test = torch.from_numpy(x_test.astype(np.float32)).permute(0, 3, 1, 2)\n",
    "y_test = torch.from_numpy(y_test.astype(np.float32))\n",
    "\n",
    "test_dataset = TensorDataset(x_test, y_test)\n",
    "test_loader = DataLoader(dataset=test_dataset, batch_size=32)"
   ]
  },
  {
   "cell_type": "code",
   "execution_count": 25,
   "metadata": {},
   "outputs": [
    {
     "data": {
      "text/plain": [
       "device(type='cuda')"
      ]
     },
     "execution_count": 25,
     "metadata": {},
     "output_type": "execute_result"
    }
   ],
   "source": [
    "device = torch.device(\"cuda\" if torch.cuda.is_available() else \"cpu\")\n",
    "device"
   ]
  },
  {
   "cell_type": "code",
   "execution_count": 26,
   "metadata": {},
   "outputs": [
    {
     "name": "stdout",
     "output_type": "stream",
     "text": [
      "Epoch: 0, Loss: 0.2642312916676203\n",
      "Test Loss: 0.23870935069676785\n",
      "Epoch: 1, Loss: 0.22994717054367064\n",
      "Test Loss: 0.22393267566022781\n",
      "Epoch: 2, Loss: 0.2134972075064977\n",
      "Test Loss: 0.1990955982821437\n",
      "Epoch: 3, Loss: 0.1927721044143041\n",
      "Test Loss: 0.18741123225932685\n",
      "Epoch: 4, Loss: 0.18492922183672586\n",
      "Test Loss: 0.18232055441640055\n",
      "Epoch: 5, Loss: 0.1815139303445816\n",
      "Test Loss: 0.17988960625835881\n",
      "Epoch: 6, Loss: 0.17948444347381592\n",
      "Test Loss: 0.17822096365899703\n",
      "Epoch: 7, Loss: 0.1780569242397944\n",
      "Test Loss: 0.17707044433671446\n",
      "Epoch: 8, Loss: 0.17537842214107513\n",
      "Test Loss: 0.17157643333601114\n",
      "Epoch: 9, Loss: 0.1702022030989329\n",
      "Test Loss: 0.16856747946609704\n",
      "Epoch: 10, Loss: 0.16750288535753885\n",
      "Test Loss: 0.16609308594903247\n",
      "Epoch: 11, Loss: 0.16524176667531332\n",
      "Test Loss: 0.16412478280714907\n",
      "Epoch: 12, Loss: 0.16317816174030303\n",
      "Test Loss: 0.16225772577162367\n",
      "Epoch: 13, Loss: 0.1612313634634018\n",
      "Test Loss: 0.16064627292438055\n",
      "Epoch: 14, Loss: 0.1591537695010503\n",
      "Test Loss: 0.15928684117885444\n",
      "Epoch: 15, Loss: 0.1569400977532069\n",
      "Test Loss: 0.15605280141289624\n",
      "Epoch: 16, Loss: 0.15454975112279257\n",
      "Test Loss: 0.1535223953354473\n",
      "Epoch: 17, Loss: 0.1521271683216095\n",
      "Test Loss: 0.15127050043485415\n",
      "Epoch: 18, Loss: 0.1498753330787023\n",
      "Test Loss: 0.14921675784328875\n",
      "Epoch: 19, Loss: 0.14795026064713795\n",
      "Test Loss: 0.14779276288926793\n",
      "Epoch: 20, Loss: 0.14628955496946972\n",
      "Test Loss: 0.14569253876757698\n",
      "Epoch: 21, Loss: 0.14488945217132568\n",
      "Test Loss: 0.14507780216943722\n",
      "Epoch: 22, Loss: 0.14372665110429128\n",
      "Test Loss: 0.14411344629126235\n",
      "Epoch: 23, Loss: 0.14269156470696132\n",
      "Test Loss: 0.1431298918617419\n",
      "Epoch: 24, Loss: 0.14181278816858928\n",
      "Test Loss: 0.1420068755603065\n",
      "Epoch: 25, Loss: 0.14097871553103128\n",
      "Test Loss: 0.14147436971100755\n",
      "Epoch: 26, Loss: 0.1402468502084414\n",
      "Test Loss: 0.14064336475282432\n",
      "Epoch: 27, Loss: 0.1394722557981809\n",
      "Test Loss: 0.14011105447531508\n",
      "Epoch: 28, Loss: 0.13882695113420487\n",
      "Test Loss: 0.13942057855974752\n",
      "Epoch: 29, Loss: 0.13818317267100017\n",
      "Test Loss: 0.1390802634124177\n",
      "Epoch: 30, Loss: 0.13754963159561157\n",
      "Test Loss: 0.13863220396704568\n",
      "Epoch: 31, Loss: 0.13696387963294984\n",
      "Test Loss: 0.13798704276831386\n",
      "Epoch: 32, Loss: 0.13643848207394282\n",
      "Test Loss: 0.13732539895719614\n",
      "Epoch: 33, Loss: 0.13590301260948182\n",
      "Test Loss: 0.1369170602708579\n",
      "Epoch: 34, Loss: 0.13534157725175222\n",
      "Test Loss: 0.13698704471698583\n",
      "Epoch: 35, Loss: 0.13488232926130295\n",
      "Test Loss: 0.13578242396775145\n",
      "Epoch: 36, Loss: 0.13442413740555445\n",
      "Test Loss: 0.1356032477638211\n",
      "Epoch: 37, Loss: 0.13393644847869873\n",
      "Test Loss: 0.1350331937495512\n",
      "Epoch: 38, Loss: 0.13350781177282334\n",
      "Test Loss: 0.1348931536840174\n",
      "Epoch: 39, Loss: 0.1330858775337537\n",
      "Test Loss: 0.13431869763821458\n",
      "Epoch: 40, Loss: 0.13272458353042602\n",
      "Test Loss: 0.13375303513421039\n",
      "Epoch: 41, Loss: 0.13228205006519952\n",
      "Test Loss: 0.13391027497216917\n",
      "Epoch: 42, Loss: 0.13193102311293284\n",
      "Test Loss: 0.1337110890319553\n",
      "Epoch: 43, Loss: 0.13154572506745657\n",
      "Test Loss: 0.13309946803810496\n",
      "Epoch: 44, Loss: 0.13118471662600836\n",
      "Test Loss: 0.13269731726128453\n",
      "Epoch: 45, Loss: 0.13082936339775722\n",
      "Test Loss: 0.1325336017024022\n",
      "Epoch: 46, Loss: 0.13051843787034353\n",
      "Test Loss: 0.1324006822971871\n",
      "Epoch: 47, Loss: 0.1301757327914238\n",
      "Test Loss: 0.13182283735598999\n",
      "Epoch: 48, Loss: 0.1298598426858584\n",
      "Test Loss: 0.13177303734202736\n",
      "Epoch: 49, Loss: 0.12955805608828863\n",
      "Test Loss: 0.13120396447162658\n",
      "Epoch: 50, Loss: 0.1292279443860054\n",
      "Test Loss: 0.13091368094895975\n",
      "Epoch: 51, Loss: 0.12898707379897437\n",
      "Test Loss: 0.13067216311876004\n",
      "Epoch: 52, Loss: 0.12867531021038692\n",
      "Test Loss: 0.13065280248753178\n",
      "Epoch: 53, Loss: 0.12842192302942276\n",
      "Test Loss: 0.13001101161725223\n",
      "Epoch: 54, Loss: 0.12816837323904037\n",
      "Test Loss: 0.13001473881185246\n",
      "Epoch: 55, Loss: 0.1279010801076889\n",
      "Test Loss: 0.12954461369842005\n",
      "Epoch: 56, Loss: 0.1276621999581655\n",
      "Test Loss: 0.1303422874964464\n",
      "Early Stopping...\n"
     ]
    }
   ],
   "source": [
    "# Training setup\n",
    "model = AutoEncoder(in_channels=3)\n",
    "model.to(device)\n",
    "optimizer = torch.optim.Adam(model.parameters(), lr=0.0005)\n",
    "criterion = nn.BCELoss()\n",
    "\n",
    "# Training the autoencoder\n",
    "val_losses = []\n",
    "\n",
    "for epoch in range(100):\n",
    "    model.train()\n",
    "    total_loss = 0\n",
    "    for images, _ in train_loader:\n",
    "        images = images.to(device)\n",
    "        optimizer.zero_grad()\n",
    "        output = model(images)\n",
    "        loss = criterion(output, images)\n",
    "        loss.backward()\n",
    "        optimizer.step()\n",
    "        total_loss += loss.item()\n",
    "    print(f\"Epoch: {epoch}, Loss: {total_loss / len(train_loader)}\")\n",
    "\n",
    "    # Test on test data\n",
    "    model.eval()\n",
    "    test_loss_sum = 0\n",
    "    with torch.no_grad():\n",
    "        for images, _ in test_loader:\n",
    "            images = images.to(device)\n",
    "            output = model(images)\n",
    "            loss = criterion(output, images)\n",
    "            test_loss_sum += loss.item()\n",
    "        \n",
    "        test_loss = test_loss_sum / len(test_loader)\n",
    "        print(f\"Test Loss: {test_loss}\")\n",
    "        if (len(val_losses) > 5) and all(test_loss >= x for x in val_losses[-3:]):\n",
    "            print(\"Early Stopping...\")\n",
    "            break\n",
    "        val_losses.append(test_loss)\n"
   ]
  },
  {
   "cell_type": "code",
   "execution_count": 28,
   "metadata": {},
   "outputs": [],
   "source": [
    "# Save the AutoEncoder model\n",
    "torch.save(model.state_dict(), \"trained_models/auto_encoder_rgb.pt\")"
   ]
  },
  {
   "cell_type": "code",
   "execution_count": 27,
   "metadata": {},
   "outputs": [
    {
     "name": "stdout",
     "output_type": "stream",
     "text": [
      "Test Loss: 0.1303422874964464\n"
     ]
    }
   ],
   "source": [
    "# Test the auto encoder\n",
    "model.eval()\n",
    "\n",
    "test_loss = 0\n",
    "\n",
    "with torch.no_grad():\n",
    "    for x, _ in test_loader:\n",
    "        x = x.to(device)\n",
    "        pred = model(x)\n",
    "        loss = criterion(pred, x)\n",
    "        test_loss += loss.item()\n",
    "\n",
    "print(f\"Test Loss: {test_loss / len(test_loader)}\")"
   ]
  },
  {
   "cell_type": "code",
   "execution_count": 29,
   "metadata": {},
   "outputs": [
    {
     "data": {
      "text/plain": [
       "<All keys matched successfully>"
      ]
     },
     "execution_count": 29,
     "metadata": {},
     "output_type": "execute_result"
    }
   ],
   "source": [
    "mnist_classifier = MNISTClassifier(1)\n",
    "mnist_classifier.load_state_dict(torch.load('trained_models/mnist_model.pt'))"
   ]
  },
  {
   "cell_type": "code",
   "execution_count": 30,
   "metadata": {},
   "outputs": [
    {
     "data": {
      "text/plain": [
       "MNISTClassifier(\n",
       "  (feature_extractor): Sequential(\n",
       "    (0): Conv2d(1, 16, kernel_size=(3, 3), stride=(1, 1), padding=(1, 1))\n",
       "    (1): ReLU()\n",
       "    (2): MaxPool2d(kernel_size=2, stride=2, padding=0, dilation=1, ceil_mode=False)\n",
       "    (3): Conv2d(16, 32, kernel_size=(3, 3), stride=(1, 1), padding=(1, 1))\n",
       "    (4): ReLU()\n",
       "    (5): Conv2d(32, 64, kernel_size=(3, 3), stride=(1, 1), padding=(1, 1))\n",
       "    (6): ReLU()\n",
       "    (7): MaxPool2d(kernel_size=2, stride=2, padding=0, dilation=1, ceil_mode=False)\n",
       "  )\n",
       "  (classifier): Sequential(\n",
       "    (0): Flatten(start_dim=1, end_dim=-1)\n",
       "    (1): Linear(in_features=3136, out_features=128, bias=True)\n",
       "    (2): ReLU()\n",
       "    (3): Linear(in_features=128, out_features=10, bias=True)\n",
       "  )\n",
       ")"
      ]
     },
     "execution_count": 30,
     "metadata": {},
     "output_type": "execute_result"
    }
   ],
   "source": [
    "mnist_classifier.to(device)"
   ]
  },
  {
   "cell_type": "code",
   "execution_count": 53,
   "metadata": {},
   "outputs": [
    {
     "name": "stdout",
     "output_type": "stream",
     "text": [
      "Accuracy: 59.79%\n"
     ]
    }
   ],
   "source": [
    "correct_preds = 0\n",
    "\n",
    "with torch.no_grad():\n",
    "    for x, y in test_loader:\n",
    "        x = x.to(device)\n",
    "        y = y.to(device)\n",
    "        ae_output = model(x)\n",
    "\n",
    "        correct_preds \n",
    "        ae_output_class_r = mnist_classifier(ae_output[:, 0, :, :].unsqueeze(1))\n",
    "        ae_output_class_g = mnist_classifier(ae_output[:, 1, :, :].unsqueeze(1))\n",
    "        ae_output_class_b = mnist_classifier(ae_output[:, 2, :, :].unsqueeze(1))\n",
    "        ae_output_class_r = ae_output_class_r.argmax(dim=1, keepdim=True)\n",
    "        ae_output_class_g = ae_output_class_g.argmax(dim=1, keepdim=True)\n",
    "        ae_output_class_b = ae_output_class_b.argmax(dim=1, keepdim=True)\n",
    "\n",
    "        truth = y.argmax(dim=1, keepdim=True)\n",
    "        for i, batch in enumerate(truth):\n",
    "            number = batch.item()\n",
    "            if len(str(number)) == 3:\n",
    "                b, g, r = [int(n) for n in str(number)]\n",
    "            elif len(str(number)) == 2:\n",
    "                b = 0\n",
    "                g, r = [int(n) for n in str(number)]\n",
    "            elif len(str(number)) == 1:\n",
    "                b = 0\n",
    "                g = 0\n",
    "                r = [int(n) for n in str(number)]\n",
    "            b_pred = ae_output_class_b[i].item()\n",
    "            g_pred = ae_output_class_g[i].item()\n",
    "            r_pred = ae_output_class_r[i].item()\n",
    "\n",
    "            if (b == b_pred) and (r == r_pred) and (g == g_pred):\n",
    "                correct_preds += 1\n",
    "    \n",
    "\n",
    "    accuracy = correct_preds / len(test_loader.dataset)\n",
    "\n",
    "print(f\"Accuracy: {100*accuracy}%\")"
   ]
  },
  {
   "attachments": {},
   "cell_type": "markdown",
   "metadata": {},
   "source": [
    "Some analysis of latent states from encoded images"
   ]
  },
  {
   "cell_type": "code",
   "execution_count": 54,
   "metadata": {},
   "outputs": [
    {
     "data": {
      "text/plain": [
       "0"
      ]
     },
     "execution_count": 54,
     "metadata": {},
     "output_type": "execute_result"
    }
   ],
   "source": [
    "rand = np.random.randint(0, 31)\n",
    "rand"
   ]
  },
  {
   "cell_type": "code",
   "execution_count": 55,
   "metadata": {},
   "outputs": [
    {
     "data": {
      "text/plain": [
       "torch.Size([32, 16])"
      ]
     },
     "execution_count": 55,
     "metadata": {},
     "output_type": "execute_result"
    }
   ],
   "source": [
    "with torch.no_grad():\n",
    "    i, (x, y) = next(enumerate(test_loader))\n",
    "    x = x.to(device)\n",
    "    y = y.to(device)\n",
    "    latent_state = model.encoder(x)\n",
    "\n",
    "latent_state.shape"
   ]
  },
  {
   "cell_type": "code",
   "execution_count": 56,
   "metadata": {},
   "outputs": [
    {
     "data": {
      "text/plain": [
       "(16,)"
      ]
     },
     "execution_count": 56,
     "metadata": {},
     "output_type": "execute_result"
    }
   ],
   "source": [
    "latent_state = latent_state[rand].squeeze().cpu().numpy()\n",
    "latent_state.shape"
   ]
  },
  {
   "cell_type": "code",
   "execution_count": 57,
   "metadata": {},
   "outputs": [
    {
     "data": {
      "image/png": "[encoded data removed]",
      "text/plain": [
       "<Figure size 900x600 with 1 Axes>"
      ]
     },
     "metadata": {
      "needs_background": "light"
     },
     "output_type": "display_data"
    }
   ],
   "source": [
    "plt.figure(figsize=(6, 4), dpi=150)\n",
    "plt.hist(latent_state, bins=50)\n",
    "plt.show()"
   ]
  }
 ],
 "metadata": {
  "kernelspec": {
   "display_name": "Python 3",
   "language": "python",
   "name": "python3"
  },
  "language_info": {
   "codemirror_mode": {
    "name": "ipython",
    "version": 3
   },
   "file_extension": ".py",
   "mimetype": "text/x-python",
   "name": "python",
   "nbconvert_exporter": "python",
   "pygments_lexer": "ipython3",
   "version": "3.8.10 (default, Mar 13 2023, 10:26:41) \n[GCC 9.4.0]"
  },
  "orig_nbformat": 4,
  "vscode": {
   "interpreter": {
    "hash": "767d51c1340bd893661ea55ea3124f6de3c7a262a8b4abca0554b478b1e2ff90"
   }
  }
 },
 "nbformat": 4,
 "nbformat_minor": 2
}
