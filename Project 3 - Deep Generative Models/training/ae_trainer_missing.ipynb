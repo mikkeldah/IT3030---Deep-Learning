{
 "cells": [
  {
   "cell_type": "code",
   "execution_count": 1,
   "metadata": {},
   "outputs": [
    {
     "name": "stderr",
     "output_type": "stream",
     "text": [
      "/usr/lib/python3/dist-packages/requests/__init__.py:89: RequestsDependencyWarning: urllib3 (1.26.15) or chardet (3.0.4) doesn't match a supported version!\n",
      "  warnings.warn(\"urllib3 ({}) or chardet ({}) doesn't match a supported \"\n"
     ]
    }
   ],
   "source": [
    "import numpy as np\n",
    "import matplotlib.pyplot as plt\n",
    "\n",
    "from stacked_mnist import StackedMNISTData, DataMode\n",
    "from models.auto_encoder import AutoEncoder\n",
    "from models.mnist_classifier import MNISTClassifier\n",
    "\n",
    "import torch\n",
    "import torch.nn as nn\n",
    "from torch.utils.data import TensorDataset, DataLoader\n",
    "\n",
    "from utils import *"
   ]
  },
  {
   "cell_type": "code",
   "execution_count": 2,
   "metadata": {},
   "outputs": [],
   "source": [
    "# Using the provided mnist dataset class\n",
    "gen = StackedMNISTData(mode=DataMode.MONO_BINARY_MISSING, default_batch_size=9)\n",
    "\n",
    "train_data = gen.get_full_data_set(training=True)\n",
    "test_data = gen.get_full_data_set(training=False)"
   ]
  },
  {
   "cell_type": "code",
   "execution_count": 3,
   "metadata": {},
   "outputs": [
    {
     "data": {
      "text/plain": [
       "((54149, 28, 28, 1), (10000, 28, 28, 1))"
      ]
     },
     "execution_count": 3,
     "metadata": {},
     "output_type": "execute_result"
    }
   ],
   "source": [
    "train_data[0].shape, test_data[0].shape"
   ]
  },
  {
   "cell_type": "code",
   "execution_count": 4,
   "metadata": {},
   "outputs": [
    {
     "name": "stdout",
     "output_type": "stream",
     "text": [
      "(54149, 28, 28, 1) (54149,)\n",
      "(10000, 28, 28, 1) (10000,)\n",
      "(28, 28, 1)\n",
      "[0. 0. 0. 0. 0. 1. 0. 0. 0. 0.]\n",
      "5\n"
     ]
    },
    {
     "data": {
      "text/plain": [
       "<matplotlib.image.AxesImage at 0x7f3668213520>"
      ]
     },
     "execution_count": 4,
     "metadata": {},
     "output_type": "execute_result"
    },
    {
     "data": {
      "image/png": "[encoded data removed]",
      "text/plain": [
       "<Figure size 900x600 with 1 Axes>"
      ]
     },
     "metadata": {
      "needs_background": "light"
     },
     "output_type": "display_data"
    }
   ],
   "source": [
    "x_train, y_train = train_data\n",
    "x_test, y_test = test_data\n",
    "print(x_train.shape, y_train.shape)\n",
    "print(x_test.shape, y_test.shape)\n",
    "\n",
    "# Convert y_train and y_test into one-hot vectors\n",
    "y_train = to_one_hot(y_train)\n",
    "y_test = to_one_hot(y_test)\n",
    "\n",
    "rand = np.random.randint(0, x_train.shape[0])\n",
    "img = x_train[rand]\n",
    "label = y_train[rand]\n",
    "print(img.shape)\n",
    "\n",
    "print(label)\n",
    "print(label.argmax())\n",
    "plt.figure(figsize=(6, 4), dpi=150)\n",
    "plt.imshow(img.squeeze(), cmap=\"gray\")"
   ]
  },
  {
   "cell_type": "code",
   "execution_count": 5,
   "metadata": {},
   "outputs": [],
   "source": [
    "# Create pytorch dataloaders from x_train and y_train\n",
    "x_train = torch.from_numpy(x_train.astype(np.float32)).permute(0, 3, 1, 2)\n",
    "y_train = torch.from_numpy(y_train.astype(np.float32))\n",
    "\n",
    "train_dataset = TensorDataset(x_train, y_train)\n",
    "train_loader = DataLoader(dataset=train_dataset, batch_size=32, shuffle=True)\n",
    "\n",
    "# Create pytorch dataloaders from x_test and y_test\n",
    "x_test = torch.from_numpy(x_test.astype(np.float32)).permute(0, 3, 1, 2)\n",
    "y_test = torch.from_numpy(y_test.astype(np.float32))\n",
    "\n",
    "test_dataset = TensorDataset(x_test, y_test)\n",
    "test_loader = DataLoader(dataset=test_dataset, batch_size=32)"
   ]
  },
  {
   "cell_type": "code",
   "execution_count": 6,
   "metadata": {},
   "outputs": [
    {
     "data": {
      "text/plain": [
       "device(type='cuda')"
      ]
     },
     "execution_count": 6,
     "metadata": {},
     "output_type": "execute_result"
    }
   ],
   "source": [
    "device = torch.device(\"cuda\" if torch.cuda.is_available() else \"cpu\")\n",
    "device"
   ]
  },
  {
   "cell_type": "code",
   "execution_count": 8,
   "metadata": {},
   "outputs": [
    {
     "name": "stdout",
     "output_type": "stream",
     "text": [
      "Epoch: 0, Loss: 0.19657952990657962\n",
      "Test Loss: 0.1426170879183486\n",
      "Epoch: 1, Loss: 0.11645607506813414\n",
      "Test Loss: 0.11204526544855045\n",
      "Epoch: 2, Loss: 0.09449317814134242\n",
      "Test Loss: 0.09539207554282472\n",
      "Epoch: 3, Loss: 0.08372933384332513\n",
      "Test Loss: 0.0879804399757149\n",
      "Epoch: 4, Loss: 0.07703370218067851\n",
      "Test Loss: 0.08305036894286784\n",
      "Epoch: 5, Loss: 0.07071984907842147\n",
      "Test Loss: 0.07887367444773452\n",
      "Epoch: 6, Loss: 0.06615804900221056\n",
      "Test Loss: 0.07387862456873202\n",
      "Epoch: 7, Loss: 0.06300057888435881\n",
      "Test Loss: 0.07023246842213332\n",
      "Epoch: 8, Loss: 0.06029483097909614\n",
      "Test Loss: 0.06725487477196672\n",
      "Epoch: 9, Loss: 0.05792483863213396\n",
      "Test Loss: 0.06532508347885677\n",
      "Epoch: 10, Loss: 0.055994028519295545\n",
      "Test Loss: 0.06479626445296092\n",
      "Epoch: 11, Loss: 0.05444440035049337\n",
      "Test Loss: 0.062130928848879025\n",
      "Epoch: 12, Loss: 0.05325220583355504\n",
      "Test Loss: 0.06177875311515583\n",
      "Epoch: 13, Loss: 0.052271313060953006\n",
      "Test Loss: 0.06010438769627303\n",
      "Epoch: 14, Loss: 0.051394805642217836\n",
      "Test Loss: 0.05948817788269192\n",
      "Epoch: 15, Loss: 0.05070257130119129\n",
      "Test Loss: 0.05928479031490061\n",
      "Epoch: 16, Loss: 0.05017016280818746\n",
      "Test Loss: 0.0599220542195506\n",
      "Epoch: 17, Loss: 0.04948664255928726\n",
      "Test Loss: 0.05851072143203915\n",
      "Epoch: 18, Loss: 0.04897507422037612\n",
      "Test Loss: 0.05784755916641162\n",
      "Epoch: 19, Loss: 0.04858691629948732\n",
      "Test Loss: 0.05761764060479764\n",
      "Epoch: 20, Loss: 0.048106215260504834\n",
      "Test Loss: 0.05696713002011799\n",
      "Epoch: 21, Loss: 0.04777418451721473\n",
      "Test Loss: 0.05631385561519157\n",
      "Epoch: 22, Loss: 0.04739293186527628\n",
      "Test Loss: 0.05704512369756501\n",
      "Epoch: 23, Loss: 0.04700913042164525\n",
      "Test Loss: 0.0566639215968097\n",
      "Epoch: 24, Loss: 0.046719125065483855\n",
      "Test Loss: 0.05593312734041732\n",
      "Epoch: 25, Loss: 0.046409349230641245\n",
      "Test Loss: 0.05616023053471653\n",
      "Epoch: 26, Loss: 0.04612717799274652\n",
      "Test Loss: 0.055978288522924476\n",
      "Epoch: 27, Loss: 0.04586546575871714\n",
      "Test Loss: 0.05577888659918651\n",
      "Epoch: 28, Loss: 0.04562082220852481\n",
      "Test Loss: 0.055507238513935866\n",
      "Epoch: 29, Loss: 0.04534460347953345\n",
      "Test Loss: 0.05567226801722194\n",
      "Epoch: 30, Loss: 0.04516348280386677\n",
      "Test Loss: 0.05512083012360734\n",
      "Epoch: 31, Loss: 0.04490987189681799\n",
      "Test Loss: 0.055375894489951026\n",
      "Epoch: 32, Loss: 0.044717324394853736\n",
      "Test Loss: 0.05442220733140985\n",
      "Epoch: 33, Loss: 0.0444835557877947\n",
      "Test Loss: 0.05429850124751036\n",
      "Epoch: 34, Loss: 0.0443402362566021\n",
      "Test Loss: 0.05509842595400902\n",
      "Epoch: 35, Loss: 0.04419013081427622\n",
      "Test Loss: 0.05506445604343765\n",
      "Epoch: 36, Loss: 0.04398548955563181\n",
      "Test Loss: 0.05343399607478239\n"
     ]
    },
    {
     "ename": "KeyboardInterrupt",
     "evalue": "",
     "output_type": "error",
     "traceback": [
      "\u001b[0;31m---------------------------------------------------------------------------\u001b[0m",
      "\u001b[0;31mKeyboardInterrupt\u001b[0m                         Traceback (most recent call last)",
      "\u001b[0;32m<ipython-input-8-fc0998f0f018>\u001b[0m in \u001b[0;36m<module>\u001b[0;34m\u001b[0m\n\u001b[1;32m     16\u001b[0m         \u001b[0moutput\u001b[0m \u001b[0;34m=\u001b[0m \u001b[0mmodel\u001b[0m\u001b[0;34m(\u001b[0m\u001b[0mimages\u001b[0m\u001b[0;34m)\u001b[0m\u001b[0;34m\u001b[0m\u001b[0;34m\u001b[0m\u001b[0m\n\u001b[1;32m     17\u001b[0m         \u001b[0mloss\u001b[0m \u001b[0;34m=\u001b[0m \u001b[0mcriterion\u001b[0m\u001b[0;34m(\u001b[0m\u001b[0moutput\u001b[0m\u001b[0;34m,\u001b[0m \u001b[0mimages\u001b[0m\u001b[0;34m)\u001b[0m\u001b[0;34m\u001b[0m\u001b[0;34m\u001b[0m\u001b[0m\n\u001b[0;32m---> 18\u001b[0;31m         \u001b[0mloss\u001b[0m\u001b[0;34m.\u001b[0m\u001b[0mbackward\u001b[0m\u001b[0;34m(\u001b[0m\u001b[0;34m)\u001b[0m\u001b[0;34m\u001b[0m\u001b[0;34m\u001b[0m\u001b[0m\n\u001b[0m\u001b[1;32m     19\u001b[0m         \u001b[0moptimizer\u001b[0m\u001b[0;34m.\u001b[0m\u001b[0mstep\u001b[0m\u001b[0;34m(\u001b[0m\u001b[0;34m)\u001b[0m\u001b[0;34m\u001b[0m\u001b[0;34m\u001b[0m\u001b[0m\n\u001b[1;32m     20\u001b[0m         \u001b[0mtotal_loss\u001b[0m \u001b[0;34m+=\u001b[0m \u001b[0mloss\u001b[0m\u001b[0;34m.\u001b[0m\u001b[0mitem\u001b[0m\u001b[0;34m(\u001b[0m\u001b[0;34m)\u001b[0m\u001b[0;34m\u001b[0m\u001b[0;34m\u001b[0m\u001b[0m\n",
      "\u001b[0;32m~/.local/lib/python3.8/site-packages/torch/_tensor.py\u001b[0m in \u001b[0;36mbackward\u001b[0;34m(self, gradient, retain_graph, create_graph, inputs)\u001b[0m\n\u001b[1;32m    394\u001b[0m                 \u001b[0mcreate_graph\u001b[0m\u001b[0;34m=\u001b[0m\u001b[0mcreate_graph\u001b[0m\u001b[0;34m,\u001b[0m\u001b[0;34m\u001b[0m\u001b[0;34m\u001b[0m\u001b[0m\n\u001b[1;32m    395\u001b[0m                 inputs=inputs)\n\u001b[0;32m--> 396\u001b[0;31m         \u001b[0mtorch\u001b[0m\u001b[0;34m.\u001b[0m\u001b[0mautograd\u001b[0m\u001b[0;34m.\u001b[0m\u001b[0mbackward\u001b[0m\u001b[0;34m(\u001b[0m\u001b[0mself\u001b[0m\u001b[0;34m,\u001b[0m \u001b[0mgradient\u001b[0m\u001b[0;34m,\u001b[0m \u001b[0mretain_graph\u001b[0m\u001b[0;34m,\u001b[0m \u001b[0mcreate_graph\u001b[0m\u001b[0;34m,\u001b[0m \u001b[0minputs\u001b[0m\u001b[0;34m=\u001b[0m\u001b[0minputs\u001b[0m\u001b[0;34m)\u001b[0m\u001b[0;34m\u001b[0m\u001b[0;34m\u001b[0m\u001b[0m\n\u001b[0m\u001b[1;32m    397\u001b[0m \u001b[0;34m\u001b[0m\u001b[0m\n\u001b[1;32m    398\u001b[0m     \u001b[0;32mdef\u001b[0m \u001b[0mregister_hook\u001b[0m\u001b[0;34m(\u001b[0m\u001b[0mself\u001b[0m\u001b[0;34m,\u001b[0m \u001b[0mhook\u001b[0m\u001b[0;34m)\u001b[0m\u001b[0;34m:\u001b[0m\u001b[0;34m\u001b[0m\u001b[0;34m\u001b[0m\u001b[0m\n",
      "\u001b[0;32m~/.local/lib/python3.8/site-packages/torch/autograd/__init__.py\u001b[0m in \u001b[0;36mbackward\u001b[0;34m(tensors, grad_tensors, retain_graph, create_graph, grad_variables, inputs)\u001b[0m\n\u001b[1;32m    171\u001b[0m     \u001b[0;31m# some Python versions print out the first line of a multi-line function\u001b[0m\u001b[0;34m\u001b[0m\u001b[0;34m\u001b[0m\u001b[0;34m\u001b[0m\u001b[0m\n\u001b[1;32m    172\u001b[0m     \u001b[0;31m# calls in the traceback and some print out the last line\u001b[0m\u001b[0;34m\u001b[0m\u001b[0;34m\u001b[0m\u001b[0;34m\u001b[0m\u001b[0m\n\u001b[0;32m--> 173\u001b[0;31m     Variable._execution_engine.run_backward(  # Calls into the C++ engine to run the backward pass\n\u001b[0m\u001b[1;32m    174\u001b[0m         \u001b[0mtensors\u001b[0m\u001b[0;34m,\u001b[0m \u001b[0mgrad_tensors_\u001b[0m\u001b[0;34m,\u001b[0m \u001b[0mretain_graph\u001b[0m\u001b[0;34m,\u001b[0m \u001b[0mcreate_graph\u001b[0m\u001b[0;34m,\u001b[0m \u001b[0minputs\u001b[0m\u001b[0;34m,\u001b[0m\u001b[0;34m\u001b[0m\u001b[0;34m\u001b[0m\u001b[0m\n\u001b[1;32m    175\u001b[0m         allow_unreachable=True, accumulate_grad=True)  # Calls into the C++ engine to run the backward pass\n",
      "\u001b[0;31mKeyboardInterrupt\u001b[0m: "
     ]
    }
   ],
   "source": [
    "# Training setup\n",
    "model = AutoEncoder(in_channels=1)\n",
    "model.to(device)\n",
    "optimizer = torch.optim.Adam(model.parameters(), lr=0.0005)\n",
    "criterion = nn.BCELoss()\n",
    "\n",
    "# Training the autoencoder\n",
    "val_losses = []\n",
    "\n",
    "for epoch in range(100):\n",
    "    model.train()\n",
    "    total_loss = 0\n",
    "    for images, _ in train_loader:\n",
    "        images = images.to(device)\n",
    "        optimizer.zero_grad()\n",
    "        output = model(images)\n",
    "        loss = criterion(output, images)\n",
    "        loss.backward()\n",
    "        optimizer.step()\n",
    "        total_loss += loss.item()\n",
    "    print(f\"Epoch: {epoch}, Loss: {total_loss / len(train_loader)}\")\n",
    "\n",
    "    # Test on test data\n",
    "    model.eval()\n",
    "    test_loss_sum = 0\n",
    "    with torch.no_grad():\n",
    "        for images, _ in test_loader:\n",
    "            images = images.to(device)\n",
    "            output = model(images)\n",
    "            loss = criterion(output, images)\n",
    "            test_loss_sum += loss.item()\n",
    "        \n",
    "        test_loss = test_loss_sum / len(test_loader)\n",
    "        print(f\"Test Loss: {test_loss}\")\n",
    "        if (len(val_losses) > 5) and all(test_loss >= x for x in val_losses[-3:]):\n",
    "            print(\"Early Stopping...\")\n",
    "            break\n",
    "        val_losses.append(test_loss)\n"
   ]
  },
  {
   "cell_type": "code",
   "execution_count": 9,
   "metadata": {},
   "outputs": [],
   "source": [
    "# Save the AutoEncoder model\n",
    "torch.save(model.state_dict(), \"trained_models/auto_encoder_missing.pt\")"
   ]
  },
  {
   "cell_type": "code",
   "execution_count": 10,
   "metadata": {},
   "outputs": [
    {
     "name": "stdout",
     "output_type": "stream",
     "text": [
      "Test Loss: 0.053608866854788016\n"
     ]
    }
   ],
   "source": [
    "# Test the auto encoder\n",
    "model.eval()\n",
    "\n",
    "test_loss = 0\n",
    "\n",
    "anomalous_images = []\n",
    "\n",
    "with torch.no_grad():\n",
    "    for x, _ in test_loader:\n",
    "        x = x.to(device)\n",
    "        pred = model(x)\n",
    "        loss = criterion(pred, x)\n",
    "        test_loss += loss.item()\n",
    "\n",
    "print(f\"Test Loss: {test_loss / len(test_loader)}\")"
   ]
  },
  {
   "cell_type": "code",
   "execution_count": 15,
   "metadata": {},
   "outputs": [],
   "source": [
    "test_loader_1 = DataLoader(test_dataset, batch_size=1)"
   ]
  },
  {
   "cell_type": "code",
   "execution_count": 44,
   "metadata": {},
   "outputs": [],
   "source": [
    "# Get anomalous images\n",
    "model.eval()\n",
    "\n",
    "test_loss = 0\n",
    "\n",
    "anomalous_images = []\n",
    "max_losses = []\n",
    "labels = []\n",
    "\n",
    "with torch.no_grad():\n",
    "    for x, y in test_loader_1:\n",
    "        y = y.argmax(dim=1).item()\n",
    "        x = x.to(device)\n",
    "        pred = model(x)\n",
    "        loss = criterion(pred, x)\n",
    "        loss = loss.item()\n",
    "        if len(max_losses) > 7:\n",
    "            min_val = min(max_losses)\n",
    "            min_loss_index = max_losses.index(min_val)\n",
    "            if (loss > min_val): \n",
    "                anomalous_images[min_loss_index] = pred.squeeze(0).cpu().numpy()\n",
    "                max_losses[min_loss_index] = loss\n",
    "                labels[min_loss_index] = y\n",
    "        else:\n",
    "            anomalous_images.append(pred.squeeze(0).cpu().numpy())\n",
    "            max_losses.append(loss)\n",
    "            labels.append(y)\n"
   ]
  },
  {
   "attachments": {},
   "cell_type": "markdown",
   "metadata": {},
   "source": [
    "Test accuracy with classifier"
   ]
  },
  {
   "cell_type": "code",
   "execution_count": 45,
   "metadata": {},
   "outputs": [
    {
     "data": {
      "image/png": "[encoded data removed]",
      "text/plain": [
       "<Figure size 1500x900 with 8 Axes>"
      ]
     },
     "metadata": {
      "needs_background": "light"
     },
     "output_type": "display_data"
    }
   ],
   "source": [
    "# Create a figure with 5 horizontally arranged subplots\n",
    "fig, axs = plt.subplots(2, 4, figsize=(10, 6), dpi=150)\n",
    "\n",
    "# Plot each image in a separate subplot\n",
    "n = 0\n",
    "for i in range(2):\n",
    "    for j in range(4):\n",
    "        axs[i, j].imshow(anomalous_images[n].squeeze(), cmap='gray')\n",
    "        axs[i, j].set_title(f\"Label {labels[n]}\")\n",
    "        n += 1\n",
    "    \n",
    "plt.show()"
   ]
  },
  {
   "attachments": {},
   "cell_type": "markdown",
   "metadata": {},
   "source": [
    "We can see that it filters out a lot of the eights, but unfortunately also some other numbers"
   ]
  },
  {
   "cell_type": "code",
   "execution_count": 10,
   "metadata": {},
   "outputs": [
    {
     "data": {
      "text/plain": [
       "<All keys matched successfully>"
      ]
     },
     "execution_count": 10,
     "metadata": {},
     "output_type": "execute_result"
    }
   ],
   "source": [
    "mnist_classifier = MNISTClassifier(1)\n",
    "mnist_classifier.load_state_dict(torch.load('trained_models/mnist_model.pt'))"
   ]
  },
  {
   "cell_type": "code",
   "execution_count": 11,
   "metadata": {},
   "outputs": [
    {
     "data": {
      "text/plain": [
       "MNISTClassifier(\n",
       "  (feature_extractor): Sequential(\n",
       "    (0): Conv2d(1, 16, kernel_size=(3, 3), stride=(1, 1), padding=(1, 1))\n",
       "    (1): ReLU()\n",
       "    (2): MaxPool2d(kernel_size=2, stride=2, padding=0, dilation=1, ceil_mode=False)\n",
       "    (3): Conv2d(16, 32, kernel_size=(3, 3), stride=(1, 1), padding=(1, 1))\n",
       "    (4): ReLU()\n",
       "    (5): Conv2d(32, 64, kernel_size=(3, 3), stride=(1, 1), padding=(1, 1))\n",
       "    (6): ReLU()\n",
       "    (7): MaxPool2d(kernel_size=2, stride=2, padding=0, dilation=1, ceil_mode=False)\n",
       "  )\n",
       "  (classifier): Sequential(\n",
       "    (0): Flatten(start_dim=1, end_dim=-1)\n",
       "    (1): Linear(in_features=3136, out_features=128, bias=True)\n",
       "    (2): ReLU()\n",
       "    (3): Linear(in_features=128, out_features=10, bias=True)\n",
       "  )\n",
       ")"
      ]
     },
     "execution_count": 11,
     "metadata": {},
     "output_type": "execute_result"
    }
   ],
   "source": [
    "mnist_classifier.to(device)"
   ]
  },
  {
   "cell_type": "code",
   "execution_count": 12,
   "metadata": {},
   "outputs": [
    {
     "name": "stdout",
     "output_type": "stream",
     "text": [
      "Accuracy: 97.45%\n"
     ]
    }
   ],
   "source": [
    "correct_preds = 0\n",
    "\n",
    "with torch.no_grad():\n",
    "    for x, y in test_loader:\n",
    "        x = x.to(device)\n",
    "        y = y.to(device)\n",
    "        ae_output = model(x)\n",
    "\n",
    "        ae_output_class = mnist_classifier(ae_output)\n",
    "        ae_output_class = ae_output_class.argmax(dim=1, keepdim=True)\n",
    "        truth = y.argmax(dim=1, keepdim=True)\n",
    "\n",
    "        correct_preds += ae_output_class.eq(truth.view_as(ae_output_class)).sum().item()\n",
    "\n",
    "    accuracy = correct_preds / len(test_loader.dataset)\n",
    "\n",
    "print(f\"Accuracy: {100*accuracy}%\")"
   ]
  },
  {
   "cell_type": "code",
   "execution_count": 13,
   "metadata": {},
   "outputs": [
    {
     "data": {
      "text/plain": [
       "(28, 28, 1)"
      ]
     },
     "execution_count": 13,
     "metadata": {},
     "output_type": "execute_result"
    }
   ],
   "source": [
    "img.shape"
   ]
  },
  {
   "attachments": {},
   "cell_type": "markdown",
   "metadata": {},
   "source": [
    "Some analysis of latent states from encoded images"
   ]
  },
  {
   "cell_type": "code",
   "execution_count": 14,
   "metadata": {},
   "outputs": [
    {
     "data": {
      "text/plain": [
       "5"
      ]
     },
     "execution_count": 14,
     "metadata": {},
     "output_type": "execute_result"
    }
   ],
   "source": [
    "rand = np.random.randint(0, 31)\n",
    "rand"
   ]
  },
  {
   "cell_type": "code",
   "execution_count": 15,
   "metadata": {},
   "outputs": [
    {
     "data": {
      "text/plain": [
       "torch.Size([32, 16])"
      ]
     },
     "execution_count": 15,
     "metadata": {},
     "output_type": "execute_result"
    }
   ],
   "source": [
    "with torch.no_grad():\n",
    "    i, (x, y) = next(enumerate(test_loader))\n",
    "    x = x.to(device)\n",
    "    y = y.to(device)\n",
    "    latent_state = model.encoder(x)\n",
    "\n",
    "latent_state.shape"
   ]
  },
  {
   "cell_type": "code",
   "execution_count": 16,
   "metadata": {},
   "outputs": [
    {
     "data": {
      "text/plain": [
       "(16,)"
      ]
     },
     "execution_count": 16,
     "metadata": {},
     "output_type": "execute_result"
    }
   ],
   "source": [
    "latent_state = latent_state[rand].squeeze().cpu().numpy()\n",
    "latent_state.shape"
   ]
  },
  {
   "cell_type": "code",
   "execution_count": 17,
   "metadata": {},
   "outputs": [
    {
     "data": {
      "image/png": "[encoded data removed]",
      "text/plain": [
       "<Figure size 900x600 with 1 Axes>"
      ]
     },
     "metadata": {
      "needs_background": "light"
     },
     "output_type": "display_data"
    }
   ],
   "source": [
    "plt.figure(figsize=(6, 4), dpi=150)\n",
    "plt.hist(latent_state, bins=50)\n",
    "plt.show()"
   ]
  }
 ],
 "metadata": {
  "kernelspec": {
   "display_name": "Python 3",
   "language": "python",
   "name": "python3"
  },
  "language_info": {
   "codemirror_mode": {
    "name": "ipython",
    "version": 3
   },
   "file_extension": ".py",
   "mimetype": "text/x-python",
   "name": "python",
   "nbconvert_exporter": "python",
   "pygments_lexer": "ipython3",
   "version": "3.8.10 (default, Mar 13 2023, 10:26:41) \n[GCC 9.4.0]"
  },
  "orig_nbformat": 4,
  "vscode": {
   "interpreter": {
    "hash": "767d51c1340bd893661ea55ea3124f6de3c7a262a8b4abca0554b478b1e2ff90"
   }
  }
 },
 "nbformat": 4,
 "nbformat_minor": 2
}
