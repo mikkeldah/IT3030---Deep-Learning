{
 "cells": [
  {
   "cell_type": "code",
   "execution_count": 23,
   "metadata": {},
   "outputs": [],
   "source": [
    "import numpy as np\n",
    "import matplotlib.pyplot as plt\n",
    "\n",
    "from stacked_mnist import StackedMNISTData, DataMode\n",
    "from models.vae import VAE\n",
    "from models.mnist_classifier import MNISTClassifier\n",
    "\n",
    "import torch\n",
    "import torch.nn as nn\n",
    "from torch.utils.data import TensorDataset, DataLoader\n",
    "\n",
    "from utils import *"
   ]
  },
  {
   "cell_type": "code",
   "execution_count": 24,
   "metadata": {},
   "outputs": [],
   "source": [
    "# Using the provided mnist dataset class\n",
    "gen = StackedMNISTData(mode=DataMode.COLOR_BINARY_COMPLETE, default_batch_size=9)\n",
    "\n",
    "train_data = gen.get_full_data_set(training=True)\n",
    "test_data = gen.get_full_data_set(training=False)"
   ]
  },
  {
   "cell_type": "code",
   "execution_count": 25,
   "metadata": {},
   "outputs": [
    {
     "data": {
      "text/plain": [
       "((60000, 28, 28, 3), (10000, 28, 28, 3))"
      ]
     },
     "execution_count": 25,
     "metadata": {},
     "output_type": "execute_result"
    }
   ],
   "source": [
    "train_data[0].shape, test_data[0].shape"
   ]
  },
  {
   "cell_type": "code",
   "execution_count": 26,
   "metadata": {},
   "outputs": [
    {
     "name": "stdout",
     "output_type": "stream",
     "text": [
      "(60000, 28, 28, 3) (60000,)\n",
      "(10000, 28, 28, 3) (10000,)\n",
      "(28, 28, 3)\n",
      "[0. 0. 0. 0. 0. 0. 0. 0. 0. 0. 0. 0. 0. 0. 0. 0. 0. 0. 0. 0. 0. 0. 0. 0.\n",
      " 0. 0. 0. 0. 0. 0. 0. 0. 0. 0. 0. 0. 0. 0. 0. 0. 0. 0. 0. 0. 0. 0. 0. 0.\n",
      " 0. 0. 0. 0. 0. 0. 0. 0. 0. 0. 0. 0. 0. 0. 0. 0. 0. 0. 0. 0. 0. 0. 0. 0.\n",
      " 0. 0. 0. 0. 0. 0. 0. 0. 0. 0. 0. 0. 0. 0. 0. 0. 0. 0. 0. 0. 0. 0. 0. 0.\n",
      " 0. 0. 0. 0. 0. 0. 0. 0. 0. 0. 0. 0. 0. 0. 0. 0. 0. 0. 0. 0. 0. 0. 0. 0.\n",
      " 0. 0. 0. 0. 0. 0. 0. 0. 0. 0. 0. 0. 0. 0. 0. 0. 0. 0. 0. 0. 0. 0. 0. 0.\n",
      " 0. 0. 0. 0. 0. 0. 0. 0. 0. 0. 0. 0. 0. 0. 0. 0. 0. 0. 0. 0. 0. 0. 0. 0.\n",
      " 0. 0. 0. 0. 0. 0. 0. 0. 0. 0. 0. 0. 0. 0. 0. 0. 0. 0. 0. 0. 0. 0. 0. 0.\n",
      " 0. 0. 0. 0. 0. 0. 0. 0. 0. 1. 0. 0. 0. 0. 0. 0. 0. 0. 0. 0. 0. 0. 0. 0.\n",
      " 0. 0. 0. 0. 0. 0. 0. 0. 0. 0. 0. 0. 0. 0. 0. 0. 0. 0. 0. 0. 0. 0. 0. 0.\n",
      " 0. 0. 0. 0. 0. 0. 0. 0. 0. 0. 0. 0. 0. 0. 0. 0. 0. 0. 0. 0. 0. 0. 0. 0.\n",
      " 0. 0. 0. 0. 0. 0. 0. 0. 0. 0. 0. 0. 0. 0. 0. 0. 0. 0. 0. 0. 0. 0. 0. 0.\n",
      " 0. 0. 0. 0. 0. 0. 0. 0. 0. 0. 0. 0. 0. 0. 0. 0. 0. 0. 0. 0. 0. 0. 0. 0.\n",
      " 0. 0. 0. 0. 0. 0. 0. 0. 0. 0. 0. 0. 0. 0. 0. 0. 0. 0. 0. 0. 0. 0. 0. 0.\n",
      " 0. 0. 0. 0. 0. 0. 0. 0. 0. 0. 0. 0. 0. 0. 0. 0. 0. 0. 0. 0. 0. 0. 0. 0.\n",
      " 0. 0. 0. 0. 0. 0. 0. 0. 0. 0. 0. 0. 0. 0. 0. 0. 0. 0. 0. 0. 0. 0. 0. 0.\n",
      " 0. 0. 0. 0. 0. 0. 0. 0. 0. 0. 0. 0. 0. 0. 0. 0. 0. 0. 0. 0. 0. 0. 0. 0.\n",
      " 0. 0. 0. 0. 0. 0. 0. 0. 0. 0. 0. 0. 0. 0. 0. 0. 0. 0. 0. 0. 0. 0. 0. 0.\n",
      " 0. 0. 0. 0. 0. 0. 0. 0. 0. 0. 0. 0. 0. 0. 0. 0. 0. 0. 0. 0. 0. 0. 0. 0.\n",
      " 0. 0. 0. 0. 0. 0. 0. 0. 0. 0. 0. 0. 0. 0. 0. 0. 0. 0. 0. 0. 0. 0. 0. 0.\n",
      " 0. 0. 0. 0. 0. 0. 0. 0. 0. 0. 0. 0. 0. 0. 0. 0. 0. 0. 0. 0. 0. 0. 0. 0.\n",
      " 0. 0. 0. 0. 0. 0. 0. 0. 0. 0. 0. 0. 0. 0. 0. 0. 0. 0. 0. 0. 0. 0. 0. 0.\n",
      " 0. 0. 0. 0. 0. 0. 0. 0. 0. 0. 0. 0. 0. 0. 0. 0. 0. 0. 0. 0. 0. 0. 0. 0.\n",
      " 0. 0. 0. 0. 0. 0. 0. 0. 0. 0. 0. 0. 0. 0. 0. 0. 0. 0. 0. 0. 0. 0. 0. 0.\n",
      " 0. 0. 0. 0. 0. 0. 0. 0. 0. 0. 0. 0. 0. 0. 0. 0. 0. 0. 0. 0. 0. 0. 0. 0.\n",
      " 0. 0. 0. 0. 0. 0. 0. 0. 0. 0. 0. 0. 0. 0. 0. 0. 0. 0. 0. 0. 0. 0. 0. 0.\n",
      " 0. 0. 0. 0. 0. 0. 0. 0. 0. 0. 0. 0. 0. 0. 0. 0. 0. 0. 0. 0. 0. 0. 0. 0.\n",
      " 0. 0. 0. 0. 0. 0. 0. 0. 0. 0. 0. 0. 0. 0. 0. 0. 0. 0. 0. 0. 0. 0. 0. 0.\n",
      " 0. 0. 0. 0. 0. 0. 0. 0. 0. 0. 0. 0. 0. 0. 0. 0. 0. 0. 0. 0. 0. 0. 0. 0.\n",
      " 0. 0. 0. 0. 0. 0. 0. 0. 0. 0. 0. 0. 0. 0. 0. 0. 0. 0. 0. 0. 0. 0. 0. 0.\n",
      " 0. 0. 0. 0. 0. 0. 0. 0. 0. 0. 0. 0. 0. 0. 0. 0. 0. 0. 0. 0. 0. 0. 0. 0.\n",
      " 0. 0. 0. 0. 0. 0. 0. 0. 0. 0. 0. 0. 0. 0. 0. 0. 0. 0. 0. 0. 0. 0. 0. 0.\n",
      " 0. 0. 0. 0. 0. 0. 0. 0. 0. 0. 0. 0. 0. 0. 0. 0. 0. 0. 0. 0. 0. 0. 0. 0.\n",
      " 0. 0. 0. 0. 0. 0. 0. 0. 0. 0. 0. 0. 0. 0. 0. 0. 0. 0. 0. 0. 0. 0. 0. 0.\n",
      " 0. 0. 0. 0. 0. 0. 0. 0. 0. 0. 0. 0. 0. 0. 0. 0. 0. 0. 0. 0. 0. 0. 0. 0.\n",
      " 0. 0. 0. 0. 0. 0. 0. 0. 0. 0. 0. 0. 0. 0. 0. 0. 0. 0. 0. 0. 0. 0. 0. 0.\n",
      " 0. 0. 0. 0. 0. 0. 0. 0. 0. 0. 0. 0. 0. 0. 0. 0. 0. 0. 0. 0. 0. 0. 0. 0.\n",
      " 0. 0. 0. 0. 0. 0. 0. 0. 0. 0. 0. 0. 0. 0. 0. 0. 0. 0. 0. 0. 0. 0. 0. 0.\n",
      " 0. 0. 0. 0. 0. 0. 0. 0. 0. 0. 0. 0. 0. 0. 0. 0. 0. 0. 0. 0. 0. 0. 0. 0.\n",
      " 0. 0. 0. 0. 0. 0. 0. 0. 0. 0. 0. 0. 0. 0. 0. 0. 0. 0. 0. 0. 0. 0. 0. 0.\n",
      " 0. 0. 0. 0. 0. 0. 0. 0. 0. 0. 0. 0. 0. 0. 0. 0. 0. 0. 0. 0. 0. 0. 0. 0.\n",
      " 0. 0. 0. 0. 0. 0. 0. 0. 0. 0. 0. 0. 0. 0. 0. 0.]\n",
      "201\n"
     ]
    },
    {
     "data": {
      "text/plain": [
       "<matplotlib.image.AxesImage at 0x7f5040b79310>"
      ]
     },
     "execution_count": 26,
     "metadata": {},
     "output_type": "execute_result"
    },
    {
     "data": {
      "image/png": "[encoded data removed]",
      "text/plain": [
       "<Figure size 900x600 with 1 Axes>"
      ]
     },
     "metadata": {
      "needs_background": "light"
     },
     "output_type": "display_data"
    }
   ],
   "source": [
    "x_train, y_train = train_data\n",
    "x_test, y_test = test_data\n",
    "print(x_train.shape, y_train.shape)\n",
    "print(x_test.shape, y_test.shape)\n",
    "\n",
    "# Convert y_train and y_test into one-hot vectors\n",
    "y_train = to_one_hot_rgb(y_train)\n",
    "y_test = to_one_hot_rgb(y_test)\n",
    "\n",
    "rand = np.random.randint(0, x_train.shape[0])\n",
    "img = x_train[rand]\n",
    "label = y_train[rand]\n",
    "print(img.shape)\n",
    "\n",
    "print(label)\n",
    "print(label.argmax())\n",
    "plt.figure(figsize=(6, 4), dpi=150)\n",
    "plt.imshow(img*255)"
   ]
  },
  {
   "cell_type": "code",
   "execution_count": 27,
   "metadata": {},
   "outputs": [],
   "source": [
    "# Create pytorch dataloaders from x_train and y_train\n",
    "x_train = torch.from_numpy(x_train.astype(np.float32)).permute(0, 3, 1, 2)\n",
    "y_train = torch.from_numpy(y_train.astype(np.float32))\n",
    "\n",
    "train_dataset = TensorDataset(x_train, y_train)\n",
    "train_loader = DataLoader(dataset=train_dataset, batch_size=64, shuffle=True)\n",
    "\n",
    "# Create pytorch dataloaders from x_test and y_test\n",
    "x_test = torch.from_numpy(x_test.astype(np.float32)).permute(0, 3, 1, 2)\n",
    "y_test = torch.from_numpy(y_test.astype(np.float32))\n",
    "\n",
    "test_dataset = TensorDataset(x_test, y_test)\n",
    "test_loader = DataLoader(dataset=test_dataset, batch_size=64)"
   ]
  },
  {
   "cell_type": "code",
   "execution_count": 28,
   "metadata": {},
   "outputs": [
    {
     "data": {
      "text/plain": [
       "device(type='cuda')"
      ]
     },
     "execution_count": 28,
     "metadata": {},
     "output_type": "execute_result"
    }
   ],
   "source": [
    "device = torch.device(\"cuda\" if torch.cuda.is_available() else \"cpu\")\n",
    "device"
   ]
  },
  {
   "cell_type": "code",
   "execution_count": 29,
   "metadata": {},
   "outputs": [],
   "source": [
    "def VAELoss(bce_loss, mu, logvar):\n",
    "    BCE = bce_loss \n",
    "    KLD = -0.5 * torch.sum(1 + logvar - mu.pow(2) - logvar.exp())\n",
    "    return BCE + KLD"
   ]
  },
  {
   "cell_type": "code",
   "execution_count": 30,
   "metadata": {},
   "outputs": [
    {
     "name": "stdout",
     "output_type": "stream",
     "text": [
      "Epoch: 0, Loss: 41758.649690998136\n",
      "Test Loss: 37228.18310857882\n",
      "Epoch: 1, Loss: 36988.19646605144\n",
      "Test Loss: 36311.888553692275\n",
      "Epoch: 2, Loss: 36193.34136169043\n",
      "Test Loss: 35496.41706060908\n",
      "Epoch: 3, Loss: 35435.915478411516\n",
      "Test Loss: 34886.38801253981\n",
      "Epoch: 4, Loss: 35035.4836358109\n",
      "Test Loss: 34627.58602458201\n",
      "Epoch: 5, Loss: 34861.76078383195\n",
      "Test Loss: 34519.964147093946\n",
      "Epoch: 6, Loss: 34716.22249383662\n",
      "Test Loss: 34402.05367361664\n",
      "Epoch: 7, Loss: 34556.13572761194\n",
      "Test Loss: 34214.38405652866\n",
      "Epoch: 8, Loss: 34433.672682902456\n",
      "Test Loss: 34078.27963276274\n",
      "Epoch: 9, Loss: 33283.59567397388\n",
      "Test Loss: 31810.53445959395\n",
      "Epoch: 10, Loss: 31577.602732709223\n",
      "Test Loss: 30864.470510300558\n",
      "Epoch: 11, Loss: 30805.447284365004\n",
      "Test Loss: 30353.0095790207\n",
      "Epoch: 12, Loss: 30401.19782157849\n",
      "Test Loss: 29935.816207205415\n",
      "Epoch: 13, Loss: 30137.220456381598\n",
      "Test Loss: 29744.52521957106\n",
      "Epoch: 14, Loss: 29950.966388759327\n",
      "Test Loss: 29619.864307573647\n",
      "Epoch: 15, Loss: 29806.787356118402\n",
      "Test Loss: 29461.925392491044\n",
      "Epoch: 16, Loss: 29692.236855968484\n",
      "Test Loss: 29328.627344994027\n",
      "Epoch: 17, Loss: 29596.061282940766\n",
      "Test Loss: 29286.576420680733\n",
      "Epoch: 18, Loss: 29514.151267240806\n",
      "Test Loss: 29217.08122574144\n",
      "Epoch: 19, Loss: 29434.722621893325\n",
      "Test Loss: 29123.921452030256\n",
      "Epoch: 20, Loss: 29365.378964552237\n",
      "Test Loss: 29057.55637937898\n",
      "Epoch: 21, Loss: 29308.761039945362\n",
      "Test Loss: 29154.074119227706\n",
      "Epoch: 22, Loss: 29258.612050656317\n",
      "Test Loss: 28972.498839943273\n",
      "Epoch: 23, Loss: 29195.603902918443\n",
      "Test Loss: 28979.472516296777\n",
      "Epoch: 24, Loss: 29156.123921408584\n",
      "Test Loss: 28880.63912594546\n",
      "Epoch: 25, Loss: 29106.632373150987\n",
      "Test Loss: 28839.959932946855\n",
      "Epoch: 26, Loss: 29047.801837978077\n",
      "Test Loss: 28813.463739674564\n",
      "Epoch: 27, Loss: 28879.739069371335\n",
      "Test Loss: 28499.228857732884\n",
      "Epoch: 28, Loss: 28520.349157532648\n",
      "Test Loss: 28086.16111415207\n",
      "Epoch: 29, Loss: 28262.39448856443\n",
      "Test Loss: 28044.11283028961\n",
      "Epoch: 30, Loss: 28103.73717767191\n",
      "Test Loss: 27899.689027045184\n",
      "Epoch: 31, Loss: 27978.897428663047\n",
      "Test Loss: 27710.651081060907\n",
      "Epoch: 32, Loss: 27891.96121235341\n",
      "Test Loss: 27708.87370621019\n",
      "Epoch: 33, Loss: 27813.927376232677\n",
      "Test Loss: 27640.117529607884\n",
      "Epoch: 34, Loss: 27743.21528830457\n",
      "Test Loss: 27555.546364948248\n",
      "Epoch: 35, Loss: 27678.898628023388\n",
      "Test Loss: 27488.046128582802\n",
      "Epoch: 36, Loss: 27625.090873409183\n",
      "Test Loss: 27404.95280777269\n",
      "Epoch: 37, Loss: 27574.904632112874\n",
      "Test Loss: 27309.291531896895\n",
      "Epoch: 38, Loss: 27527.673454366006\n",
      "Test Loss: 27274.318234972136\n",
      "Epoch: 39, Loss: 27480.11672941098\n",
      "Test Loss: 27385.48167234773\n",
      "Epoch: 40, Loss: 27422.48515166911\n",
      "Test Loss: 27223.723303144903\n",
      "Epoch: 41, Loss: 27375.109910131265\n",
      "Test Loss: 27390.79693098129\n",
      "Epoch: 42, Loss: 27278.920338319564\n",
      "Test Loss: 26991.2712977707\n",
      "Epoch: 43, Loss: 27158.985105860207\n",
      "Test Loss: 26992.579540082603\n",
      "Epoch: 44, Loss: 27022.315919009863\n",
      "Test Loss: 26895.72222395004\n",
      "Epoch: 45, Loss: 26926.910916261328\n",
      "Test Loss: 26782.128377537818\n",
      "Epoch: 46, Loss: 26817.738521746734\n",
      "Test Loss: 26606.757594794984\n",
      "Epoch: 47, Loss: 26727.803521455226\n",
      "Test Loss: 26542.73676353503\n",
      "Epoch: 48, Loss: 26645.633756788047\n",
      "Test Loss: 26491.517229796973\n",
      "Epoch: 49, Loss: 26548.483394273055\n",
      "Test Loss: 26367.058830115446\n",
      "Epoch: 50, Loss: 26450.755639700492\n",
      "Test Loss: 26311.987410429938\n",
      "Epoch: 51, Loss: 26348.566571786712\n",
      "Test Loss: 26111.8687456459\n",
      "Epoch: 52, Loss: 26251.151150636328\n",
      "Test Loss: 26124.816418690287\n",
      "Epoch: 53, Loss: 26153.788223364205\n",
      "Test Loss: 25983.879571805333\n",
      "Epoch: 54, Loss: 26056.99523379198\n",
      "Test Loss: 25965.45295394606\n",
      "Epoch: 55, Loss: 25966.847845732274\n",
      "Test Loss: 25828.505977557725\n",
      "Epoch: 56, Loss: 25876.651673274253\n",
      "Test Loss: 25757.439123457403\n",
      "Epoch: 57, Loss: 25786.297907782515\n",
      "Test Loss: 25702.29069839769\n",
      "Epoch: 58, Loss: 25695.64381496535\n",
      "Test Loss: 25582.652673417597\n",
      "Epoch: 59, Loss: 25607.737478553106\n",
      "Test Loss: 25542.45329294387\n",
      "Epoch: 60, Loss: 25511.678365288513\n",
      "Test Loss: 25334.18233728105\n",
      "Epoch: 61, Loss: 25435.69654101146\n",
      "Test Loss: 25265.32649221238\n",
      "Epoch: 62, Loss: 25355.31926930637\n",
      "Test Loss: 25296.7906641869\n",
      "Epoch: 63, Loss: 25269.86033802805\n",
      "Test Loss: 25114.623877264134\n",
      "Epoch: 64, Loss: 25198.88626898987\n",
      "Test Loss: 25191.855474970143\n",
      "Epoch: 65, Loss: 25136.922202950092\n",
      "Test Loss: 25003.921137913017\n",
      "Epoch: 66, Loss: 25083.259790611675\n",
      "Test Loss: 24914.052205662818\n",
      "Epoch: 67, Loss: 25028.589825009996\n",
      "Test Loss: 24899.634473278264\n",
      "Epoch: 68, Loss: 24980.741733575425\n",
      "Test Loss: 24952.150717182525\n",
      "Epoch: 69, Loss: 24937.84509511594\n",
      "Test Loss: 24901.104532618432\n",
      "Epoch: 70, Loss: 24899.97225021655\n",
      "Test Loss: 24708.497813619626\n",
      "Epoch: 71, Loss: 24868.08353877932\n",
      "Test Loss: 24774.574700811107\n",
      "Epoch: 72, Loss: 24829.921966617803\n",
      "Test Loss: 24703.85724771099\n",
      "Epoch: 73, Loss: 24787.80513830124\n",
      "Test Loss: 24750.971306478903\n",
      "Epoch: 74, Loss: 24770.391296516857\n",
      "Test Loss: 24801.777132265128\n",
      "Epoch: 75, Loss: 24729.73105177239\n",
      "Test Loss: 24675.782755274682\n",
      "Epoch: 76, Loss: 24698.837783390525\n",
      "Test Loss: 24536.57896471935\n",
      "Epoch: 77, Loss: 24680.443157399386\n",
      "Test Loss: 24700.483721884953\n",
      "Epoch: 78, Loss: 24649.62366113073\n",
      "Test Loss: 24545.509998880374\n",
      "Epoch: 79, Loss: 24625.377068688365\n",
      "Test Loss: 24624.2478385002\n",
      "Epoch: 80, Loss: 24599.04960687633\n",
      "Test Loss: 24527.15746914809\n",
      "Epoch: 81, Loss: 24577.99671529351\n",
      "Test Loss: 24512.656542346736\n",
      "Epoch: 82, Loss: 24545.212723006065\n",
      "Test Loss: 24466.17149868133\n",
      "Epoch: 83, Loss: 24541.661172374734\n",
      "Test Loss: 24570.816222755773\n",
      "Epoch: 84, Loss: 24517.87208697028\n",
      "Test Loss: 24518.116447302946\n",
      "Epoch: 85, Loss: 24492.950966776054\n",
      "Test Loss: 24374.977231165405\n",
      "Epoch: 86, Loss: 24481.274958563765\n",
      "Test Loss: 24426.49424947751\n",
      "Epoch: 87, Loss: 24457.91455806903\n",
      "Test Loss: 24409.685120795184\n",
      "Epoch: 88, Loss: 24429.28889175773\n",
      "Test Loss: 24377.071649830814\n",
      "Epoch: 89, Loss: 24418.41475171575\n",
      "Test Loss: 24477.37791102707\n",
      "Epoch: 90, Loss: 24400.620096365274\n",
      "Test Loss: 24385.45789895999\n",
      "Epoch: 91, Loss: 24386.86898654051\n",
      "Test Loss: 24351.38483715665\n",
      "Epoch: 92, Loss: 24370.352364155784\n",
      "Test Loss: 24323.354131419186\n",
      "Epoch: 93, Loss: 24353.35373842284\n",
      "Test Loss: 24216.712843973924\n",
      "Epoch: 94, Loss: 24335.921149345348\n",
      "Test Loss: 24329.083066903862\n",
      "Epoch: 95, Loss: 24323.36885327825\n",
      "Test Loss: 24387.080725019903\n",
      "Epoch: 96, Loss: 24305.115037604945\n",
      "Test Loss: 24151.369162395502\n",
      "Epoch: 97, Loss: 24301.911156758062\n",
      "Test Loss: 24201.792107260153\n",
      "Epoch: 98, Loss: 24279.97118411847\n",
      "Test Loss: 24191.37124614351\n",
      "Epoch: 99, Loss: 24268.39657911614\n",
      "Test Loss: 24336.159639978105\n"
     ]
    }
   ],
   "source": [
    "# Training setup\n",
    "model = VAE(in_channels=3)\n",
    "model.to(device)\n",
    "optimizer = torch.optim.Adam(model.parameters(), lr=0.001)\n",
    "criterion = nn.BCELoss(reduction=\"sum\")\n",
    "\n",
    "# Training the autoencoder\n",
    "val_losses = []\n",
    "\n",
    "for epoch in range(100):\n",
    "    model.train()\n",
    "    total_loss = 0\n",
    "    for images, _ in train_loader:\n",
    "        images = images.to(device)\n",
    "        optimizer.zero_grad()\n",
    "        rec, mu, logvar = model(images)\n",
    "        bce_loss = criterion(rec, images)\n",
    "        loss = VAELoss(bce_loss, mu, logvar)\n",
    "        loss.backward()\n",
    "        optimizer.step()\n",
    "        total_loss += loss.item()\n",
    "    print(f\"Epoch: {epoch}, Loss: {total_loss / len(train_loader)}\")\n",
    "\n",
    "    # Test on test data\n",
    "    model.eval()\n",
    "    test_loss_sum = 0\n",
    "    with torch.no_grad():\n",
    "        for images, _ in test_loader:\n",
    "            images = images.to(device)\n",
    "            rec, mu, logvar = model(images)\n",
    "            bce_loss = criterion(rec, images)\n",
    "            loss = VAELoss(bce_loss, mu, logvar)\n",
    "            test_loss_sum += loss.item()\n",
    "        \n",
    "        test_loss = test_loss_sum / len(test_loader)\n",
    "        print(f\"Test Loss: {test_loss}\")\n",
    "        if (len(val_losses) > 5) and all(test_loss >= x for x in val_losses[-8:]):\n",
    "            print(\"Early Stopping...\")\n",
    "            break\n",
    "        val_losses.append(test_loss)\n"
   ]
  },
  {
   "cell_type": "code",
   "execution_count": 31,
   "metadata": {},
   "outputs": [],
   "source": [
    "# Save the VAE model\n",
    "torch.save(model.state_dict(), \"trained_models/vae_rgb.pt\")"
   ]
  },
  {
   "cell_type": "code",
   "execution_count": 32,
   "metadata": {},
   "outputs": [
    {
     "data": {
      "text/plain": [
       "VAE(\n",
       "  (encoder): Sequential(\n",
       "    (0): Conv2d(3, 8, kernel_size=(3, 3), stride=(2, 2), padding=(1, 1))\n",
       "    (1): ReLU()\n",
       "    (2): Conv2d(8, 16, kernel_size=(3, 3), stride=(2, 2), padding=(1, 1))\n",
       "    (3): ReLU()\n",
       "    (4): Conv2d(16, 32, kernel_size=(3, 3), stride=(2, 2), padding=(1, 1))\n",
       "    (5): ReLU()\n",
       "    (6): Conv2d(32, 64, kernel_size=(3, 3), stride=(2, 2), padding=(1, 1))\n",
       "    (7): ReLU()\n",
       "    (8): Flatten(start_dim=1, end_dim=-1)\n",
       "    (9): Linear(in_features=256, out_features=128, bias=True)\n",
       "  )\n",
       "  (fc_mu): Linear(in_features=128, out_features=16, bias=True)\n",
       "  (fc_log_var): Linear(in_features=128, out_features=16, bias=True)\n",
       "  (decoder): Sequential(\n",
       "    (0): Linear(in_features=16, out_features=128, bias=True)\n",
       "    (1): ReLU()\n",
       "    (2): Linear(in_features=128, out_features=256, bias=True)\n",
       "    (3): ReLU()\n",
       "    (4): Unflatten(dim=1, unflattened_size=(64, 2, 2))\n",
       "    (5): ConvTranspose2d(64, 32, kernel_size=(3, 3), stride=(2, 2), padding=(1, 1), output_padding=(1, 1))\n",
       "    (6): ReLU()\n",
       "    (7): ConvTranspose2d(32, 16, kernel_size=(3, 3), stride=(2, 2), padding=(1, 1))\n",
       "    (8): ReLU()\n",
       "    (9): ConvTranspose2d(16, 8, kernel_size=(3, 3), stride=(2, 2), padding=(1, 1), output_padding=(1, 1))\n",
       "    (10): ReLU()\n",
       "    (11): ConvTranspose2d(8, 3, kernel_size=(3, 3), stride=(2, 2), padding=(1, 1), output_padding=(1, 1))\n",
       "    (12): Sigmoid()\n",
       "  )\n",
       ")"
      ]
     },
     "execution_count": 32,
     "metadata": {},
     "output_type": "execute_result"
    }
   ],
   "source": [
    "model"
   ]
  },
  {
   "cell_type": "code",
   "execution_count": 35,
   "metadata": {},
   "outputs": [
    {
     "data": {
      "text/plain": [
       "torch.Size([3, 28, 28])"
      ]
     },
     "execution_count": 35,
     "metadata": {},
     "output_type": "execute_result"
    }
   ],
   "source": [
    "model.eval()\n",
    "\n",
    "with torch.no_grad():\n",
    "    im, tgt = iter(test_loader).next()\n",
    "    im = im.to(device)\n",
    "    pred, _, _ = model(im)\n",
    "\n",
    "pred = pred[5]\n",
    "\n",
    "pred.shape"
   ]
  },
  {
   "cell_type": "code",
   "execution_count": 36,
   "metadata": {},
   "outputs": [
    {
     "data": {
      "text/plain": [
       "<matplotlib.image.AxesImage at 0x7f5083f9b9a0>"
      ]
     },
     "execution_count": 36,
     "metadata": {},
     "output_type": "execute_result"
    },
    {
     "data": {
      "image/png": "[encoded data removed]",
      "text/plain": [
       "<Figure size 432x288 with 1 Axes>"
      ]
     },
     "metadata": {
      "needs_background": "light"
     },
     "output_type": "display_data"
    }
   ],
   "source": [
    "plt.imshow(pred.cpu().numpy().squeeze().transpose(1, 2, 0))"
   ]
  }
 ],
 "metadata": {
  "kernelspec": {
   "display_name": "Python 3",
   "language": "python",
   "name": "python3"
  },
  "language_info": {
   "codemirror_mode": {
    "name": "ipython",
    "version": 3
   },
   "file_extension": ".py",
   "mimetype": "text/x-python",
   "name": "python",
   "nbconvert_exporter": "python",
   "pygments_lexer": "ipython3",
   "version": "3.8.10 (default, Mar 13 2023, 10:26:41) \n[GCC 9.4.0]"
  },
  "orig_nbformat": 4,
  "vscode": {
   "interpreter": {
    "hash": "767d51c1340bd893661ea55ea3124f6de3c7a262a8b4abca0554b478b1e2ff90"
   }
  }
 },
 "nbformat": 4,
 "nbformat_minor": 2
}
