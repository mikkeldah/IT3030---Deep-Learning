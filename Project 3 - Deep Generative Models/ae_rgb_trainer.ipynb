{
 "cells": [
  {
   "cell_type": "code",
   "execution_count": 104,
   "metadata": {},
   "outputs": [],
   "source": [
    "import numpy as np\n",
    "import matplotlib.pyplot as plt\n",
    "\n",
    "from stacked_mnist import StackedMNISTData, DataMode\n",
    "from models.auto_encoder import AutoEncoder\n",
    "from models.mnist_classifier import MNISTClassifier\n",
    "\n",
    "import torch\n",
    "import torch.nn as nn\n",
    "from torch.utils.data import TensorDataset, DataLoader\n",
    "\n",
    "from utils import *"
   ]
  },
  {
   "cell_type": "code",
   "execution_count": 105,
   "metadata": {},
   "outputs": [],
   "source": [
    "# Using the provided mnist dataset class\n",
    "gen = StackedMNISTData(mode=DataMode.MONO_BINARY_COMPLETE, default_batch_size=9)\n",
    "\n",
    "train_data = gen.get_full_data_set(training=True)\n",
    "test_data = gen.get_full_data_set(training=False)"
   ]
  },
  {
   "cell_type": "code",
   "execution_count": 106,
   "metadata": {},
   "outputs": [
    {
     "data": {
      "text/plain": [
       "((60000, 28, 28, 1), (10000, 28, 28, 1))"
      ]
     },
     "execution_count": 106,
     "metadata": {},
     "output_type": "execute_result"
    }
   ],
   "source": [
    "train_data[0].shape, test_data[0].shape"
   ]
  },
  {
   "cell_type": "code",
   "execution_count": 107,
   "metadata": {},
   "outputs": [
    {
     "name": "stdout",
     "output_type": "stream",
     "text": [
      "(60000, 28, 28, 1) (60000,)\n",
      "(10000, 28, 28, 1) (10000,)\n",
      "(28, 28, 1)\n",
      "[0. 0. 0. 0. 0. 0. 0. 1. 0. 0.]\n",
      "7\n"
     ]
    },
    {
     "data": {
      "text/plain": [
       "<matplotlib.image.AxesImage at 0x7fd23a5515b0>"
      ]
     },
     "execution_count": 107,
     "metadata": {},
     "output_type": "execute_result"
    },
    {
     "data": {
      "image/png": "[encoded data removed]",
      "text/plain": [
       "<Figure size 900x600 with 1 Axes>"
      ]
     },
     "metadata": {
      "needs_background": "light"
     },
     "output_type": "display_data"
    }
   ],
   "source": [
    "x_train, y_train = train_data\n",
    "x_test, y_test = test_data\n",
    "print(x_train.shape, y_train.shape)\n",
    "print(x_test.shape, y_test.shape)\n",
    "\n",
    "# Convert y_train and y_test into one-hot vectors\n",
    "y_train = to_one_hot(y_train)\n",
    "y_test = to_one_hot(y_test)\n",
    "\n",
    "rand = np.random.randint(0, x_train.shape[0])\n",
    "img = x_train[rand]\n",
    "label = y_train[rand]\n",
    "print(img.shape)\n",
    "\n",
    "print(label)\n",
    "print(label.argmax())\n",
    "plt.figure(figsize=(6, 4), dpi=150)\n",
    "plt.imshow(img.squeeze(), cmap=\"gray\")"
   ]
  },
  {
   "cell_type": "code",
   "execution_count": 108,
   "metadata": {},
   "outputs": [],
   "source": [
    "# Create pytorch dataloaders from x_train and y_train\n",
    "x_train = torch.from_numpy(x_train.astype(np.float32)).permute(0, 3, 1, 2)\n",
    "y_train = torch.from_numpy(y_train.astype(np.float32))\n",
    "\n",
    "train_dataset = TensorDataset(x_train, y_train)\n",
    "train_loader = DataLoader(dataset=train_dataset, batch_size=32, shuffle=True)\n",
    "\n",
    "# Create pytorch dataloaders from x_test and y_test\n",
    "x_test = torch.from_numpy(x_test.astype(np.float32)).permute(0, 3, 1, 2)\n",
    "y_test = torch.from_numpy(y_test.astype(np.float32))\n",
    "\n",
    "test_dataset = TensorDataset(x_test, y_test)\n",
    "test_loader = DataLoader(dataset=test_dataset, batch_size=32)"
   ]
  },
  {
   "cell_type": "code",
   "execution_count": 109,
   "metadata": {},
   "outputs": [
    {
     "data": {
      "text/plain": [
       "device(type='cuda')"
      ]
     },
     "execution_count": 109,
     "metadata": {},
     "output_type": "execute_result"
    }
   ],
   "source": [
    "device = torch.device(\"cuda\" if torch.cuda.is_available() else \"cpu\")\n",
    "device"
   ]
  },
  {
   "cell_type": "code",
   "execution_count": 110,
   "metadata": {},
   "outputs": [
    {
     "name": "stdout",
     "output_type": "stream",
     "text": [
      "Epoch: 0, Loss: 0.18687151376008987\n",
      "Test Loss: 0.11820624076044217\n",
      "Epoch: 1, Loss: 0.1008852016210556\n",
      "Test Loss: 0.08476130004984121\n",
      "Epoch: 2, Loss: 0.07817210053801536\n",
      "Test Loss: 0.07102939541252276\n",
      "Epoch: 3, Loss: 0.06750194206436474\n",
      "Test Loss: 0.06200452985616919\n",
      "Epoch: 4, Loss: 0.05931878206729889\n",
      "Test Loss: 0.05546078043052564\n",
      "Epoch: 5, Loss: 0.053872954616944\n",
      "Test Loss: 0.0510886376634383\n",
      "Epoch: 6, Loss: 0.050416799821456276\n",
      "Test Loss: 0.049466532437850874\n",
      "Epoch: 7, Loss: 0.047802442713578544\n",
      "Test Loss: 0.04648806906927127\n",
      "Epoch: 8, Loss: 0.045492502558231354\n",
      "Test Loss: 0.045218786855522816\n",
      "Epoch: 9, Loss: 0.04347532082001368\n",
      "Test Loss: 0.04318441843953186\n",
      "Epoch: 10, Loss: 0.04191290126045545\n",
      "Test Loss: 0.04244361702388468\n",
      "Epoch: 11, Loss: 0.04039835430979729\n",
      "Test Loss: 0.041023297092547054\n",
      "Epoch: 12, Loss: 0.03913324213325977\n",
      "Test Loss: 0.039011360916752405\n",
      "Epoch: 13, Loss: 0.03807176152765751\n",
      "Test Loss: 0.03888472880180271\n",
      "Epoch: 14, Loss: 0.036816403550903\n",
      "Test Loss: 0.03781982862387602\n",
      "Epoch: 15, Loss: 0.03567148871521155\n",
      "Test Loss: 0.03760256240971553\n",
      "Epoch: 16, Loss: 0.03448959063986937\n",
      "Test Loss: 0.03557357743096809\n",
      "Epoch: 17, Loss: 0.03354320908486843\n",
      "Test Loss: 0.03483739587517021\n",
      "Epoch: 18, Loss: 0.03258606962263584\n",
      "Test Loss: 0.03345118191676399\n",
      "Epoch: 19, Loss: 0.03174358741144339\n",
      "Test Loss: 0.03322964020597097\n",
      "Epoch: 20, Loss: 0.031016536024212837\n",
      "Test Loss: 0.032284691834602114\n",
      "Epoch: 21, Loss: 0.03026861720184485\n",
      "Test Loss: 0.031746817538484975\n",
      "Epoch: 22, Loss: 0.029732376751303673\n",
      "Test Loss: 0.03116063708171677\n",
      "Epoch: 23, Loss: 0.029176605916023255\n",
      "Test Loss: 0.030743875329534466\n",
      "Epoch: 24, Loss: 0.02870321694215139\n",
      "Test Loss: 0.030388189723697334\n",
      "Epoch: 25, Loss: 0.028183578318357466\n",
      "Test Loss: 0.029992643261727053\n",
      "Epoch: 26, Loss: 0.02773906870186329\n",
      "Test Loss: 0.029514782963850246\n",
      "Epoch: 27, Loss: 0.02730517847041289\n",
      "Test Loss: 0.028388359777319926\n"
     ]
    }
   ],
   "source": [
    "# Training setup\n",
    "model = AutoEncoder(in_channels=1)\n",
    "model.to(device)\n",
    "optimizer = torch.optim.Adam(model.parameters(), lr=0.0005)\n",
    "criterion = nn.BCELoss()\n",
    "\n",
    "# Training the autoencoder\n",
    "val_losses = []\n",
    "\n",
    "for epoch in range(100):\n",
    "    model.train()\n",
    "    total_loss = 0\n",
    "    for images, _ in train_loader:\n",
    "        images = images.to(device)\n",
    "        optimizer.zero_grad()\n",
    "        output = model(images)\n",
    "        loss = criterion(output, images)\n",
    "        loss.backward()\n",
    "        optimizer.step()\n",
    "        total_loss += loss.item()\n",
    "    print(f\"Epoch: {epoch}, Loss: {total_loss / len(train_loader)}\")\n",
    "\n",
    "    # Test on test data\n",
    "    model.eval()\n",
    "    test_loss_sum = 0\n",
    "    with torch.no_grad():\n",
    "        for images, _ in test_loader:\n",
    "            images = images.to(device)\n",
    "            output = model(images)\n",
    "            loss = criterion(output, images)\n",
    "            test_loss_sum += loss.item()\n",
    "        \n",
    "        test_loss = test_loss_sum / len(test_loader)\n",
    "        print(f\"Test Loss: {test_loss}\")\n",
    "        if (len(val_losses) > 5) and all(test_loss >= x for x in val_losses[-3:]):\n",
    "            print(\"Early Stopping...\")\n",
    "            break\n",
    "        val_losses.append(test_loss)\n"
   ]
  },
  {
   "cell_type": "code",
   "execution_count": null,
   "metadata": {},
   "outputs": [],
   "source": [
    "# Save the AutoEncoder model\n",
    "torch.save(model.state_dict(), \"trained_models/auto_encoder.pt\")"
   ]
  },
  {
   "cell_type": "code",
   "execution_count": null,
   "metadata": {},
   "outputs": [
    {
     "name": "stdout",
     "output_type": "stream",
     "text": [
      "Test Loss: 0.03152985981525704\n"
     ]
    }
   ],
   "source": [
    "# Test the auto encoder\n",
    "model.eval()\n",
    "\n",
    "test_loss = 0\n",
    "\n",
    "with torch.no_grad():\n",
    "    for x, _ in test_loader:\n",
    "        x = x.to(device)\n",
    "        pred = model(x)\n",
    "        loss = criterion(pred, x)\n",
    "        test_loss += loss.item()\n",
    "\n",
    "print(f\"Test Loss: {test_loss / len(test_loader)}\")"
   ]
  },
  {
   "cell_type": "code",
   "execution_count": null,
   "metadata": {},
   "outputs": [
    {
     "data": {
      "text/plain": [
       "<All keys matched successfully>"
      ]
     },
     "execution_count": 97,
     "metadata": {},
     "output_type": "execute_result"
    }
   ],
   "source": [
    "mnist_classifier = MNISTClassifier(1)\n",
    "mnist_classifier.load_state_dict(torch.load('trained_models/mnist_model.pt'))"
   ]
  },
  {
   "cell_type": "code",
   "execution_count": null,
   "metadata": {},
   "outputs": [
    {
     "data": {
      "text/plain": [
       "MNISTClassifier(\n",
       "  (feature_extractor): Sequential(\n",
       "    (0): Conv2d(1, 16, kernel_size=(3, 3), stride=(1, 1), padding=(1, 1))\n",
       "    (1): ReLU()\n",
       "    (2): MaxPool2d(kernel_size=2, stride=2, padding=0, dilation=1, ceil_mode=False)\n",
       "    (3): Conv2d(16, 32, kernel_size=(3, 3), stride=(1, 1), padding=(1, 1))\n",
       "    (4): ReLU()\n",
       "    (5): Conv2d(32, 64, kernel_size=(3, 3), stride=(1, 1), padding=(1, 1))\n",
       "    (6): ReLU()\n",
       "    (7): MaxPool2d(kernel_size=2, stride=2, padding=0, dilation=1, ceil_mode=False)\n",
       "  )\n",
       "  (classifier): Sequential(\n",
       "    (0): Flatten(start_dim=1, end_dim=-1)\n",
       "    (1): Linear(in_features=3136, out_features=128, bias=True)\n",
       "    (2): ReLU()\n",
       "    (3): Linear(in_features=128, out_features=10, bias=True)\n",
       "  )\n",
       ")"
      ]
     },
     "execution_count": 98,
     "metadata": {},
     "output_type": "execute_result"
    }
   ],
   "source": [
    "mnist_classifier.to(device)"
   ]
  },
  {
   "cell_type": "code",
   "execution_count": null,
   "metadata": {},
   "outputs": [
    {
     "name": "stdout",
     "output_type": "stream",
     "text": [
      "Accuracy: 98.54%\n"
     ]
    }
   ],
   "source": [
    "correct_preds = 0\n",
    "\n",
    "with torch.no_grad():\n",
    "    for x, y in test_loader:\n",
    "        x = x.to(device)\n",
    "        y = y.to(device)\n",
    "        ae_output = model(x)\n",
    "\n",
    "        ae_output_class = mnist_classifier(ae_output)\n",
    "        ae_output_class = ae_output_class.argmax(dim=1, keepdim=True)\n",
    "        truth = y.argmax(dim=1, keepdim=True)\n",
    "\n",
    "        correct_preds += ae_output_class.eq(truth.view_as(ae_output_class)).sum().item()\n",
    "\n",
    "    accuracy = correct_preds / len(test_loader.dataset)\n",
    "\n",
    "print(f\"Accuracy: {100*accuracy}%\")"
   ]
  },
  {
   "attachments": {},
   "cell_type": "markdown",
   "metadata": {},
   "source": [
    "Some analysis of latent states from encoded images"
   ]
  },
  {
   "cell_type": "code",
   "execution_count": null,
   "metadata": {},
   "outputs": [
    {
     "data": {
      "text/plain": [
       "19"
      ]
     },
     "execution_count": 100,
     "metadata": {},
     "output_type": "execute_result"
    }
   ],
   "source": [
    "rand = np.random.randint(0, 31)\n",
    "rand"
   ]
  },
  {
   "cell_type": "code",
   "execution_count": null,
   "metadata": {},
   "outputs": [
    {
     "data": {
      "text/plain": [
       "torch.Size([32, 512, 1, 1])"
      ]
     },
     "execution_count": 101,
     "metadata": {},
     "output_type": "execute_result"
    }
   ],
   "source": [
    "with torch.no_grad():\n",
    "    i, (x, y) = next(enumerate(test_loader))\n",
    "    x = x.to(device)\n",
    "    y = y.to(device)\n",
    "    latent_state = model.encoder(x)\n",
    "\n",
    "latent_state.shape"
   ]
  },
  {
   "cell_type": "code",
   "execution_count": null,
   "metadata": {},
   "outputs": [
    {
     "data": {
      "text/plain": [
       "(512,)"
      ]
     },
     "execution_count": 102,
     "metadata": {},
     "output_type": "execute_result"
    }
   ],
   "source": [
    "latent_state = latent_state[rand].squeeze().cpu().numpy()\n",
    "latent_state.shape"
   ]
  },
  {
   "cell_type": "code",
   "execution_count": null,
   "metadata": {},
   "outputs": [
    {
     "data": {
      "image/png": "[encoded data removed]",
      "text/plain": [
       "<Figure size 900x600 with 1 Axes>"
      ]
     },
     "metadata": {
      "needs_background": "light"
     },
     "output_type": "display_data"
    }
   ],
   "source": [
    "plt.figure(figsize=(6, 4), dpi=150)\n",
    "plt.hist(latent_state, bins=50)\n",
    "plt.show()"
   ]
  }
 ],
 "metadata": {
  "kernelspec": {
   "display_name": "Python 3",
   "language": "python",
   "name": "python3"
  },
  "language_info": {
   "codemirror_mode": {
    "name": "ipython",
    "version": 3
   },
   "file_extension": ".py",
   "mimetype": "text/x-python",
   "name": "python",
   "nbconvert_exporter": "python",
   "pygments_lexer": "ipython3",
   "version": "3.8.10"
  },
  "orig_nbformat": 4,
  "vscode": {
   "interpreter": {
    "hash": "767d51c1340bd893661ea55ea3124f6de3c7a262a8b4abca0554b478b1e2ff90"
   }
  }
 },
 "nbformat": 4,
 "nbformat_minor": 2
}
