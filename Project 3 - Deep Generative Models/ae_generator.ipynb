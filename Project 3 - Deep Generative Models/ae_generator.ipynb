{
 "cells": [
  {
   "cell_type": "code",
   "execution_count": 128,
   "metadata": {},
   "outputs": [],
   "source": [
    "import numpy as np\n",
    "import matplotlib.pyplot as plt\n",
    "\n",
    "from stacked_mnist import StackedMNISTData, DataMode\n",
    "from models.auto_encoder import AutoEncoder\n",
    "from models.mnist_classifier import MNISTClassifier\n",
    "\n",
    "import torch\n",
    "import torch.nn as nn\n",
    "from torch.utils.data import TensorDataset, DataLoader\n",
    "import torch.nn.functional as F\n",
    "\n",
    "from scipy.stats import skewnorm\n",
    "\n",
    "from utils import *"
   ]
  },
  {
   "cell_type": "code",
   "execution_count": 129,
   "metadata": {},
   "outputs": [
    {
     "data": {
      "text/plain": [
       "<All keys matched successfully>"
      ]
     },
     "execution_count": 129,
     "metadata": {},
     "output_type": "execute_result"
    }
   ],
   "source": [
    "model = AutoEncoder(in_channels=1)\n",
    "model.load_state_dict(torch.load('trained_models/auto_encoder.pt'))"
   ]
  },
  {
   "cell_type": "code",
   "execution_count": 130,
   "metadata": {},
   "outputs": [
    {
     "data": {
      "text/plain": [
       "tensor([[ 5.4413e+00,  8.6732e-01, -6.6285e+00,  ..., -9.4797e+00,\n",
       "          6.0623e+00, -6.8646e+00],\n",
       "        [-4.5937e+00, -1.0338e+00,  2.2114e+00,  ..., -1.3867e+00,\n",
       "          2.9685e+00,  3.9319e-01],\n",
       "        [ 3.6098e+00, -2.7425e+00,  2.6741e+00,  ..., -6.8192e+00,\n",
       "          5.3221e+00, -2.8137e+00],\n",
       "        ...,\n",
       "        [ 2.5665e+00,  6.3100e+00, -6.1690e-03,  ..., -1.4689e+00,\n",
       "         -5.9356e+00,  6.3837e+00],\n",
       "        [ 4.9631e+00, -2.9670e+00, -5.9179e-01,  ...,  1.2763e+00,\n",
       "         -7.4206e-01, -3.6479e+00],\n",
       "        [-2.8434e+00, -3.0641e+00,  3.6222e+00,  ...,  8.0249e-01,\n",
       "         -2.8864e+00, -2.3608e+00]], grad_fn=<AddBackward0>)"
      ]
     },
     "execution_count": 130,
     "metadata": {},
     "output_type": "execute_result"
    }
   ],
   "source": [
    "# Get latent variable\n",
    "# Using the provided mnist dataset class\n",
    "gen = StackedMNISTData(mode=DataMode.MONO_BINARY_COMPLETE, default_batch_size=9)\n",
    "test_data = gen.get_full_data_set(training=False)\n",
    "\n",
    "x_test, y_test = test_data\n",
    "\n",
    "# Convert y_train and y_test into one-hot vectors\n",
    "y_test = to_one_hot(y_test)\n",
    "\n",
    "# Create pytorch dataloaders from x_test and y_test\n",
    "x_test = torch.from_numpy(x_test.astype(np.float32)).permute(0, 3, 1, 2)\n",
    "y_test = torch.from_numpy(y_test.astype(np.float32))\n",
    "\n",
    "test_dataset = TensorDataset(x_test, y_test)\n",
    "test_loader = DataLoader(dataset=test_dataset, batch_size=32)\n",
    "\n",
    "images, _ = iter(test_loader).next()\n",
    "latent = model.encoder(images)\n",
    "\n",
    "mean = latent.mean(dim=0)\n",
    "std = (latent-mean).pow(2).mean(dim=0).sqrt()\n",
    "\n",
    "z = torch.randn(32, 64) * std + mean\n",
    "\n",
    "z"
   ]
  },
  {
   "cell_type": "code",
   "execution_count": 131,
   "metadata": {},
   "outputs": [],
   "source": [
    "model.eval()\n",
    "with torch.no_grad():\n",
    "    generated_image = model.decoder(z)[0]"
   ]
  },
  {
   "cell_type": "code",
   "execution_count": 132,
   "metadata": {},
   "outputs": [
    {
     "data": {
      "text/plain": [
       "torch.Size([1, 28, 28])"
      ]
     },
     "execution_count": 132,
     "metadata": {},
     "output_type": "execute_result"
    }
   ],
   "source": [
    "generated_image.shape"
   ]
  },
  {
   "cell_type": "code",
   "execution_count": 133,
   "metadata": {},
   "outputs": [
    {
     "data": {
      "text/plain": [
       "<matplotlib.image.AxesImage at 0x7fc3f012f430>"
      ]
     },
     "execution_count": 133,
     "metadata": {},
     "output_type": "execute_result"
    },
    {
     "data": {
      "image/png": "[encoded data removed]",
      "text/plain": [
       "<Figure size 432x288 with 1 Axes>"
      ]
     },
     "metadata": {
      "needs_background": "light"
     },
     "output_type": "display_data"
    }
   ],
   "source": [
    "plt.imshow(generated_image.permute(1, 2, 0).squeeze(), cmap=\"gray\")"
   ]
  },
  {
   "cell_type": "code",
   "execution_count": 134,
   "metadata": {},
   "outputs": [
    {
     "data": {
      "text/plain": [
       "AutoEncoder(\n",
       "  (encoder): Sequential(\n",
       "    (0): Conv2d(1, 16, kernel_size=(3, 3), stride=(2, 2), padding=(1, 1))\n",
       "    (1): ReLU()\n",
       "    (2): Conv2d(16, 32, kernel_size=(3, 3), stride=(2, 2), padding=(1, 1))\n",
       "    (3): ReLU()\n",
       "    (4): Conv2d(32, 64, kernel_size=(3, 3), stride=(2, 2), padding=(1, 1))\n",
       "    (5): ReLU()\n",
       "    (6): Conv2d(64, 128, kernel_size=(3, 3), stride=(2, 2), padding=(1, 1))\n",
       "    (7): ReLU()\n",
       "    (8): Flatten(start_dim=1, end_dim=-1)\n",
       "    (9): Linear(in_features=512, out_features=64, bias=True)\n",
       "  )\n",
       "  (decoder): Sequential(\n",
       "    (0): Linear(in_features=64, out_features=512, bias=True)\n",
       "    (1): ReLU()\n",
       "    (2): Unflatten(dim=1, unflattened_size=(128, 2, 2))\n",
       "    (3): ConvTranspose2d(128, 64, kernel_size=(3, 3), stride=(2, 2), padding=(1, 1), output_padding=(1, 1))\n",
       "    (4): ReLU()\n",
       "    (5): ConvTranspose2d(64, 32, kernel_size=(3, 3), stride=(2, 2), padding=(1, 1))\n",
       "    (6): ReLU()\n",
       "    (7): ConvTranspose2d(32, 16, kernel_size=(3, 3), stride=(2, 2), padding=(1, 1), output_padding=(1, 1))\n",
       "    (8): ReLU()\n",
       "    (9): ConvTranspose2d(16, 1, kernel_size=(3, 3), stride=(2, 2), padding=(1, 1), output_padding=(1, 1))\n",
       "    (10): Sigmoid()\n",
       "  )\n",
       ")"
      ]
     },
     "execution_count": 134,
     "metadata": {},
     "output_type": "execute_result"
    }
   ],
   "source": [
    "model"
   ]
  },
  {
   "cell_type": "code",
   "execution_count": 135,
   "metadata": {},
   "outputs": [
    {
     "data": {
      "text/plain": [
       "(torch.Size([32, 64, 4, 4]),\n",
       " torch.Size([32, 32, 7, 7]),\n",
       " torch.Size([32, 16, 14, 14]),\n",
       " torch.Size([32, 1, 28, 28]))"
      ]
     },
     "execution_count": 135,
     "metadata": {},
     "output_type": "execute_result"
    }
   ],
   "source": [
    "z = model.decoder[0:3](z)\n",
    "\n",
    "c1 = model.decoder[3](z)\n",
    "c1 = F.relu(c1)\n",
    "\n",
    "c2 = model.decoder[5](c1)\n",
    "c2 = F.relu(c2)\n",
    "\n",
    "c3 = model.decoder[7](c2)\n",
    "c3 = F.relu(c3)\n",
    "\n",
    "\n",
    "c4 = model.decoder[9](c3)\n",
    "c4 = F.relu(c4)\n",
    "\n",
    "\n",
    "c1.shape, c2.shape, c3.shape, c4.shape\n"
   ]
  },
  {
   "cell_type": "code",
   "execution_count": 136,
   "metadata": {},
   "outputs": [
    {
     "data": {
      "image/png": "[encoded data removed]",
      "text/plain": [
       "<Figure size 1500x900 with 5 Axes>"
      ]
     },
     "metadata": {
      "needs_background": "light"
     },
     "output_type": "display_data"
    }
   ],
   "source": [
    "# Visualize som feature maps from c1\n",
    "with torch.no_grad():\n",
    "    # Create a figure with 5 horizontally arranged subplots\n",
    "    fig, axs = plt.subplots(1, 5, figsize=(10, 6), dpi=150)\n",
    "\n",
    "    # Plot each image in a separate subplot\n",
    "    for i in range(5):\n",
    "        axs[i].imshow(c1[0][i], cmap='gray')\n",
    "        \n",
    "    plt.show()"
   ]
  },
  {
   "cell_type": "code",
   "execution_count": 137,
   "metadata": {},
   "outputs": [
    {
     "data": {
      "image/png": "[encoded data removed]",
      "text/plain": [
       "<Figure size 1500x900 with 5 Axes>"
      ]
     },
     "metadata": {
      "needs_background": "light"
     },
     "output_type": "display_data"
    }
   ],
   "source": [
    "with torch.no_grad():\n",
    "    # Create a figure with 5 horizontally arranged subplots\n",
    "    fig, axs = plt.subplots(1, 5, figsize=(10, 6), dpi=150)\n",
    "\n",
    "    # Plot each image in a separate subplot\n",
    "    for i in range(5):\n",
    "        axs[i].imshow(c2[0][i], cmap='gray')\n",
    "        \n",
    "    plt.show()"
   ]
  },
  {
   "cell_type": "code",
   "execution_count": 138,
   "metadata": {},
   "outputs": [
    {
     "data": {
      "image/png": "[encoded data removed]",
      "text/plain": [
       "<Figure size 1500x900 with 5 Axes>"
      ]
     },
     "metadata": {
      "needs_background": "light"
     },
     "output_type": "display_data"
    }
   ],
   "source": [
    "with torch.no_grad():\n",
    "    # Create a figure with 5 horizontally arranged subplots\n",
    "    fig, axs = plt.subplots(1, 5, figsize=(10, 6), dpi=150)\n",
    "\n",
    "    # Plot each image in a separate subplot\n",
    "    for i in range(5):\n",
    "        axs[i].imshow(c3[0][i], cmap='gray')\n",
    "        \n",
    "    plt.show()"
   ]
  },
  {
   "cell_type": "code",
   "execution_count": 139,
   "metadata": {},
   "outputs": [
    {
     "data": {
      "image/png": "[encoded data removed]",
      "text/plain": [
       "<Figure size 900x600 with 2 Axes>"
      ]
     },
     "metadata": {
      "needs_background": "light"
     },
     "output_type": "display_data"
    }
   ],
   "source": [
    "with torch.no_grad():    \n",
    "    # Create a figure with 5 horizontally arranged subplots\n",
    "    fig, axs = plt.subplots(1, 2, figsize=(6, 4), dpi=150)\n",
    "\n",
    "    # Plot each image in a separate subplot\n",
    "    axs[0].imshow(c4[0].squeeze(0), cmap='gray')\n",
    "    axs[0].set_title('Final - No Sigmoid')\n",
    "    axs[1].imshow(F.sigmoid(c4[0].squeeze(0)), cmap='gray')\n",
    "    axs[1].set_title('Final - Sigmoid')\n",
    "\n",
    "        \n",
    "    plt.show()\n",
    "    "
   ]
  }
 ],
 "metadata": {
  "kernelspec": {
   "display_name": "Python 3",
   "language": "python",
   "name": "python3"
  },
  "language_info": {
   "codemirror_mode": {
    "name": "ipython",
    "version": 3
   },
   "file_extension": ".py",
   "mimetype": "text/x-python",
   "name": "python",
   "nbconvert_exporter": "python",
   "pygments_lexer": "ipython3",
   "version": "3.8.10"
  },
  "orig_nbformat": 4,
  "vscode": {
   "interpreter": {
    "hash": "767d51c1340bd893661ea55ea3124f6de3c7a262a8b4abca0554b478b1e2ff90"
   }
  }
 },
 "nbformat": 4,
 "nbformat_minor": 2
}
