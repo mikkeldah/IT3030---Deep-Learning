{
 "cells": [
  {
   "cell_type": "code",
   "execution_count": 295,
   "metadata": {},
   "outputs": [
    {
     "data": {
      "text/plain": [
       "<torch._C.Generator at 0x2aa2f20bb50>"
      ]
     },
     "execution_count": 295,
     "metadata": {},
     "output_type": "execute_result"
    }
   ],
   "source": [
    "import numpy as np\n",
    "import pandas as pd\n",
    "from data_reader import read_consumption_and_weather\n",
    "import torch\n",
    "import torch.nn as nn\n",
    "import torch.functional as F\n",
    "import torch.optim as optim\n",
    "from torch.utils.data.sampler import SubsetRandomSampler\n",
    "import matplotlib.pyplot as plt\n",
    "from sklearn.preprocessing import Normalizer\n",
    "from sklearn.model_selection import train_test_split\n",
    "\n",
    "torch.manual_seed(1)"
   ]
  },
  {
   "cell_type": "code",
   "execution_count": 296,
   "metadata": {},
   "outputs": [
    {
     "name": "stdout",
     "output_type": "stream",
     "text": [
      "Holes by length and occurrences in column NO3:\n",
      "holes\n",
      "1        1\n",
      "dtype: int64\n",
      "Filling holes up to length 3\n",
      "Any remaining holes after interpolation? False\n"
     ]
    }
   ],
   "source": [
    "_, _, df = read_consumption_and_weather()\n",
    "\n",
    "df1 = df['NO1']\n",
    "df2 = df['NO2']\n",
    "df3 = df['NO3']\n",
    "df4 = df['NO4']\n",
    "df5 = df['NO5']"
   ]
  },
  {
   "cell_type": "code",
   "execution_count": 297,
   "metadata": {},
   "outputs": [
    {
     "data": {
      "text/html": [
       "<div>\n",
       "<style scoped>\n",
       "    .dataframe tbody tr th:only-of-type {\n",
       "        vertical-align: middle;\n",
       "    }\n",
       "\n",
       "    .dataframe tbody tr th {\n",
       "        vertical-align: top;\n",
       "    }\n",
       "\n",
       "    .dataframe thead th {\n",
       "        text-align: right;\n",
       "    }\n",
       "</style>\n",
       "<table border=\"1\" class=\"dataframe\">\n",
       "  <thead>\n",
       "    <tr style=\"text-align: right;\">\n",
       "      <th></th>\n",
       "      <th>consumption</th>\n",
       "      <th>temperature</th>\n",
       "    </tr>\n",
       "  </thead>\n",
       "  <tbody>\n",
       "    <tr>\n",
       "      <th>2017-05-01 00:00:00+00:00</th>\n",
       "      <td>3325.431995</td>\n",
       "      <td>2.200000</td>\n",
       "    </tr>\n",
       "    <tr>\n",
       "      <th>2017-05-01 01:00:00+00:00</th>\n",
       "      <td>3344.690998</td>\n",
       "      <td>3.200000</td>\n",
       "    </tr>\n",
       "    <tr>\n",
       "      <th>2017-05-01 02:00:00+00:00</th>\n",
       "      <td>3398.359002</td>\n",
       "      <td>4.000000</td>\n",
       "    </tr>\n",
       "    <tr>\n",
       "      <th>2017-05-01 03:00:00+00:00</th>\n",
       "      <td>3430.220001</td>\n",
       "      <td>3.600000</td>\n",
       "    </tr>\n",
       "    <tr>\n",
       "      <th>2017-05-01 04:00:00+00:00</th>\n",
       "      <td>3606.750000</td>\n",
       "      <td>3.400000</td>\n",
       "    </tr>\n",
       "    <tr>\n",
       "      <th>...</th>\n",
       "      <td>...</td>\n",
       "      <td>...</td>\n",
       "    </tr>\n",
       "    <tr>\n",
       "      <th>2023-01-21 19:00:00+00:00</th>\n",
       "      <td>5947.502808</td>\n",
       "      <td>-10.233333</td>\n",
       "    </tr>\n",
       "    <tr>\n",
       "      <th>2023-01-21 20:00:00+00:00</th>\n",
       "      <td>5868.196111</td>\n",
       "      <td>-11.266667</td>\n",
       "    </tr>\n",
       "    <tr>\n",
       "      <th>2023-01-21 21:00:00+00:00</th>\n",
       "      <td>5742.156776</td>\n",
       "      <td>-12.016667</td>\n",
       "    </tr>\n",
       "    <tr>\n",
       "      <th>2023-01-21 22:00:00+00:00</th>\n",
       "      <td>5653.673398</td>\n",
       "      <td>-12.083333</td>\n",
       "    </tr>\n",
       "    <tr>\n",
       "      <th>2023-01-21 23:00:00+00:00</th>\n",
       "      <td>5523.002220</td>\n",
       "      <td>-12.266667</td>\n",
       "    </tr>\n",
       "  </tbody>\n",
       "</table>\n",
       "<p>50208 rows × 2 columns</p>\n",
       "</div>"
      ],
      "text/plain": [
       "                           consumption  temperature\n",
       "2017-05-01 00:00:00+00:00  3325.431995     2.200000\n",
       "2017-05-01 01:00:00+00:00  3344.690998     3.200000\n",
       "2017-05-01 02:00:00+00:00  3398.359002     4.000000\n",
       "2017-05-01 03:00:00+00:00  3430.220001     3.600000\n",
       "2017-05-01 04:00:00+00:00  3606.750000     3.400000\n",
       "...                                ...          ...\n",
       "2023-01-21 19:00:00+00:00  5947.502808   -10.233333\n",
       "2023-01-21 20:00:00+00:00  5868.196111   -11.266667\n",
       "2023-01-21 21:00:00+00:00  5742.156776   -12.016667\n",
       "2023-01-21 22:00:00+00:00  5653.673398   -12.083333\n",
       "2023-01-21 23:00:00+00:00  5523.002220   -12.266667\n",
       "\n",
       "[50208 rows x 2 columns]"
      ]
     },
     "execution_count": 297,
     "metadata": {},
     "output_type": "execute_result"
    }
   ],
   "source": [
    "df1"
   ]
  },
  {
   "cell_type": "code",
   "execution_count": 298,
   "metadata": {},
   "outputs": [
    {
     "data": {
      "text/plain": [
       "<matplotlib.collections.PathCollection at 0x2aa4e85eb20>"
      ]
     },
     "execution_count": 298,
     "metadata": {},
     "output_type": "execute_result"
    },
    {
     "data": {
      "image/png": "[encoded data removed]",
      "text/plain": [
       "<Figure size 432x288 with 1 Axes>"
      ]
     },
     "metadata": {
      "needs_background": "light"
     },
     "output_type": "display_data"
    }
   ],
   "source": [
    "# Dataloaders\n",
    "plt.scatter(df1['temperature'], df1['consumption'])"
   ]
  },
  {
   "cell_type": "code",
   "execution_count": 299,
   "metadata": {},
   "outputs": [],
   "source": [
    "consumption = df1['consumption'].shift(periods=1, fill_value=0)"
   ]
  },
  {
   "cell_type": "code",
   "execution_count": 300,
   "metadata": {},
   "outputs": [
    {
     "data": {
      "text/plain": [
       "2017-05-01 00:00:00+00:00       0.000000\n",
       "2017-05-01 01:00:00+00:00    3325.431995\n",
       "2017-05-01 02:00:00+00:00    3344.690998\n",
       "2017-05-01 03:00:00+00:00    3398.359002\n",
       "2017-05-01 04:00:00+00:00    3430.220001\n",
       "                                ...     \n",
       "2023-01-21 19:00:00+00:00    5996.773735\n",
       "2023-01-21 20:00:00+00:00    5947.502808\n",
       "2023-01-21 21:00:00+00:00    5868.196111\n",
       "2023-01-21 22:00:00+00:00    5742.156776\n",
       "2023-01-21 23:00:00+00:00    5653.673398\n",
       "Freq: H, Name: consumption, Length: 50208, dtype: float64"
      ]
     },
     "execution_count": 300,
     "metadata": {},
     "output_type": "execute_result"
    }
   ],
   "source": [
    "consumption"
   ]
  },
  {
   "cell_type": "code",
   "execution_count": 301,
   "metadata": {},
   "outputs": [
    {
     "data": {
      "text/plain": [
       "2017-05-01 00:00:00+00:00    3325.431995\n",
       "2017-05-01 01:00:00+00:00    3344.690998\n",
       "2017-05-01 02:00:00+00:00    3398.359002\n",
       "2017-05-01 03:00:00+00:00    3430.220001\n",
       "2017-05-01 04:00:00+00:00    3606.750000\n",
       "                                ...     \n",
       "2023-01-21 19:00:00+00:00    5947.502808\n",
       "2023-01-21 20:00:00+00:00    5868.196111\n",
       "2023-01-21 21:00:00+00:00    5742.156776\n",
       "2023-01-21 22:00:00+00:00    5653.673398\n",
       "2023-01-21 23:00:00+00:00    5523.002220\n",
       "Freq: H, Name: consumption, Length: 50208, dtype: float64"
      ]
     },
     "execution_count": 301,
     "metadata": {},
     "output_type": "execute_result"
    }
   ],
   "source": [
    "target = df1['consumption']\n",
    "target"
   ]
  },
  {
   "cell_type": "code",
   "execution_count": 302,
   "metadata": {},
   "outputs": [
    {
     "data": {
      "text/plain": [
       "2017-05-01 00:00:00+00:00     0.000000\n",
       "2017-05-01 01:00:00+00:00     2.200000\n",
       "2017-05-01 02:00:00+00:00     3.200000\n",
       "2017-05-01 03:00:00+00:00     4.000000\n",
       "2017-05-01 04:00:00+00:00     3.600000\n",
       "                               ...    \n",
       "2023-01-21 19:00:00+00:00    -9.800000\n",
       "2023-01-21 20:00:00+00:00   -10.233333\n",
       "2023-01-21 21:00:00+00:00   -11.266667\n",
       "2023-01-21 22:00:00+00:00   -12.016667\n",
       "2023-01-21 23:00:00+00:00   -12.083333\n",
       "Freq: H, Name: temperature, Length: 50208, dtype: float64"
      ]
     },
     "execution_count": 302,
     "metadata": {},
     "output_type": "execute_result"
    }
   ],
   "source": [
    "temp = df1['temperature'].shift(periods=1, fill_value=0)\n",
    "temp"
   ]
  },
  {
   "cell_type": "code",
   "execution_count": 303,
   "metadata": {},
   "outputs": [
    {
     "data": {
      "text/plain": [
       "2017-05-01 00:00:00+00:00     2.200000\n",
       "2017-05-01 01:00:00+00:00     3.200000\n",
       "2017-05-01 02:00:00+00:00     4.000000\n",
       "2017-05-01 03:00:00+00:00     3.600000\n",
       "2017-05-01 04:00:00+00:00     3.400000\n",
       "                               ...    \n",
       "2023-01-21 19:00:00+00:00   -10.233333\n",
       "2023-01-21 20:00:00+00:00   -11.266667\n",
       "2023-01-21 21:00:00+00:00   -12.016667\n",
       "2023-01-21 22:00:00+00:00   -12.083333\n",
       "2023-01-21 23:00:00+00:00   -12.266667\n",
       "Freq: H, Name: temperature, Length: 50208, dtype: float64"
      ]
     },
     "execution_count": 303,
     "metadata": {},
     "output_type": "execute_result"
    }
   ],
   "source": [
    "temp_forecast = df1['temperature']\n",
    "temp_forecast"
   ]
  },
  {
   "cell_type": "code",
   "execution_count": 304,
   "metadata": {},
   "outputs": [
    {
     "data": {
      "text/html": [
       "<div>\n",
       "<style scoped>\n",
       "    .dataframe tbody tr th:only-of-type {\n",
       "        vertical-align: middle;\n",
       "    }\n",
       "\n",
       "    .dataframe tbody tr th {\n",
       "        vertical-align: top;\n",
       "    }\n",
       "\n",
       "    .dataframe thead th {\n",
       "        text-align: right;\n",
       "    }\n",
       "</style>\n",
       "<table border=\"1\" class=\"dataframe\">\n",
       "  <thead>\n",
       "    <tr style=\"text-align: right;\">\n",
       "      <th></th>\n",
       "      <th>temp</th>\n",
       "      <th>temp_forecast</th>\n",
       "      <th>consumption</th>\n",
       "      <th>target</th>\n",
       "    </tr>\n",
       "  </thead>\n",
       "  <tbody>\n",
       "    <tr>\n",
       "      <th>2017-05-01 01:00:00+00:00</th>\n",
       "      <td>2.200000</td>\n",
       "      <td>3.200000</td>\n",
       "      <td>3325.431995</td>\n",
       "      <td>3344.690998</td>\n",
       "    </tr>\n",
       "    <tr>\n",
       "      <th>2017-05-01 02:00:00+00:00</th>\n",
       "      <td>3.200000</td>\n",
       "      <td>4.000000</td>\n",
       "      <td>3344.690998</td>\n",
       "      <td>3398.359002</td>\n",
       "    </tr>\n",
       "    <tr>\n",
       "      <th>2017-05-01 03:00:00+00:00</th>\n",
       "      <td>4.000000</td>\n",
       "      <td>3.600000</td>\n",
       "      <td>3398.359002</td>\n",
       "      <td>3430.220001</td>\n",
       "    </tr>\n",
       "    <tr>\n",
       "      <th>2017-05-01 04:00:00+00:00</th>\n",
       "      <td>3.600000</td>\n",
       "      <td>3.400000</td>\n",
       "      <td>3430.220001</td>\n",
       "      <td>3606.750000</td>\n",
       "    </tr>\n",
       "    <tr>\n",
       "      <th>2017-05-01 05:00:00+00:00</th>\n",
       "      <td>3.400000</td>\n",
       "      <td>3.100000</td>\n",
       "      <td>3606.750000</td>\n",
       "      <td>3739.876998</td>\n",
       "    </tr>\n",
       "    <tr>\n",
       "      <th>...</th>\n",
       "      <td>...</td>\n",
       "      <td>...</td>\n",
       "      <td>...</td>\n",
       "      <td>...</td>\n",
       "    </tr>\n",
       "    <tr>\n",
       "      <th>2023-01-21 19:00:00+00:00</th>\n",
       "      <td>-9.800000</td>\n",
       "      <td>-10.233333</td>\n",
       "      <td>5996.773735</td>\n",
       "      <td>5947.502808</td>\n",
       "    </tr>\n",
       "    <tr>\n",
       "      <th>2023-01-21 20:00:00+00:00</th>\n",
       "      <td>-10.233333</td>\n",
       "      <td>-11.266667</td>\n",
       "      <td>5947.502808</td>\n",
       "      <td>5868.196111</td>\n",
       "    </tr>\n",
       "    <tr>\n",
       "      <th>2023-01-21 21:00:00+00:00</th>\n",
       "      <td>-11.266667</td>\n",
       "      <td>-12.016667</td>\n",
       "      <td>5868.196111</td>\n",
       "      <td>5742.156776</td>\n",
       "    </tr>\n",
       "    <tr>\n",
       "      <th>2023-01-21 22:00:00+00:00</th>\n",
       "      <td>-12.016667</td>\n",
       "      <td>-12.083333</td>\n",
       "      <td>5742.156776</td>\n",
       "      <td>5653.673398</td>\n",
       "    </tr>\n",
       "    <tr>\n",
       "      <th>2023-01-21 23:00:00+00:00</th>\n",
       "      <td>-12.083333</td>\n",
       "      <td>-12.266667</td>\n",
       "      <td>5653.673398</td>\n",
       "      <td>5523.002220</td>\n",
       "    </tr>\n",
       "  </tbody>\n",
       "</table>\n",
       "<p>50207 rows × 4 columns</p>\n",
       "</div>"
      ],
      "text/plain": [
       "                                temp  temp_forecast  consumption       target\n",
       "2017-05-01 01:00:00+00:00   2.200000       3.200000  3325.431995  3344.690998\n",
       "2017-05-01 02:00:00+00:00   3.200000       4.000000  3344.690998  3398.359002\n",
       "2017-05-01 03:00:00+00:00   4.000000       3.600000  3398.359002  3430.220001\n",
       "2017-05-01 04:00:00+00:00   3.600000       3.400000  3430.220001  3606.750000\n",
       "2017-05-01 05:00:00+00:00   3.400000       3.100000  3606.750000  3739.876998\n",
       "...                              ...            ...          ...          ...\n",
       "2023-01-21 19:00:00+00:00  -9.800000     -10.233333  5996.773735  5947.502808\n",
       "2023-01-21 20:00:00+00:00 -10.233333     -11.266667  5947.502808  5868.196111\n",
       "2023-01-21 21:00:00+00:00 -11.266667     -12.016667  5868.196111  5742.156776\n",
       "2023-01-21 22:00:00+00:00 -12.016667     -12.083333  5742.156776  5653.673398\n",
       "2023-01-21 23:00:00+00:00 -12.083333     -12.266667  5653.673398  5523.002220\n",
       "\n",
       "[50207 rows x 4 columns]"
      ]
     },
     "execution_count": 304,
     "metadata": {},
     "output_type": "execute_result"
    }
   ],
   "source": [
    "# Concatenate temperature and forecast so that each row contains temp, next day forecast\n",
    "df_ = pd.concat([temp, temp_forecast, consumption, target], axis=1).tail(-1)\n",
    "df_.columns = ['temp', 'temp_forecast', 'consumption', 'target']\n",
    "df_"
   ]
  },
  {
   "cell_type": "code",
   "execution_count": 305,
   "metadata": {},
   "outputs": [],
   "source": [
    "df_train, df_test = train_test_split(df_, test_size=0.2)"
   ]
  },
  {
   "cell_type": "code",
   "execution_count": 306,
   "metadata": {},
   "outputs": [],
   "source": [
    "# Normalize train and test set\n",
    "df_train = (df_train - df_train.mean()) / df_train.std()\n",
    "df_test = (df_test - df_test.mean()) / df_test.std()"
   ]
  },
  {
   "cell_type": "code",
   "execution_count": 307,
   "metadata": {},
   "outputs": [
    {
     "data": {
      "text/plain": [
       "(                               temp  temp_forecast  consumption    target\n",
       " 2020-01-06 20:00:00+00:00 -0.493189      -0.276684     1.048622  0.886610\n",
       " 2019-01-07 11:00:00+00:00 -1.105608      -1.213455     1.641867  1.667072\n",
       " 2022-08-01 08:00:00+00:00  1.061874       1.192526    -0.966290 -0.915467\n",
       " 2019-03-21 01:00:00+00:00 -0.301058      -0.300704    -0.178846 -0.209121\n",
       " 2022-12-26 15:00:00+00:00 -0.525211      -0.550910     0.931064  0.923363\n",
       " ...                             ...            ...          ...       ...\n",
       " 2021-08-07 07:00:00+00:00  0.913773       0.974346    -1.282635 -1.121029\n",
       " 2018-03-21 22:00:00+00:00 -0.769378      -0.817129     0.842612  0.657579\n",
       " 2019-02-06 04:00:00+00:00 -1.994216      -1.934049     1.202758  1.375407\n",
       " 2017-08-10 12:00:00+00:00  1.572223       1.740977    -0.659054 -0.660996\n",
       " 2022-02-18 12:00:00+00:00 -0.309063      -0.274682     0.912841  0.835117\n",
       " \n",
       " [40165 rows x 4 columns],\n",
       "                                temp  temp_forecast  consumption    target\n",
       " 2021-05-31 05:00:00+00:00  0.595159       0.904988    -0.965955 -0.621997\n",
       " 2021-07-04 21:00:00+00:00  1.160758       0.963312    -1.096689 -1.150680\n",
       " 2017-07-11 08:00:00+00:00  0.709889       0.744095    -0.816005 -0.775459\n",
       " 2022-06-26 12:00:00+00:00  1.585461       1.673254    -1.095877 -1.099550\n",
       " 2020-02-29 10:00:00+00:00 -1.077483      -1.041823     1.536401  1.539316\n",
       " ...                             ...            ...          ...       ...\n",
       " 2022-09-24 18:00:00+00:00  0.351610       0.209124    -0.782243 -0.824612\n",
       " 2020-09-30 23:00:00+00:00  0.562955       0.567112    -0.772587 -0.886563\n",
       " 2020-01-05 19:00:00+00:00 -0.666871      -0.679813     1.140956  1.072147\n",
       " 2018-07-20 04:00:00+00:00  0.842735       0.973368    -1.639542 -1.499845\n",
       " 2017-10-20 16:00:00+00:00 -0.159643      -0.136797     0.500438  0.500158\n",
       " \n",
       " [10042 rows x 4 columns])"
      ]
     },
     "execution_count": 307,
     "metadata": {},
     "output_type": "execute_result"
    }
   ],
   "source": [
    "df_train, df_test"
   ]
  },
  {
   "cell_type": "code",
   "execution_count": 308,
   "metadata": {},
   "outputs": [
    {
     "data": {
      "text/html": [
       "<div>\n",
       "<style scoped>\n",
       "    .dataframe tbody tr th:only-of-type {\n",
       "        vertical-align: middle;\n",
       "    }\n",
       "\n",
       "    .dataframe tbody tr th {\n",
       "        vertical-align: top;\n",
       "    }\n",
       "\n",
       "    .dataframe thead th {\n",
       "        text-align: right;\n",
       "    }\n",
       "</style>\n",
       "<table border=\"1\" class=\"dataframe\">\n",
       "  <thead>\n",
       "    <tr style=\"text-align: right;\">\n",
       "      <th></th>\n",
       "      <th>temp</th>\n",
       "      <th>temp_forecast</th>\n",
       "      <th>consumption</th>\n",
       "      <th>target</th>\n",
       "    </tr>\n",
       "  </thead>\n",
       "  <tbody>\n",
       "    <tr>\n",
       "      <th>2021-05-03 10:00:00+00:00</th>\n",
       "      <td>0.267331</td>\n",
       "      <td>0.069601</td>\n",
       "      <td>0.125625</td>\n",
       "      <td>0.141928</td>\n",
       "    </tr>\n",
       "    <tr>\n",
       "      <th>2020-11-14 11:00:00+00:00</th>\n",
       "      <td>-0.006857</td>\n",
       "      <td>-0.030481</td>\n",
       "      <td>0.270434</td>\n",
       "      <td>0.256753</td>\n",
       "    </tr>\n",
       "    <tr>\n",
       "      <th>2021-10-26 02:00:00+00:00</th>\n",
       "      <td>0.065193</td>\n",
       "      <td>0.003547</td>\n",
       "      <td>-0.687482</td>\n",
       "      <td>-0.650499</td>\n",
       "    </tr>\n",
       "    <tr>\n",
       "      <th>2017-09-08 05:00:00+00:00</th>\n",
       "      <td>0.179271</td>\n",
       "      <td>0.167682</td>\n",
       "      <td>-0.564573</td>\n",
       "      <td>-0.209693</td>\n",
       "    </tr>\n",
       "    <tr>\n",
       "      <th>2021-07-10 21:00:00+00:00</th>\n",
       "      <td>0.947796</td>\n",
       "      <td>0.916298</td>\n",
       "      <td>-1.163719</td>\n",
       "      <td>-1.219690</td>\n",
       "    </tr>\n",
       "    <tr>\n",
       "      <th>...</th>\n",
       "      <td>...</td>\n",
       "      <td>...</td>\n",
       "      <td>...</td>\n",
       "      <td>...</td>\n",
       "    </tr>\n",
       "    <tr>\n",
       "      <th>2020-12-17 10:00:00+00:00</th>\n",
       "      <td>-0.523210</td>\n",
       "      <td>-0.464839</td>\n",
       "      <td>1.622409</td>\n",
       "      <td>1.584535</td>\n",
       "    </tr>\n",
       "    <tr>\n",
       "      <th>2019-07-17 08:00:00+00:00</th>\n",
       "      <td>1.248002</td>\n",
       "      <td>1.428720</td>\n",
       "      <td>-0.993239</td>\n",
       "      <td>-0.943651</td>\n",
       "    </tr>\n",
       "    <tr>\n",
       "      <th>2020-02-09 14:00:00+00:00</th>\n",
       "      <td>-0.433148</td>\n",
       "      <td>-0.504872</td>\n",
       "      <td>0.918293</td>\n",
       "      <td>0.953679</td>\n",
       "    </tr>\n",
       "    <tr>\n",
       "      <th>2022-08-21 21:00:00+00:00</th>\n",
       "      <td>0.363397</td>\n",
       "      <td>0.263761</td>\n",
       "      <td>-1.079808</td>\n",
       "      <td>-1.215454</td>\n",
       "    </tr>\n",
       "    <tr>\n",
       "      <th>2021-05-09 16:00:00+00:00</th>\n",
       "      <td>-0.130942</td>\n",
       "      <td>-0.126560</td>\n",
       "      <td>0.155419</td>\n",
       "      <td>0.129583</td>\n",
       "    </tr>\n",
       "  </tbody>\n",
       "</table>\n",
       "<p>36148 rows × 4 columns</p>\n",
       "</div>"
      ],
      "text/plain": [
       "                               temp  temp_forecast  consumption    target\n",
       "2021-05-03 10:00:00+00:00  0.267331       0.069601     0.125625  0.141928\n",
       "2020-11-14 11:00:00+00:00 -0.006857      -0.030481     0.270434  0.256753\n",
       "2021-10-26 02:00:00+00:00  0.065193       0.003547    -0.687482 -0.650499\n",
       "2017-09-08 05:00:00+00:00  0.179271       0.167682    -0.564573 -0.209693\n",
       "2021-07-10 21:00:00+00:00  0.947796       0.916298    -1.163719 -1.219690\n",
       "...                             ...            ...          ...       ...\n",
       "2020-12-17 10:00:00+00:00 -0.523210      -0.464839     1.622409  1.584535\n",
       "2019-07-17 08:00:00+00:00  1.248002       1.428720    -0.993239 -0.943651\n",
       "2020-02-09 14:00:00+00:00 -0.433148      -0.504872     0.918293  0.953679\n",
       "2022-08-21 21:00:00+00:00  0.363397       0.263761    -1.079808 -1.215454\n",
       "2021-05-09 16:00:00+00:00 -0.130942      -0.126560     0.155419  0.129583\n",
       "\n",
       "[36148 rows x 4 columns]"
      ]
     },
     "execution_count": 308,
     "metadata": {},
     "output_type": "execute_result"
    }
   ],
   "source": [
    "# Divide into train, validation\n",
    "df_train, df_validation = train_test_split(df_train, test_size=0.1)\n",
    "\n",
    "df_train"
   ]
  },
  {
   "attachments": {},
   "cell_type": "markdown",
   "metadata": {},
   "source": [
    "Resulting DataFrame on form: \"Date/Time t+1\", \"Temperature t\", \"Temperature t+1 (forecast)\", \"Consumption t\", \"Consumption t+1 (target)\""
   ]
  },
  {
   "cell_type": "code",
   "execution_count": 309,
   "metadata": {},
   "outputs": [],
   "source": [
    "# Make Pytorch compatible dataloader\n",
    "target_train = torch.tensor(df_train['target'].values.astype(np.float32))\n",
    "features_train = torch.tensor(df_train.drop('target', axis=1).values.astype(np.float32))\n",
    "\n",
    "target_val = torch.tensor(df_validation['target'].values.astype(np.float32))\n",
    "features_val = torch.tensor(df_validation.drop('target', axis=1).values.astype(np.float32))\n",
    "\n",
    "target_test = torch.tensor(df_test['target'].values.astype(np.float32))\n",
    "features_test = torch.tensor(df_test.drop('target', axis=1).values.astype(np.float32))\n"
   ]
  },
  {
   "cell_type": "code",
   "execution_count": 310,
   "metadata": {},
   "outputs": [],
   "source": [
    "train_tensor = torch.utils.data.TensorDataset(features_train, target_train)\n",
    "train_loader = torch.utils.data.DataLoader(dataset=train_tensor, batch_size=64, shuffle=True)\n",
    "\n",
    "val_tensor = torch.utils.data.TensorDataset(features_val, target_val)\n",
    "val_loader = torch.utils.data.DataLoader(dataset=val_tensor, batch_size=64, shuffle=False)\n",
    "\n",
    "test_tensor = torch.utils.data.TensorDataset(features_test, target_test)\n",
    "test_loader = torch.utils.data.DataLoader(dataset=test_tensor, batch_size=64, shuffle=False)"
   ]
  },
  {
   "cell_type": "code",
   "execution_count": 311,
   "metadata": {},
   "outputs": [],
   "source": [
    "class Network(nn.Module):\n",
    "\n",
    "    def __init__(self):\n",
    "        super().__init__()\n",
    "        self.net = nn.Sequential(\n",
    "            nn.Linear(3, 10),\n",
    "            nn.Tanh(),\n",
    "            nn.Linear(10, 1)\n",
    "        )\n",
    "    \n",
    "    def forward(self, x):\n",
    "        x = self.net(x)\n",
    "        return x"
   ]
  },
  {
   "cell_type": "code",
   "execution_count": 336,
   "metadata": {},
   "outputs": [
    {
     "name": "stdout",
     "output_type": "stream",
     "text": [
      "Epoch 0 validation loss: 0.16241628463779176\n",
      "Epoch 1 validation loss: 0.10941233864379307\n",
      "Epoch 2 validation loss: 0.08297133599481886\n",
      "Epoch 3 validation loss: 0.06431482986561836\n",
      "Epoch 4 validation loss: 0.05140894048270725\n",
      "Epoch 5 validation loss: 0.042729263326951435\n",
      "Epoch 6 validation loss: 0.03694947267926875\n",
      "Epoch 7 validation loss: 0.033069237268396785\n",
      "Epoch 8 validation loss: 0.030376236737957075\n",
      "Epoch 9 validation loss: 0.028426575518789746\n",
      "Epoch 10 validation loss: 0.02692101558759099\n",
      "Epoch 11 validation loss: 0.02573659766228899\n",
      "Epoch 12 validation loss: 0.024751797185412476\n",
      "Epoch 13 validation loss: 0.023912032933107445\n",
      "Epoch 14 validation loss: 0.023187132951404368\n",
      "Epoch 15 validation loss: 0.02255569880325643\n",
      "Epoch 16 validation loss: 0.02200522180646658\n",
      "Epoch 17 validation loss: 0.021500579998015412\n",
      "Epoch 18 validation loss: 0.02105854225478002\n",
      "Epoch 19 validation loss: 0.020659505892249328\n"
     ]
    }
   ],
   "source": [
    "loss_fn = torch.nn.MSELoss()\n",
    "\n",
    "model = Network()\n",
    "\n",
    "optimizer = torch.optim.SGD(model.parameters(), lr=0.001)\n",
    "\n",
    "losses = []\n",
    "losses_show = []\n",
    "val_losses = []\n",
    "\n",
    "# Training\n",
    "for epoch in range(20):\n",
    "    epoch_loss = []\n",
    "    for i, data in enumerate(train_loader):\n",
    "        features, targets = data\n",
    "\n",
    "        # Make predictions for this batch\n",
    "        outputs = model(features)\n",
    "\n",
    "        # Compute loss and gradients\n",
    "        loss = loss_fn(outputs, targets.view(-1, 1))\n",
    "        \n",
    "        # Zero gradients\n",
    "        optimizer.zero_grad()\n",
    "\n",
    "        loss.backward()\n",
    "\n",
    "        # Update weights \n",
    "        optimizer.step()\n",
    "\n",
    "        losses.append(loss.item())\n",
    "        epoch_loss.append(loss.item())\n",
    "        if len(losses) > 20:\n",
    "            losses_show.append(sum(losses[-20:]) / 20)\n",
    "        else:\n",
    "            losses_show.append(losses[-1])\n",
    "\n",
    "    # Validation Step\n",
    "    val_loss = []\n",
    "    for i, data in enumerate(val_loader):\n",
    "        f, t = data\n",
    "        output = model(f)\n",
    "        loss = loss_fn(output, t.view(-1, 1))\n",
    "        val_loss.append(loss.item())\n",
    "    \n",
    "    avg_val_loss = sum(val_loss) / len(val_loss)\n",
    "    print(f\"Epoch {epoch} validation loss: {avg_val_loss}\")\n",
    "\n",
    "    val_losses.append(avg_val_loss)\n"
   ]
  },
  {
   "cell_type": "code",
   "execution_count": 338,
   "metadata": {},
   "outputs": [
    {
     "name": "stdout",
     "output_type": "stream",
     "text": [
      "565\n"
     ]
    },
    {
     "data": {
      "image/png": "[encoded data removed]",
      "text/plain": [
       "<Figure size 900x600 with 1 Axes>"
      ]
     },
     "metadata": {
      "needs_background": "light"
     },
     "output_type": "display_data"
    }
   ],
   "source": [
    "plt.figure(figsize=(6, 4), dpi=150)\n",
    "plt.grid()\n",
    "plt.ylim(0, 0.1)\n",
    "\n",
    "print(len(losses_show) // len(val_losses))\n",
    "\n",
    "plt.plot(range(len(losses_show)), losses_show)\n",
    "plt.plot(range(len(losses_show) // len(val_losses), len(losses_show)+1, len(losses_show) // len(val_losses)), val_losses)\n",
    "plt.show()"
   ]
  },
  {
   "cell_type": "code",
   "execution_count": null,
   "metadata": {},
   "outputs": [],
   "source": [
    "# Test\n"
   ]
  }
 ],
 "metadata": {
  "kernelspec": {
   "display_name": "Python 3",
   "language": "python",
   "name": "python3"
  },
  "language_info": {
   "codemirror_mode": {
    "name": "ipython",
    "version": 3
   },
   "file_extension": ".py",
   "mimetype": "text/x-python",
   "name": "python",
   "nbconvert_exporter": "python",
   "pygments_lexer": "ipython3",
   "version": "3.9.6"
  },
  "orig_nbformat": 4
 },
 "nbformat": 4,
 "nbformat_minor": 2
}
