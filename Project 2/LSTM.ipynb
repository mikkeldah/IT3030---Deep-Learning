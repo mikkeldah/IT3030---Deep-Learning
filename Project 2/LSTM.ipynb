{
 "cells": [
  {
   "cell_type": "code",
   "execution_count": 6,
   "metadata": {},
   "outputs": [
    {
     "data": {
      "text/plain": [
       "<torch._C.Generator at 0x22a12aca990>"
      ]
     },
     "execution_count": 6,
     "metadata": {},
     "output_type": "execute_result"
    }
   ],
   "source": [
    "import pandas as pd\n",
    "from data_reader import read_consumption_and_weather\n",
    "import torch\n",
    "import torch.nn as nn\n",
    "import torch.functional as F\n",
    "import torch.optim as optim\n",
    "\n",
    "torch.manual_seed(1)"
   ]
  },
  {
   "cell_type": "code",
   "execution_count": 2,
   "metadata": {},
   "outputs": [
    {
     "name": "stdout",
     "output_type": "stream",
     "text": [
      "Holes by length and occurrences in column NO3:\n",
      "holes\n",
      "1        1\n",
      "dtype: int64\n",
      "Filling holes up to length 3\n",
      "Any remaining holes after interpolation? False\n"
     ]
    }
   ],
   "source": [
    "_, _, df = read_consumption_and_weather()\n",
    "\n",
    "df1 = df['NO1']\n",
    "df2 = df['NO2']\n",
    "df3 = df['NO3']\n",
    "df4 = df['NO4']\n",
    "df5 = df['NO5']"
   ]
  },
  {
   "cell_type": "code",
   "execution_count": 5,
   "metadata": {},
   "outputs": [
    {
     "name": "stdout",
     "output_type": "stream",
     "text": [
      "mba             NO1                         NO2                         NO3  \\\n",
      "        consumption   temperature   consumption   temperature   consumption   \n",
      "count  50208.000000  50208.000000  50208.000000  50208.000000  50208.000000   \n",
      "mean    3988.938389      7.929658   4169.734910      9.065414   3097.480634   \n",
      "std     1311.064087      8.318640    713.038281      5.940013    479.545701   \n",
      "min     1690.051994    -15.400000   2660.890000    -15.466667   1992.632558   \n",
      "25%     2914.051405      1.433333   3596.381608      5.033333   2702.097259   \n",
      "50%     3757.956266      7.800000   4062.967501      9.100000   3067.526689   \n",
      "75%     4987.063169     14.400000   4699.310916     13.266667   3468.904199   \n",
      "max     7928.670995     34.400000   6840.053130     32.000000   4756.004039   \n",
      "\n",
      "mba                           NO4                         NO5                \n",
      "        temperature   consumption   temperature   consumption   temperature  \n",
      "count  50208.000000  50208.000000  50208.000000  50208.000000  50208.000000  \n",
      "mean       6.796776   2178.804315      3.763234   1900.884893      9.053217  \n",
      "std        7.819803    361.654375      6.652893    306.193275      6.173632  \n",
      "min      -22.000000   1364.340713    -16.100000    989.346588    -11.500000  \n",
      "25%        1.733333   1867.779176     -1.000000   1664.985942      4.500000  \n",
      "50%        6.900000   2164.897660      3.800000   1887.130584      8.900000  \n",
      "75%       12.200000   2474.167626      8.933333   2121.754746     13.325000  \n",
      "max       33.933333   3097.133000     30.033333   2947.614289     32.300000  \n"
     ]
    }
   ],
   "source": [
    "print(df.describe())"
   ]
  },
  {
   "cell_type": "code",
   "execution_count": null,
   "metadata": {},
   "outputs": [],
   "source": [
    "# Define LSTM model\n"
   ]
  }
 ],
 "metadata": {
  "kernelspec": {
   "display_name": "Python 3",
   "language": "python",
   "name": "python3"
  },
  "language_info": {
   "codemirror_mode": {
    "name": "ipython",
    "version": 3
   },
   "file_extension": ".py",
   "mimetype": "text/x-python",
   "name": "python",
   "nbconvert_exporter": "python",
   "pygments_lexer": "ipython3",
   "version": "3.9.6"
  },
  "orig_nbformat": 4
 },
 "nbformat": 4,
 "nbformat_minor": 2
}
