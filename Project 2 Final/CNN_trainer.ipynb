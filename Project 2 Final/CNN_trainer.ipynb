{
 "cells": [
  {
   "cell_type": "code",
   "execution_count": 1,
   "metadata": {},
   "outputs": [
    {
     "data": {
      "text/plain": [
       "<torch._C.Generator at 0x7fc2b33b3910>"
      ]
     },
     "execution_count": 1,
     "metadata": {},
     "output_type": "execute_result"
    }
   ],
   "source": [
    "import numpy as np\n",
    "import pandas as pd\n",
    "from data_reader import read_consumption_and_weather\n",
    "import torch\n",
    "import torch.nn as nn\n",
    "import torch.functional as F\n",
    "import torch.optim as optim\n",
    "from torch.utils.data.sampler import SubsetRandomSampler\n",
    "import matplotlib.pyplot as plt\n",
    "from sklearn.preprocessing import Normalizer\n",
    "from sklearn.model_selection import train_test_split\n",
    "\n",
    "import copy\n",
    "\n",
    "from models.cnn_model import CNNModel\n",
    "\n",
    "from utils import * \n",
    "\n",
    "torch.manual_seed(1)"
   ]
  },
  {
   "cell_type": "code",
   "execution_count": 2,
   "metadata": {},
   "outputs": [
    {
     "name": "stdout",
     "output_type": "stream",
     "text": [
      "Holes by length and occurrences in column NO3:\n",
      "Filling holes up to length 3\n",
      "Any remaining holes after interpolation? False\n"
     ]
    }
   ],
   "source": [
    "_, _, df = read_consumption_and_weather()\n",
    "\n",
    "df1 = df['NO1']\n",
    "df2 = df['NO2']\n",
    "df3 = df['NO3']\n",
    "df4 = df['NO4']\n",
    "df5 = df['NO5']"
   ]
  },
  {
   "cell_type": "code",
   "execution_count": 3,
   "metadata": {},
   "outputs": [
    {
     "data": {
      "text/html": [
       "<div>\n",
       "<style scoped>\n",
       "    .dataframe tbody tr th:only-of-type {\n",
       "        vertical-align: middle;\n",
       "    }\n",
       "\n",
       "    .dataframe tbody tr th {\n",
       "        vertical-align: top;\n",
       "    }\n",
       "\n",
       "    .dataframe thead th {\n",
       "        text-align: right;\n",
       "    }\n",
       "</style>\n",
       "<table border=\"1\" class=\"dataframe\">\n",
       "  <thead>\n",
       "    <tr style=\"text-align: right;\">\n",
       "      <th></th>\n",
       "      <th>consumption</th>\n",
       "      <th>temperature</th>\n",
       "    </tr>\n",
       "  </thead>\n",
       "  <tbody>\n",
       "    <tr>\n",
       "      <th>2017-05-01 00:00:00+00:00</th>\n",
       "      <td>3325.431995</td>\n",
       "      <td>2.200000</td>\n",
       "    </tr>\n",
       "    <tr>\n",
       "      <th>2017-05-01 01:00:00+00:00</th>\n",
       "      <td>3344.690998</td>\n",
       "      <td>3.200000</td>\n",
       "    </tr>\n",
       "    <tr>\n",
       "      <th>2017-05-01 02:00:00+00:00</th>\n",
       "      <td>3398.359002</td>\n",
       "      <td>4.000000</td>\n",
       "    </tr>\n",
       "    <tr>\n",
       "      <th>2017-05-01 03:00:00+00:00</th>\n",
       "      <td>3430.220001</td>\n",
       "      <td>3.600000</td>\n",
       "    </tr>\n",
       "    <tr>\n",
       "      <th>2017-05-01 04:00:00+00:00</th>\n",
       "      <td>3606.750000</td>\n",
       "      <td>3.400000</td>\n",
       "    </tr>\n",
       "    <tr>\n",
       "      <th>...</th>\n",
       "      <td>...</td>\n",
       "      <td>...</td>\n",
       "    </tr>\n",
       "    <tr>\n",
       "      <th>2023-01-21 19:00:00+00:00</th>\n",
       "      <td>5947.502808</td>\n",
       "      <td>-10.233333</td>\n",
       "    </tr>\n",
       "    <tr>\n",
       "      <th>2023-01-21 20:00:00+00:00</th>\n",
       "      <td>5868.196111</td>\n",
       "      <td>-11.266667</td>\n",
       "    </tr>\n",
       "    <tr>\n",
       "      <th>2023-01-21 21:00:00+00:00</th>\n",
       "      <td>5742.156776</td>\n",
       "      <td>-12.016667</td>\n",
       "    </tr>\n",
       "    <tr>\n",
       "      <th>2023-01-21 22:00:00+00:00</th>\n",
       "      <td>5653.673398</td>\n",
       "      <td>-12.083333</td>\n",
       "    </tr>\n",
       "    <tr>\n",
       "      <th>2023-01-21 23:00:00+00:00</th>\n",
       "      <td>5523.002220</td>\n",
       "      <td>-12.266667</td>\n",
       "    </tr>\n",
       "  </tbody>\n",
       "</table>\n",
       "<p>50208 rows × 2 columns</p>\n",
       "</div>"
      ],
      "text/plain": [
       "                           consumption  temperature\n",
       "2017-05-01 00:00:00+00:00  3325.431995     2.200000\n",
       "2017-05-01 01:00:00+00:00  3344.690998     3.200000\n",
       "2017-05-01 02:00:00+00:00  3398.359002     4.000000\n",
       "2017-05-01 03:00:00+00:00  3430.220001     3.600000\n",
       "2017-05-01 04:00:00+00:00  3606.750000     3.400000\n",
       "...                                ...          ...\n",
       "2023-01-21 19:00:00+00:00  5947.502808   -10.233333\n",
       "2023-01-21 20:00:00+00:00  5868.196111   -11.266667\n",
       "2023-01-21 21:00:00+00:00  5742.156776   -12.016667\n",
       "2023-01-21 22:00:00+00:00  5653.673398   -12.083333\n",
       "2023-01-21 23:00:00+00:00  5523.002220   -12.266667\n",
       "\n",
       "[50208 rows x 2 columns]"
      ]
     },
     "execution_count": 3,
     "metadata": {},
     "output_type": "execute_result"
    }
   ],
   "source": [
    "df = df1\n",
    "\n",
    "df"
   ]
  },
  {
   "cell_type": "code",
   "execution_count": 4,
   "metadata": {},
   "outputs": [],
   "source": [
    "# Get the 0.8 first timesteps for training and 0.2 last one for testing\n",
    "df_train, df_test = train_test_split(df, test_size=0.1, shuffle=False)\n",
    "# Divide into train, validation\n",
    "df_train, df_validation = train_test_split(df_train, test_size=0.1, shuffle=False)"
   ]
  },
  {
   "cell_type": "code",
   "execution_count": 5,
   "metadata": {},
   "outputs": [],
   "source": [
    "# Save for undoing normalization in testing\n",
    "train_mean = df_train.mean()\n",
    "train_std = df_train.std()\n",
    "\n",
    "# Normalize train and test set\n",
    "df_train = (df_train - train_mean) / train_std\n",
    "df_validation = (df_validation - train_mean) / train_std\n",
    "df_test = (df_test - train_mean) / train_std"
   ]
  },
  {
   "cell_type": "code",
   "execution_count": 6,
   "metadata": {},
   "outputs": [
    {
     "data": {
      "text/html": [
       "<div>\n",
       "<style scoped>\n",
       "    .dataframe tbody tr th:only-of-type {\n",
       "        vertical-align: middle;\n",
       "    }\n",
       "\n",
       "    .dataframe tbody tr th {\n",
       "        vertical-align: top;\n",
       "    }\n",
       "\n",
       "    .dataframe thead th {\n",
       "        text-align: right;\n",
       "    }\n",
       "</style>\n",
       "<table border=\"1\" class=\"dataframe\">\n",
       "  <thead>\n",
       "    <tr style=\"text-align: right;\">\n",
       "      <th></th>\n",
       "      <th>consumption</th>\n",
       "      <th>temperature</th>\n",
       "    </tr>\n",
       "  </thead>\n",
       "  <tbody>\n",
       "    <tr>\n",
       "      <th>2017-05-01 00:00:00+00:00</th>\n",
       "      <td>-0.520736</td>\n",
       "      <td>-0.713648</td>\n",
       "    </tr>\n",
       "    <tr>\n",
       "      <th>2017-05-01 01:00:00+00:00</th>\n",
       "      <td>-0.506271</td>\n",
       "      <td>-0.593681</td>\n",
       "    </tr>\n",
       "    <tr>\n",
       "      <th>2017-05-01 02:00:00+00:00</th>\n",
       "      <td>-0.465960</td>\n",
       "      <td>-0.497708</td>\n",
       "    </tr>\n",
       "    <tr>\n",
       "      <th>2017-05-01 03:00:00+00:00</th>\n",
       "      <td>-0.442029</td>\n",
       "      <td>-0.545695</td>\n",
       "    </tr>\n",
       "    <tr>\n",
       "      <th>2017-05-01 04:00:00+00:00</th>\n",
       "      <td>-0.309436</td>\n",
       "      <td>-0.569688</td>\n",
       "    </tr>\n",
       "    <tr>\n",
       "      <th>...</th>\n",
       "      <td>...</td>\n",
       "      <td>...</td>\n",
       "    </tr>\n",
       "    <tr>\n",
       "      <th>2021-12-20 07:00:00+00:00</th>\n",
       "      <td>1.151071</td>\n",
       "      <td>-0.553693</td>\n",
       "    </tr>\n",
       "    <tr>\n",
       "      <th>2021-12-20 08:00:00+00:00</th>\n",
       "      <td>1.168536</td>\n",
       "      <td>-0.611676</td>\n",
       "    </tr>\n",
       "    <tr>\n",
       "      <th>2021-12-20 09:00:00+00:00</th>\n",
       "      <td>1.153706</td>\n",
       "      <td>-0.531699</td>\n",
       "    </tr>\n",
       "    <tr>\n",
       "      <th>2021-12-20 10:00:00+00:00</th>\n",
       "      <td>1.116430</td>\n",
       "      <td>-0.527700</td>\n",
       "    </tr>\n",
       "    <tr>\n",
       "      <th>2021-12-20 11:00:00+00:00</th>\n",
       "      <td>1.056237</td>\n",
       "      <td>-0.525700</td>\n",
       "    </tr>\n",
       "  </tbody>\n",
       "</table>\n",
       "<p>40668 rows × 2 columns</p>\n",
       "</div>"
      ],
      "text/plain": [
       "                           consumption  temperature\n",
       "2017-05-01 00:00:00+00:00    -0.520736    -0.713648\n",
       "2017-05-01 01:00:00+00:00    -0.506271    -0.593681\n",
       "2017-05-01 02:00:00+00:00    -0.465960    -0.497708\n",
       "2017-05-01 03:00:00+00:00    -0.442029    -0.545695\n",
       "2017-05-01 04:00:00+00:00    -0.309436    -0.569688\n",
       "...                                ...          ...\n",
       "2021-12-20 07:00:00+00:00     1.151071    -0.553693\n",
       "2021-12-20 08:00:00+00:00     1.168536    -0.611676\n",
       "2021-12-20 09:00:00+00:00     1.153706    -0.531699\n",
       "2021-12-20 10:00:00+00:00     1.116430    -0.527700\n",
       "2021-12-20 11:00:00+00:00     1.056237    -0.525700\n",
       "\n",
       "[40668 rows x 2 columns]"
      ]
     },
     "execution_count": 6,
     "metadata": {},
     "output_type": "execute_result"
    }
   ],
   "source": [
    "df_train"
   ]
  },
  {
   "cell_type": "code",
   "execution_count": 7,
   "metadata": {},
   "outputs": [],
   "source": [
    "class SequenceDataset(torch.utils.data.Dataset):\n",
    "\n",
    "    def __init__(self, df):\n",
    "        self.data = df\n",
    "\n",
    "    def __getitem__(self, idx):\n",
    "        sample = self.data[idx]\n",
    "        return torch.Tensor(sample['sequence']), torch.Tensor(sample['target'])\n",
    "    \n",
    "    def __len__(self):\n",
    "        return len(self.data)\n",
    "    \n",
    "    "
   ]
  },
  {
   "cell_type": "code",
   "execution_count": 8,
   "metadata": {},
   "outputs": [],
   "source": [
    "tw = 100\n",
    "pw = 1\n",
    "\n",
    "train_dataset = SequenceDataset(generate_cnn_sequences(df_train, tw, pw))\n",
    "val_dataset = SequenceDataset(generate_cnn_sequences(df_validation, tw, pw))\n",
    "test_dataset = SequenceDataset(generate_cnn_sequences(df_test, tw, pw))\n",
    "\n",
    "train_loader = torch.utils.data.DataLoader(train_dataset, batch_size=32, shuffle=True, drop_last=True)\n",
    "val_loader = torch.utils.data.DataLoader(val_dataset, batch_size=32, shuffle=True, drop_last=True)\n",
    "test_loader = torch.utils.data.DataLoader(test_dataset, batch_size=32, shuffle=True, drop_last=True)"
   ]
  },
  {
   "cell_type": "code",
   "execution_count": 9,
   "metadata": {},
   "outputs": [
    {
     "data": {
      "text/plain": [
       "device(type='cuda')"
      ]
     },
     "execution_count": 9,
     "metadata": {},
     "output_type": "execute_result"
    }
   ],
   "source": [
    "device = torch.device('cuda' if torch.cuda.is_available() else 'cpu')\n",
    "device"
   ]
  },
  {
   "cell_type": "code",
   "execution_count": 10,
   "metadata": {
    "scrolled": true
   },
   "outputs": [
    {
     "name": "stdout",
     "output_type": "stream",
     "text": [
      "tensor([[-1.1490,  0.9519],\n",
      "        [-1.2635,  0.8819],\n",
      "        [-1.3267,  0.8179],\n",
      "        [-1.3609,  0.7939],\n",
      "        [-1.3798,  0.8059],\n",
      "        [-1.2991,  0.8899],\n",
      "        [-1.0480,  0.9139],\n",
      "        [-0.7248,  0.8059],\n",
      "        [-0.5794,  0.9619],\n",
      "        [-0.5847,  1.1098],\n",
      "        [-0.5703,  1.0998],\n",
      "        [-0.5546,  0.9939],\n",
      "        [-0.4992,  0.8299],\n",
      "        [-0.4738,  0.7759],\n",
      "        [-0.4607,  0.7559],\n",
      "        [-0.4531,  0.7519],\n",
      "        [-0.4191,  0.7479],\n",
      "        [-0.4747,  0.9599],\n",
      "        [-0.5644,  1.0499],\n",
      "        [-0.6152,  1.1198],\n",
      "        [-0.6700,  0.9739],\n",
      "        [-0.7057,  0.8379],\n",
      "        [-0.7789,  0.6080],\n",
      "        [-0.8733,  0.5140],\n",
      "        [-1.0352,  0.3181],\n",
      "        [-1.1475,  0.1241],\n",
      "        [-1.1972,  0.0761],\n",
      "        [-1.2285, -0.0738],\n",
      "        [-1.2433, -0.1158],\n",
      "        [-1.1736, -0.0238],\n",
      "        [-0.9413,  0.4100],\n",
      "        [-0.6374,  0.6980],\n",
      "        [-0.5247,  0.9159],\n",
      "        [-0.5306,  1.0259],\n",
      "        [-0.5483,  1.0719],\n",
      "        [-0.5706,  1.2458],\n",
      "        [-0.5627,  1.2738],\n",
      "        [-0.5738,  1.3778],\n",
      "        [-0.5858,  1.4677],\n",
      "        [-0.5844,  1.5457],\n",
      "        [-0.5736,  1.5217],\n",
      "        [-0.6118,  1.5357],\n",
      "        [-0.6641,  1.4857],\n",
      "        [-0.6983,  1.4058],\n",
      "        [-0.7075,  1.2318],\n",
      "        [-0.7516,  1.0359],\n",
      "        [-0.8162,  0.7859],\n",
      "        [-0.9174,  0.7219],\n",
      "        [-1.0689,  0.5520],\n",
      "        [-1.1729,  0.3860],\n",
      "        [-1.2364,  0.2801],\n",
      "        [-1.2670,  0.3321],\n",
      "        [-1.3040,  0.2941],\n",
      "        [-1.2545,  0.3561],\n",
      "        [-1.0098,  0.5020],\n",
      "        [-0.6800,  0.6200],\n",
      "        [-0.5459,  0.6800],\n",
      "        [-0.5332,  0.7639],\n",
      "        [-0.5585,  0.9279],\n",
      "        [-0.5669,  1.0579],\n",
      "        [-0.5557,  1.2758],\n",
      "        [-0.5580,  1.3518],\n",
      "        [-0.5600,  1.3938],\n",
      "        [-0.5581,  1.3418],\n",
      "        [-0.5557,  1.1598],\n",
      "        [-0.5917,  1.0679],\n",
      "        [-0.6395,  0.9779],\n",
      "        [-0.6822,  0.9639],\n",
      "        [-0.7147,  0.8259],\n",
      "        [-0.7637,  0.7679],\n",
      "        [-0.8083,  0.6860],\n",
      "        [-0.9221,  0.6660],\n",
      "        [-1.0780,  0.6440],\n",
      "        [-1.1918,  0.6400],\n",
      "        [-1.2498,  0.6200],\n",
      "        [-1.2857,  0.6120],\n",
      "        [-1.3212,  0.6100],\n",
      "        [-1.2536,  0.6120],\n",
      "        [-1.0146,  0.6720],\n",
      "        [-0.6906,  0.7439],\n",
      "        [-0.5588,  0.9679],\n",
      "        [-0.5543,  1.0978],\n",
      "        [-0.5616,  1.2718],\n",
      "        [-0.5686,  1.4457],\n",
      "        [-0.5614,  1.5997],\n",
      "        [-0.5936,  1.6777],\n",
      "        [-0.5908,  1.7657],\n",
      "        [-0.5778,  1.7697],\n",
      "        [-0.5626,  1.6257],\n",
      "        [-0.5961,  1.5997],\n",
      "        [-0.6558,  1.6817],\n",
      "        [-0.6825,  1.6697],\n",
      "        [-0.7003,  1.5397],\n",
      "        [-0.7382,  1.2678],\n",
      "        [-0.8366,  1.0359],\n",
      "        [-0.9803,  1.0399],\n",
      "        [-1.1543,  1.0139],\n",
      "        [-1.2723,  1.0259],\n",
      "        [-1.3289,  1.0639],\n",
      "        [-1.3638,  1.1058]])\n",
      "tensor([-1.3778])\n"
     ]
    }
   ],
   "source": [
    "x, y = next(iter(train_loader))\n",
    "\n",
    "print(x[0])\n",
    "print(y[0])"
   ]
  },
  {
   "cell_type": "code",
   "execution_count": 11,
   "metadata": {},
   "outputs": [],
   "source": [
    "def validation(val_loader, criterion, model):\n",
    "    model.eval()\n",
    "    val_losses = []\n",
    "    for x, y in val_loader:\n",
    "        x, y = x.to(device), y.to(device)\n",
    "        y = y.squeeze()\n",
    "        preds = model(x).squeeze()\n",
    "        val_loss = criterion(preds, y)\n",
    "        val_losses.append(val_loss)\n",
    "    print(f\"Validation Loss: {sum(val_losses) / len(val_losses)}\")\n",
    "    return sum(val_losses) / len(val_losses)"
   ]
  },
  {
   "cell_type": "code",
   "execution_count": 12,
   "metadata": {},
   "outputs": [
    {
     "name": "stdout",
     "output_type": "stream",
     "text": [
      "Epch 0 loss: 0.054728076386764565\n",
      "Validation Loss: 0.0160971712321043\n",
      "Epch 1 loss: 0.01900318596510609\n",
      "Validation Loss: 0.008857620880007744\n",
      "Epch 2 loss: 0.013569351765691011\n",
      "Validation Loss: 0.008819006383419037\n",
      "Epch 3 loss: 0.011271780047671548\n",
      "Validation Loss: 0.006629294250160456\n",
      "Epch 4 loss: 0.009419173522850157\n",
      "Validation Loss: 0.005839847959578037\n",
      "Epch 5 loss: 0.008352023125431356\n",
      "Validation Loss: 0.00628660898655653\n",
      "Epch 6 loss: 0.007109836652164143\n",
      "Validation Loss: 0.004853634629398584\n",
      "Epch 7 loss: 0.006713503841038767\n",
      "Validation Loss: 0.007324678357690573\n",
      "Epch 8 loss: 0.006260994439279395\n",
      "Validation Loss: 0.006346672307699919\n",
      "Epch 9 loss: 0.005786003558341511\n",
      "Validation Loss: 0.004286128096282482\n",
      "Epch 10 loss: 0.005499014308543445\n",
      "Validation Loss: 0.011065217666327953\n",
      "Epch 11 loss: 0.004909611417757216\n",
      "Validation Loss: 0.00469210185110569\n",
      "Epch 12 loss: 0.004841981493539362\n",
      "Validation Loss: 0.009909410029649734\n",
      "Epch 13 loss: 0.0046363782734685855\n",
      "Validation Loss: 0.0034668915905058384\n",
      "Epch 14 loss: 0.004422694985202022\n",
      "Validation Loss: 0.003135663690045476\n",
      "Epch 15 loss: 0.004260921638092172\n",
      "Validation Loss: 0.005493800155818462\n",
      "Epch 16 loss: 0.00393824875433786\n",
      "Validation Loss: 0.004977770149707794\n",
      "Epch 17 loss: 0.0038778036615506974\n",
      "Validation Loss: 0.0025961496867239475\n",
      "Epch 18 loss: 0.00382176524832339\n",
      "Validation Loss: 0.007246458902955055\n",
      "Epch 19 loss: 0.003684640635694756\n",
      "Validation Loss: 0.004470290150493383\n"
     ]
    }
   ],
   "source": [
    "\n",
    "model = CNNModel(tw=100)\n",
    "model.to(device)\n",
    "\n",
    "criterion = nn.MSELoss()\n",
    "optimizer = torch.optim.Adam(model.parameters(), lr=0.00005)\n",
    "\n",
    "losses = []\n",
    "losses_show = []\n",
    "val_losses = []\n",
    "for epoch in range(20):\n",
    "    model.train()\n",
    "\n",
    "    epoch_losses = []\n",
    "    for x, y in train_loader:\n",
    "        x, y = x.to(device), y.to(device)\n",
    "        \n",
    "        optimizer.zero_grad()\n",
    "\n",
    "        preds = model(x)\n",
    "\n",
    "        loss = criterion(preds, y)\n",
    "\n",
    "        loss.backward()\n",
    "\n",
    "        optimizer.step()\n",
    "\n",
    "        epoch_losses.append(loss.item())\n",
    "        losses.append(loss.item())\n",
    "        if len(losses) > 20:\n",
    "            losses_show.append(sum(losses[-20:]) / 20)\n",
    "        else:\n",
    "            losses_show.append(losses[-1])\n",
    "    \n",
    "    print(f\"Epch {epoch} loss: {sum(epoch_losses) / len(epoch_losses)}\")\n",
    "    val_loss = validation(val_loader, criterion, model)\n",
    "    val_losses.append(val_loss.item())\n",
    "\n",
    "# Save model parameters\n",
    "torch.save(model.state_dict(), 'trained_models/cnn.pth')"
   ]
  },
  {
   "cell_type": "code",
   "execution_count": 13,
   "metadata": {},
   "outputs": [
    {
     "name": "stdout",
     "output_type": "stream",
     "text": [
      "1267\n"
     ]
    },
    {
     "data": {
      "image/png": "[encoded data removed]",
      "text/plain": [
       "<Figure size 900x600 with 1 Axes>"
      ]
     },
     "metadata": {
      "needs_background": "light"
     },
     "output_type": "display_data"
    }
   ],
   "source": [
    "plt.figure(figsize=(6, 4), dpi=150)\n",
    "plt.grid()\n",
    "plt.ylim(0, 0.03)\n",
    "\n",
    "print(len(losses_show) // len(val_losses))\n",
    "\n",
    "plt.plot(range(len(losses_show)), losses_show)\n",
    "plt.plot(range(len(losses_show) // len(val_losses), len(losses_show)+1, len(losses_show) // len(val_losses)), val_losses)\n",
    "plt.show()"
   ]
  },
  {
   "cell_type": "code",
   "execution_count": 14,
   "metadata": {},
   "outputs": [
    {
     "data": {
      "image/png": "[encoded data removed]",
      "text/plain": [
       "<Figure size 900x600 with 1 Axes>"
      ]
     },
     "metadata": {
      "needs_background": "light"
     },
     "output_type": "display_data"
    }
   ],
   "source": [
    "# Forecasting\n",
    "start_point = 1200\n",
    "tw = 100\n",
    "fw = 24\n",
    "\n",
    "history = df_test.copy(deep=True)[start_point: start_point+tw+fw].values\n",
    "targets = copy.deepcopy(history)[tw:tw+fw][:, 0]\n",
    "\n",
    "predictions = []\n",
    "\n",
    "# 24 timesteps into the future\n",
    "for i in range(fw):\n",
    "    x = history[i:tw+i].reshape(-1, 2)\n",
    "\n",
    "    x = torch.Tensor(x).unsqueeze(0).to(device)\n",
    "    p = model(x)\n",
    "\n",
    "    predictions.append(p.item())\n",
    "    history[-fw+i, 0] = p.item()\n",
    "\n",
    "\n",
    "predictions = np.array(predictions) * train_std['consumption'] + train_mean['consumption']\n",
    "targets = np.array(targets) * train_std['consumption'] + train_mean['consumption']\n",
    "\n",
    "x = range(predictions.shape[0])\n",
    "plt.figure(figsize=(6, 4), dpi=150)\n",
    "plt.plot(x, predictions, label=\"Forecast\")\n",
    "plt.plot(x, targets, label=\"Targets\")\n",
    "plt.legend()\n",
    "plt.grid()\n",
    "plt.show()"
   ]
  }
 ],
 "metadata": {
  "kernelspec": {
   "display_name": "Python 3",
   "language": "python",
   "name": "python3"
  },
  "language_info": {
   "codemirror_mode": {
    "name": "ipython",
    "version": 3
   },
   "file_extension": ".py",
   "mimetype": "text/x-python",
   "name": "python",
   "nbconvert_exporter": "python",
   "pygments_lexer": "ipython3",
   "version": "3.8.10"
  }
 },
 "nbformat": 4,
 "nbformat_minor": 2
}
