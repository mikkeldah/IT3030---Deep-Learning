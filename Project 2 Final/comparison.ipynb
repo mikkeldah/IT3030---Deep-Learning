{
 "cells": [
  {
   "cell_type": "code",
   "execution_count": 1,
   "id": "2db7cb3e",
   "metadata": {},
   "outputs": [],
   "source": [
    "import numpy as np\n",
    "import pandas as pd\n",
    "import matplotlib.pyplot as plt\n",
    "from data_reader import read_consumption_and_weather\n",
    "\n",
    "import torch\n",
    "import torch.nn as nn\n",
    "\n",
    "from sklearn.model_selection import train_test_split\n",
    "\n",
    "from models.cnn_model import CNNModel\n",
    "from models.lstm_model import LSTMModel\n",
    "from models.base_model import BaseModel\n",
    "\n",
    "import copy\n",
    "\n",
    "from utils import *\n",
    "\n",
    "#device = torch.device('cuda' if torch.cuda.is_available() else 'cpu')\n",
    "device = 'cpu'"
   ]
  },
  {
   "cell_type": "code",
   "execution_count": 2,
   "id": "fce71366",
   "metadata": {},
   "outputs": [
    {
     "name": "stdout",
     "output_type": "stream",
     "text": [
      "Holes by length and occurrences in column NO3:\n",
      "Filling holes up to length 3\n",
      "Any remaining holes after interpolation? False\n"
     ]
    }
   ],
   "source": [
    "_, _, df = read_consumption_and_weather()\n",
    "\n",
    "df1 = df['NO1']\n",
    "df2 = df['NO2']\n",
    "df3 = df['NO3']\n",
    "df4 = df['NO4']\n",
    "df5 = df['NO5']\n",
    "\n",
    "df = df1\n",
    "\n",
    "# Get the 0.9 first timesteps for training and 0.1 last one for testing\n",
    "df_train, df_test = train_test_split(df, test_size=0.1, shuffle=False)\n",
    "\n",
    "# Save for undoing normalization in testing\n",
    "train_mean = df_train.mean()\n",
    "train_std = df_train.std()\n",
    "\n",
    "df_test = (df_test - train_mean) / train_std\n",
    "\n",
    "# CNN, LSTM preprocessing\n",
    "class SequenceDataset(torch.utils.data.Dataset):\n",
    "\n",
    "    def __init__(self, df):\n",
    "        self.data = df\n",
    "\n",
    "    def __getitem__(self, idx):\n",
    "        sample = self.data[idx]\n",
    "        return torch.Tensor(sample['sequence']), torch.Tensor(sample['target'])\n",
    "    \n",
    "    def __len__(self):\n",
    "        return len(self.data)\n",
    "    \n",
    "tw = 100\n",
    "pw = 1\n",
    "\n",
    "test_dataset_lstm_cnn = SequenceDataset(generate_cnn_sequences(df_test, tw, pw))\n",
    "test_loader_lstm_cnn = torch.utils.data.DataLoader(test_dataset_lstm_cnn, batch_size=32, shuffle=True, drop_last=True)"
   ]
  },
  {
   "cell_type": "code",
   "execution_count": 3,
   "id": "307faf6b",
   "metadata": {},
   "outputs": [],
   "source": [
    "# FF model preprocessing\n",
    "consumption = df1['consumption'].shift(periods=1, fill_value=0)\n",
    "target = df1['consumption']\n",
    "temp = df1['temperature'].shift(periods=1, fill_value=0)\n",
    "temp_forecast = df1['temperature']\n",
    "\n",
    "hour = pd.Series(df1.index.hour, name=\"hour_next_t\")\n",
    "day = pd.Series(df1.index.day, name=\"day_next_t\")\n",
    "month = pd.Series(df1.index.month, name=\"month_next_t\")\n",
    "year = pd.Series(df1.index.year, name=\"year_next_t\")\n",
    "\n",
    "# Concatenate temperature and forecast so that each row contains temp, next day forecast\n",
    "df_ = pd.concat([temp_forecast, consumption, target], axis=1)\n",
    "df_ = df_.assign(hour_next_t=hour.values)\n",
    "df_ = df_.assign(day_next_t=day.values)\n",
    "df_ = df_.assign(month_next_t=month.values)\n",
    "df_ = df_.assign(year_next_t=year.values)\n",
    "df_.columns = ['forecast', 'consumption', 'next_timestep_consumption', 'hour_next_t', 'day_next_t', 'month_next_t', 'year_next_t']\n",
    "df_ = df_.tail(-1)\n",
    "\n",
    "# Get the 0.8 first timesteps for training and 0.2 last one for testing\n",
    "df_train, df_test = train_test_split(df_, test_size=0.2, shuffle=False)\n",
    "# Divide into train, validation\n",
    "df_train, df_validation = train_test_split(df_train, test_size=0.1)\n",
    "\n",
    "# Save for undoing normalization in testing\n",
    "train_mean = df_train.mean()\n",
    "train_std = df_train.std()\n",
    "\n",
    "# Normalize test set\n",
    "df_test = (df_test - train_mean) / train_std\n",
    "#\n",
    "# Make Pytorch compatible dataloader\n",
    "target_test = torch.tensor(df_test['next_timestep_consumption'].values.astype(np.float32))\n",
    "features_test = torch.tensor(df_test.drop('next_timestep_consumption', axis=1).values.astype(np.float32))\n",
    "\n",
    "test_tensor = torch.utils.data.TensorDataset(features_test, target_test)\n",
    "test_loader = torch.utils.data.DataLoader(dataset=test_tensor, batch_size=25, shuffle=False)\n",
    "\n",
    "# Make Pytorch compatible dataloader\n",
    "target_test = torch.tensor(df_test['next_timestep_consumption'].values.astype(np.float32))\n",
    "features_test = torch.tensor(df_test.drop('next_timestep_consumption', axis=1).values.astype(np.float32))\n",
    "\n",
    "test_tensor = torch.utils.data.TensorDataset(features_test, target_test)\n",
    "test_loader_ff = torch.utils.data.DataLoader(dataset=test_tensor, batch_size=25, shuffle=False)"
   ]
  },
  {
   "cell_type": "code",
   "execution_count": 4,
   "id": "875d7725",
   "metadata": {},
   "outputs": [
    {
     "data": {
      "text/plain": [
       "<All keys matched successfully>"
      ]
     },
     "execution_count": 4,
     "metadata": {},
     "output_type": "execute_result"
    }
   ],
   "source": [
    "# Init models and load parameters\n",
    "ff_model = BaseModel()\n",
    "ff_model.to(device)\n",
    "ff_model.load_state_dict(torch.load('trained_models/ff.pth', map_location=torch.device('cpu')))\n",
    "\n",
    "cnn_model = CNNModel(tw=100)\n",
    "cnn_model.to(device)\n",
    "cnn_model.load_state_dict(torch.load('trained_models/cnn.pth', map_location=torch.device('cpu')))\n",
    "\n",
    "lstm2_model = LSTMModel(device=device, n_features=2, n_hidden=64, n_outputs=1, sequence_len=100)\n",
    "lstm2_model.to(device)\n",
    "lstm2_model.load_state_dict(torch.load('trained_models/lstm2.pth', map_location=torch.device('cpu')))"
   ]
  },
  {
   "cell_type": "code",
   "execution_count": 5,
   "id": "1f063c57",
   "metadata": {},
   "outputs": [
    {
     "data": {
      "text/plain": [
       "(tensor(0.0053), tensor(0.0011), tensor(0.0052))"
      ]
     },
     "execution_count": 5,
     "metadata": {},
     "output_type": "execute_result"
    }
   ],
   "source": [
    "criterion = nn.MSELoss()\n",
    "\n",
    "def make_preds(model, test_loader, criterion):\n",
    "    model.eval()\n",
    "    predictions, actuals, test_losses = [], [], []\n",
    "    for x, y in test_loader:\n",
    "        with torch.no_grad():\n",
    "            x, y = x.to(device), y.to(device)\n",
    "            p = model(x).squeeze()\n",
    "            predictions.append(p)\n",
    "            actuals.append(y.squeeze())\n",
    "            loss = criterion(p, y.squeeze())\n",
    "            test_losses.append(loss)\n",
    "    predictions = torch.cat(predictions).cpu().numpy()\n",
    "    actuals = torch.cat(actuals).cpu().numpy()\n",
    "    test_loss = sum(test_losses) / len(test_losses)\n",
    "    return predictions.squeeze(), actuals, test_loss\n",
    "\n",
    "ff_preds, ff_actuals, ff_test_loss = make_preds(ff_model, test_loader_ff, criterion)\n",
    "lstm2_preds, lstm2_actuals, lstm2_test_loss = make_preds(lstm2_model, test_loader_lstm_cnn, criterion)\n",
    "cnn_preds, cnn_actuals, cnn_test_loss = make_preds(cnn_model, test_loader_lstm_cnn, criterion)\n",
    "\n",
    "ff_test_loss, lstm2_test_loss, cnn_test_loss"
   ]
  },
  {
   "cell_type": "code",
   "execution_count": 6,
   "id": "40d93c37",
   "metadata": {},
   "outputs": [
    {
     "data": {
      "text/plain": [
       "<BarContainer object of 3 artists>"
      ]
     },
     "execution_count": 6,
     "metadata": {},
     "output_type": "execute_result"
    },
    {
     "data": {
      "image/png": "[encoded data removed]",
      "text/plain": [
       "<Figure size 432x288 with 1 Axes>"
      ]
     },
     "metadata": {
      "needs_background": "light"
     },
     "output_type": "display_data"
    }
   ],
   "source": [
    "labels = ['Feed Forward','LSTM II', 'CNN']\n",
    "values = [ff_test_loss.item(), lstm2_test_loss.item() ,cnn_test_loss.item()]\n",
    "\n",
    "plt.bar(labels, values)"
   ]
  }
 ],
 "metadata": {
  "kernelspec": {
   "display_name": "Python 3",
   "language": "python",
   "name": "python3"
  },
  "language_info": {
   "codemirror_mode": {
    "name": "ipython",
    "version": 3
   },
   "file_extension": ".py",
   "mimetype": "text/x-python",
   "name": "python",
   "nbconvert_exporter": "python",
   "pygments_lexer": "ipython3",
   "version": "3.9.6"
  }
 },
 "nbformat": 4,
 "nbformat_minor": 5
}
